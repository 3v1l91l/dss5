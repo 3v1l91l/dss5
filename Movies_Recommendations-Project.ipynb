{
 "cells": [
  {
   "cell_type": "markdown",
   "metadata": {},
   "source": [
    "## Summaries\n",
    "\n",
    "1. Non-personalized\n",
    "2. Content based\n",
    "3. Collaborative filtering\n",
    "4. Hybrid\n",
    "\n",
    "Conclusion:\n",
    "\n"
   ]
  },
  {
   "cell_type": "code",
   "execution_count": 1,
   "metadata": {
    "collapsed": true
   },
   "outputs": [],
   "source": [
    "import os\n",
    "import json\n",
    "from time import time\n",
    "from ast import literal_eval\n",
    "\n",
    "import pandas as pd\n",
    "import numpy as np\n",
    "from scipy import stats\n",
    "from sklearn.feature_extraction.text import TfidfVectorizer, CountVectorizer\n",
    "from sklearn.metrics.pairwise import linear_kernel, cosine_similarity\n",
    "from nltk.stem.snowball import SnowballStemmer\n",
    "from nltk.stem.wordnet import WordNetLemmatizer\n",
    "from nltk.corpus import wordnet\n",
    "from surprise import Reader, Dataset, SVD, KNNBasic, evaluate\n",
    "from surprise.model_selection import cross_validate, train_test_split\n",
    "import warnings; warnings.simplefilter('ignore')\n",
    "import matplotlib.pyplot as plt\n",
    "import re\n",
    "%matplotlib inline\n",
    "import seaborn as sns"
   ]
  },
  {
   "cell_type": "markdown",
   "metadata": {},
   "source": [
    "## Added functions"
   ]
  },
  {
   "cell_type": "code",
   "execution_count": 2,
   "metadata": {
    "collapsed": true
   },
   "outputs": [],
   "source": [
    "def make_keyword(string):\n",
    "    return re.sub('[^a-z0-9]+', '', string.lower())\n",
    "\n",
    "def print_soup(df, title):\n",
    "    print('Soup for \"{}\": {}'.format(title, df[df['title'] == title]['soup'].values[0]))\n",
    "    \n",
    "def print_description(df, title):\n",
    "    print('Description for \"{}\": {}'.format(title, df[df['title'] == title]['description'].values[0]))"
   ]
  },
  {
   "cell_type": "code",
   "execution_count": 3,
   "metadata": {},
   "outputs": [
    {
     "data": {
      "text/html": [
       "<div>\n",
       "<style>\n",
       "    .dataframe thead tr:only-child th {\n",
       "        text-align: right;\n",
       "    }\n",
       "\n",
       "    .dataframe thead th {\n",
       "        text-align: left;\n",
       "    }\n",
       "\n",
       "    .dataframe tbody tr th {\n",
       "        vertical-align: top;\n",
       "    }\n",
       "</style>\n",
       "<table border=\"1\" class=\"dataframe\">\n",
       "  <thead>\n",
       "    <tr style=\"text-align: right;\">\n",
       "      <th></th>\n",
       "      <th>adult</th>\n",
       "      <th>belongs_to_collection</th>\n",
       "      <th>budget</th>\n",
       "      <th>homepage</th>\n",
       "      <th>id</th>\n",
       "      <th>imdb_id</th>\n",
       "      <th>original_language</th>\n",
       "      <th>original_title</th>\n",
       "      <th>overview</th>\n",
       "      <th>popularity</th>\n",
       "      <th>...</th>\n",
       "      <th>runtime</th>\n",
       "      <th>spoken_languages</th>\n",
       "      <th>status</th>\n",
       "      <th>tagline</th>\n",
       "      <th>title</th>\n",
       "      <th>video</th>\n",
       "      <th>vote_average</th>\n",
       "      <th>vote_count</th>\n",
       "      <th>year</th>\n",
       "      <th>genre</th>\n",
       "    </tr>\n",
       "  </thead>\n",
       "  <tbody>\n",
       "    <tr>\n",
       "      <th>0</th>\n",
       "      <td>False</td>\n",
       "      <td>{'id': 10194, 'name': 'Toy Story Collection', ...</td>\n",
       "      <td>30000000</td>\n",
       "      <td>http://toystory.disney.com/toy-story</td>\n",
       "      <td>862</td>\n",
       "      <td>tt0114709</td>\n",
       "      <td>en</td>\n",
       "      <td>Toy Story</td>\n",
       "      <td>Led by Woody, Andy's toys live happily in his ...</td>\n",
       "      <td>21.9469</td>\n",
       "      <td>...</td>\n",
       "      <td>81.0</td>\n",
       "      <td>[{'iso_639_1': 'en', 'name': 'English'}]</td>\n",
       "      <td>Released</td>\n",
       "      <td>NaN</td>\n",
       "      <td>Toy Story</td>\n",
       "      <td>False</td>\n",
       "      <td>7.7</td>\n",
       "      <td>5415.0</td>\n",
       "      <td>1995</td>\n",
       "      <td>Animation</td>\n",
       "    </tr>\n",
       "    <tr>\n",
       "      <th>0</th>\n",
       "      <td>False</td>\n",
       "      <td>{'id': 10194, 'name': 'Toy Story Collection', ...</td>\n",
       "      <td>30000000</td>\n",
       "      <td>http://toystory.disney.com/toy-story</td>\n",
       "      <td>862</td>\n",
       "      <td>tt0114709</td>\n",
       "      <td>en</td>\n",
       "      <td>Toy Story</td>\n",
       "      <td>Led by Woody, Andy's toys live happily in his ...</td>\n",
       "      <td>21.9469</td>\n",
       "      <td>...</td>\n",
       "      <td>81.0</td>\n",
       "      <td>[{'iso_639_1': 'en', 'name': 'English'}]</td>\n",
       "      <td>Released</td>\n",
       "      <td>NaN</td>\n",
       "      <td>Toy Story</td>\n",
       "      <td>False</td>\n",
       "      <td>7.7</td>\n",
       "      <td>5415.0</td>\n",
       "      <td>1995</td>\n",
       "      <td>Comedy</td>\n",
       "    </tr>\n",
       "    <tr>\n",
       "      <th>0</th>\n",
       "      <td>False</td>\n",
       "      <td>{'id': 10194, 'name': 'Toy Story Collection', ...</td>\n",
       "      <td>30000000</td>\n",
       "      <td>http://toystory.disney.com/toy-story</td>\n",
       "      <td>862</td>\n",
       "      <td>tt0114709</td>\n",
       "      <td>en</td>\n",
       "      <td>Toy Story</td>\n",
       "      <td>Led by Woody, Andy's toys live happily in his ...</td>\n",
       "      <td>21.9469</td>\n",
       "      <td>...</td>\n",
       "      <td>81.0</td>\n",
       "      <td>[{'iso_639_1': 'en', 'name': 'English'}]</td>\n",
       "      <td>Released</td>\n",
       "      <td>NaN</td>\n",
       "      <td>Toy Story</td>\n",
       "      <td>False</td>\n",
       "      <td>7.7</td>\n",
       "      <td>5415.0</td>\n",
       "      <td>1995</td>\n",
       "      <td>Family</td>\n",
       "    </tr>\n",
       "  </tbody>\n",
       "</table>\n",
       "<p>3 rows × 25 columns</p>\n",
       "</div>"
      ],
      "text/plain": [
       "   adult                              belongs_to_collection    budget  \\\n",
       "0  False  {'id': 10194, 'name': 'Toy Story Collection', ...  30000000   \n",
       "0  False  {'id': 10194, 'name': 'Toy Story Collection', ...  30000000   \n",
       "0  False  {'id': 10194, 'name': 'Toy Story Collection', ...  30000000   \n",
       "\n",
       "                               homepage   id    imdb_id original_language  \\\n",
       "0  http://toystory.disney.com/toy-story  862  tt0114709                en   \n",
       "0  http://toystory.disney.com/toy-story  862  tt0114709                en   \n",
       "0  http://toystory.disney.com/toy-story  862  tt0114709                en   \n",
       "\n",
       "  original_title                                           overview  \\\n",
       "0      Toy Story  Led by Woody, Andy's toys live happily in his ...   \n",
       "0      Toy Story  Led by Woody, Andy's toys live happily in his ...   \n",
       "0      Toy Story  Led by Woody, Andy's toys live happily in his ...   \n",
       "\n",
       "  popularity    ...     runtime                          spoken_languages  \\\n",
       "0    21.9469    ...        81.0  [{'iso_639_1': 'en', 'name': 'English'}]   \n",
       "0    21.9469    ...        81.0  [{'iso_639_1': 'en', 'name': 'English'}]   \n",
       "0    21.9469    ...        81.0  [{'iso_639_1': 'en', 'name': 'English'}]   \n",
       "\n",
       "     status tagline      title  video vote_average vote_count  year      genre  \n",
       "0  Released     NaN  Toy Story  False          7.7     5415.0  1995  Animation  \n",
       "0  Released     NaN  Toy Story  False          7.7     5415.0  1995     Comedy  \n",
       "0  Released     NaN  Toy Story  False          7.7     5415.0  1995     Family  \n",
       "\n",
       "[3 rows x 25 columns]"
      ]
     },
     "execution_count": 3,
     "metadata": {},
     "output_type": "execute_result"
    }
   ],
   "source": [
    "# load data\n",
    "meta_df = pd.read_csv('movies_metadata.csv')\n",
    "# parse genre feature\n",
    "meta_df['genres'] = meta_df['genres'].fillna('[]').apply(literal_eval).apply(lambda x: [i['name'] for i in x] if isinstance(x, list) else [])\n",
    "# parse date\n",
    "meta_df['year'] = pd.to_datetime(meta_df['release_date'], errors='coerce').apply(lambda x: str(x).split('-')[0] if x != np.nan else np.nan)\n",
    "# stack genre and add it to dataframe again\n",
    "stacked_genre_df = meta_df.apply(lambda x: pd.Series(x['genres']),axis=1).stack().reset_index(level=1, drop=True)\n",
    "stacked_genre_df.name = 'genre'\n",
    "stacked_genre_df = meta_df.drop('genres', axis=1).join(stacked_genre_df)\n",
    "stacked_genre_df.head(3)"
   ]
  },
  {
   "cell_type": "markdown",
   "metadata": {},
   "source": [
    "## Non-personalized recommendations\n",
    "\n",
    "__ToDo__: Implement non-personalized recommendations which will return top 10 movies for a genre.\n",
    "Come up with specific average ratio, and use it to rank videos.\n",
    "(Use video_count, video_average features from meta_df dataframe)\n"
   ]
  },
  {
   "cell_type": "markdown",
   "metadata": {},
   "source": [
    "IMDB weighted rating is used:\n",
    "\n",
    "Weighted Rating = $(\\frac{v}{v + m} . R) + (\\frac{m}{v + m} . C)$\n",
    "\n",
    "where,\n",
    "* *v* is the number of votes for the movie\n",
    "* *m* is the minimum votes required to be listed in the chart\n",
    "* *R* is the average rating of the movie\n",
    "* *C* is the mean vote across the whole report"
   ]
  },
  {
   "cell_type": "code",
   "execution_count": 4,
   "metadata": {
    "collapsed": true
   },
   "outputs": [],
   "source": [
    "def get_weighted_rating(v, m, R, C):\n",
    "    return (v / (v + m) * R) + (m / (v + m) * C)\n",
    "\n",
    "def get_genre_nonpersonalized_recommendations(df, genre, percentile=0.85):\n",
    "    genre_df = df[df['genre'] == genre].copy()\n",
    "    C = genre_df['vote_average'].mean()\n",
    "    m = genre_df['vote_count'].quantile(percentile)\n",
    "    genre_df = genre_df[genre_df['vote_count'] > m]\n",
    "    genre_df['weighted_rating'] = genre_df.apply(\n",
    "        lambda x: get_weighted_rating(x['vote_count'], m, x['vote_average'], C), axis=1)\n",
    "    return genre_df.nlargest(10, 'weighted_rating')[['title', 'year']]"
   ]
  },
  {
   "cell_type": "code",
   "execution_count": 5,
   "metadata": {},
   "outputs": [
    {
     "data": {
      "text/html": [
       "<div>\n",
       "<style>\n",
       "    .dataframe thead tr:only-child th {\n",
       "        text-align: right;\n",
       "    }\n",
       "\n",
       "    .dataframe thead th {\n",
       "        text-align: left;\n",
       "    }\n",
       "\n",
       "    .dataframe tbody tr th {\n",
       "        vertical-align: top;\n",
       "    }\n",
       "</style>\n",
       "<table border=\"1\" class=\"dataframe\">\n",
       "  <thead>\n",
       "    <tr style=\"text-align: right;\">\n",
       "      <th></th>\n",
       "      <th>title</th>\n",
       "      <th>year</th>\n",
       "    </tr>\n",
       "  </thead>\n",
       "  <tbody>\n",
       "    <tr>\n",
       "      <th>10309</th>\n",
       "      <td>Dilwale Dulhania Le Jayenge</td>\n",
       "      <td>1995</td>\n",
       "    </tr>\n",
       "    <tr>\n",
       "      <th>2211</th>\n",
       "      <td>Life Is Beautiful</td>\n",
       "      <td>1997</td>\n",
       "    </tr>\n",
       "    <tr>\n",
       "      <th>351</th>\n",
       "      <td>Forrest Gump</td>\n",
       "      <td>1994</td>\n",
       "    </tr>\n",
       "    <tr>\n",
       "      <th>18465</th>\n",
       "      <td>The Intouchables</td>\n",
       "      <td>2011</td>\n",
       "    </tr>\n",
       "    <tr>\n",
       "      <th>1225</th>\n",
       "      <td>Back to the Future</td>\n",
       "      <td>1985</td>\n",
       "    </tr>\n",
       "    <tr>\n",
       "      <th>22841</th>\n",
       "      <td>The Grand Budapest Hotel</td>\n",
       "      <td>2014</td>\n",
       "    </tr>\n",
       "    <tr>\n",
       "      <th>22131</th>\n",
       "      <td>The Wolf of Wall Street</td>\n",
       "      <td>2013</td>\n",
       "    </tr>\n",
       "    <tr>\n",
       "      <th>30315</th>\n",
       "      <td>Inside Out</td>\n",
       "      <td>2015</td>\n",
       "    </tr>\n",
       "    <tr>\n",
       "      <th>40882</th>\n",
       "      <td>La La Land</td>\n",
       "      <td>2016</td>\n",
       "    </tr>\n",
       "    <tr>\n",
       "      <th>732</th>\n",
       "      <td>Dr. Strangelove or: How I Learned to Stop Worr...</td>\n",
       "      <td>1964</td>\n",
       "    </tr>\n",
       "  </tbody>\n",
       "</table>\n",
       "</div>"
      ],
      "text/plain": [
       "                                                   title  year\n",
       "10309                        Dilwale Dulhania Le Jayenge  1995\n",
       "2211                                   Life Is Beautiful  1997\n",
       "351                                         Forrest Gump  1994\n",
       "18465                                   The Intouchables  2011\n",
       "1225                                  Back to the Future  1985\n",
       "22841                           The Grand Budapest Hotel  2014\n",
       "22131                            The Wolf of Wall Street  2013\n",
       "30315                                         Inside Out  2015\n",
       "40882                                         La La Land  2016\n",
       "732    Dr. Strangelove or: How I Learned to Stop Worr...  1964"
      ]
     },
     "execution_count": 5,
     "metadata": {},
     "output_type": "execute_result"
    }
   ],
   "source": [
    "get_genre_nonpersonalized_recommendations(stacked_genre_df, 'Comedy')"
   ]
  },
  {
   "cell_type": "code",
   "execution_count": 6,
   "metadata": {},
   "outputs": [
    {
     "data": {
      "text/html": [
       "<div>\n",
       "<style>\n",
       "    .dataframe thead tr:only-child th {\n",
       "        text-align: right;\n",
       "    }\n",
       "\n",
       "    .dataframe thead th {\n",
       "        text-align: left;\n",
       "    }\n",
       "\n",
       "    .dataframe tbody tr th {\n",
       "        vertical-align: top;\n",
       "    }\n",
       "</style>\n",
       "<table border=\"1\" class=\"dataframe\">\n",
       "  <thead>\n",
       "    <tr style=\"text-align: right;\">\n",
       "      <th></th>\n",
       "      <th>title</th>\n",
       "      <th>year</th>\n",
       "    </tr>\n",
       "  </thead>\n",
       "  <tbody>\n",
       "    <tr>\n",
       "      <th>5481</th>\n",
       "      <td>Spirited Away</td>\n",
       "      <td>2001</td>\n",
       "    </tr>\n",
       "    <tr>\n",
       "      <th>40251</th>\n",
       "      <td>Your Name.</td>\n",
       "      <td>2016</td>\n",
       "    </tr>\n",
       "    <tr>\n",
       "      <th>9698</th>\n",
       "      <td>Howl's Moving Castle</td>\n",
       "      <td>2004</td>\n",
       "    </tr>\n",
       "    <tr>\n",
       "      <th>2884</th>\n",
       "      <td>Princess Mononoke</td>\n",
       "      <td>1997</td>\n",
       "    </tr>\n",
       "    <tr>\n",
       "      <th>359</th>\n",
       "      <td>The Lion King</td>\n",
       "      <td>1994</td>\n",
       "    </tr>\n",
       "    <tr>\n",
       "      <th>30315</th>\n",
       "      <td>Inside Out</td>\n",
       "      <td>2015</td>\n",
       "    </tr>\n",
       "    <tr>\n",
       "      <th>5553</th>\n",
       "      <td>Grave of the Fireflies</td>\n",
       "      <td>1988</td>\n",
       "    </tr>\n",
       "    <tr>\n",
       "      <th>5833</th>\n",
       "      <td>My Neighbor Totoro</td>\n",
       "      <td>1988</td>\n",
       "    </tr>\n",
       "    <tr>\n",
       "      <th>13724</th>\n",
       "      <td>Up</td>\n",
       "      <td>2009</td>\n",
       "    </tr>\n",
       "    <tr>\n",
       "      <th>12704</th>\n",
       "      <td>WALL·E</td>\n",
       "      <td>2008</td>\n",
       "    </tr>\n",
       "  </tbody>\n",
       "</table>\n",
       "</div>"
      ],
      "text/plain": [
       "                        title  year\n",
       "5481            Spirited Away  2001\n",
       "40251              Your Name.  2016\n",
       "9698     Howl's Moving Castle  2004\n",
       "2884        Princess Mononoke  1997\n",
       "359             The Lion King  1994\n",
       "30315              Inside Out  2015\n",
       "5553   Grave of the Fireflies  1988\n",
       "5833       My Neighbor Totoro  1988\n",
       "13724                      Up  2009\n",
       "12704                  WALL·E  2008"
      ]
     },
     "execution_count": 6,
     "metadata": {},
     "output_type": "execute_result"
    }
   ],
   "source": [
    "get_genre_nonpersonalized_recommendations(stacked_genre_df, 'Animation')"
   ]
  },
  {
   "cell_type": "code",
   "execution_count": 7,
   "metadata": {},
   "outputs": [
    {
     "data": {
      "text/html": [
       "<div>\n",
       "<style>\n",
       "    .dataframe thead tr:only-child th {\n",
       "        text-align: right;\n",
       "    }\n",
       "\n",
       "    .dataframe thead th {\n",
       "        text-align: left;\n",
       "    }\n",
       "\n",
       "    .dataframe tbody tr th {\n",
       "        vertical-align: top;\n",
       "    }\n",
       "</style>\n",
       "<table border=\"1\" class=\"dataframe\">\n",
       "  <thead>\n",
       "    <tr style=\"text-align: right;\">\n",
       "      <th></th>\n",
       "      <th>title</th>\n",
       "      <th>year</th>\n",
       "    </tr>\n",
       "  </thead>\n",
       "  <tbody>\n",
       "    <tr>\n",
       "      <th>5481</th>\n",
       "      <td>Spirited Away</td>\n",
       "      <td>2001</td>\n",
       "    </tr>\n",
       "    <tr>\n",
       "      <th>1225</th>\n",
       "      <td>Back to the Future</td>\n",
       "      <td>1985</td>\n",
       "    </tr>\n",
       "    <tr>\n",
       "      <th>359</th>\n",
       "      <td>The Lion King</td>\n",
       "      <td>1994</td>\n",
       "    </tr>\n",
       "    <tr>\n",
       "      <th>30315</th>\n",
       "      <td>Inside Out</td>\n",
       "      <td>2015</td>\n",
       "    </tr>\n",
       "    <tr>\n",
       "      <th>17437</th>\n",
       "      <td>Harry Potter and the Deathly Hallows: Part 2</td>\n",
       "      <td>2011</td>\n",
       "    </tr>\n",
       "    <tr>\n",
       "      <th>13724</th>\n",
       "      <td>Up</td>\n",
       "      <td>2009</td>\n",
       "    </tr>\n",
       "    <tr>\n",
       "      <th>12704</th>\n",
       "      <td>WALL·E</td>\n",
       "      <td>2008</td>\n",
       "    </tr>\n",
       "    <tr>\n",
       "      <th>24455</th>\n",
       "      <td>Big Hero 6</td>\n",
       "      <td>2014</td>\n",
       "    </tr>\n",
       "    <tr>\n",
       "      <th>5833</th>\n",
       "      <td>My Neighbor Totoro</td>\n",
       "      <td>1988</td>\n",
       "    </tr>\n",
       "    <tr>\n",
       "      <th>7725</th>\n",
       "      <td>Harry Potter and the Prisoner of Azkaban</td>\n",
       "      <td>2004</td>\n",
       "    </tr>\n",
       "  </tbody>\n",
       "</table>\n",
       "</div>"
      ],
      "text/plain": [
       "                                              title  year\n",
       "5481                                  Spirited Away  2001\n",
       "1225                             Back to the Future  1985\n",
       "359                                   The Lion King  1994\n",
       "30315                                    Inside Out  2015\n",
       "17437  Harry Potter and the Deathly Hallows: Part 2  2011\n",
       "13724                                            Up  2009\n",
       "12704                                        WALL·E  2008\n",
       "24455                                    Big Hero 6  2014\n",
       "5833                             My Neighbor Totoro  1988\n",
       "7725       Harry Potter and the Prisoner of Azkaban  2004"
      ]
     },
     "execution_count": 7,
     "metadata": {},
     "output_type": "execute_result"
    }
   ],
   "source": [
    "get_genre_nonpersonalized_recommendations(stacked_genre_df, 'Family')"
   ]
  },
  {
   "cell_type": "markdown",
   "metadata": {},
   "source": [
    "## Item-item content based recommendations\n",
    "\n",
    "__ToDo__: implement functions to perform item-item description based recommendations"
   ]
  },
  {
   "cell_type": "code",
   "execution_count": 8,
   "metadata": {},
   "outputs": [
    {
     "data": {
      "text/plain": [
       "(9099, 25)"
      ]
     },
     "execution_count": 8,
     "metadata": {},
     "output_type": "execute_result"
    }
   ],
   "source": [
    "# load ID from smaller set\n",
    "links_small = pd.read_csv('links_small.csv')\n",
    "links_small = links_small[links_small['tmdbId'].notnull()]['tmdbId'].astype('int')\n",
    "# drop rows with broken ID values\n",
    "meta_df = meta_df.drop([19730, 29503, 35587])\n",
    "# parse movie ID to int\n",
    "meta_df['id'] = meta_df['id'].astype('int')\n",
    "# create small dataframe\n",
    "small_meta_df = meta_df[meta_df['id'].isin(links_small)]\n",
    "small_meta_df.shape"
   ]
  },
  {
   "cell_type": "code",
   "execution_count": 9,
   "metadata": {},
   "outputs": [
    {
     "data": {
      "text/plain": [
       "0    Led by Woody, Andy's toys live happily in his ...\n",
       "1    When siblings Judy and Peter discover an encha...\n",
       "2    A family wedding reignites the ancient feud be...\n",
       "3    Cheated on, mistreated and stepped on, the wom...\n",
       "4    Just when George Banks has recovered from his ...\n",
       "Name: description, dtype: object"
      ]
     },
     "execution_count": 9,
     "metadata": {},
     "output_type": "execute_result"
    }
   ],
   "source": [
    "# create descriptions\n",
    "small_meta_df['tagline'] = small_meta_df['tagline'].fillna('')\n",
    "small_meta_df['description'] = small_meta_df['overview'] + small_meta_df['tagline']\n",
    "small_meta_df['description'] = small_meta_df['description'].fillna('')\n",
    "small_meta_df['description'].head()"
   ]
  },
  {
   "cell_type": "code",
   "execution_count": 10,
   "metadata": {
    "collapsed": true
   },
   "outputs": [],
   "source": [
    "def create_cosine_matrix(df):\n",
    "    tfidf = TfidfVectorizer()\n",
    "    descriptions = tfidf.fit_transform(df['description']).todense()\n",
    "    \n",
    "    return linear_kernel(descriptions, descriptions)\n",
    "\n",
    "def get_item_content_recommendations(df, cosine_sim, title, top_n=None):\n",
    "    if top_n == None:\n",
    "        top_n = len(cosine_sim)\n",
    "    top_n = min(top_n,len(cosine_sim))\n",
    "\n",
    "    np.fill_diagonal(cosine_sim, 0)\n",
    "    index = np.where((df['title'] == title).values)\n",
    "    similarity_indexes_sorted_asc = np.argsort(np.squeeze(cosine_sim[index,:]))\n",
    "    \n",
    "    top_indexes_desc = np.flip(similarity_indexes_sorted_asc[-top_n:], axis=0)\n",
    "     \n",
    "    return df.iloc[top_indexes_desc]['title']"
   ]
  },
  {
   "cell_type": "code",
   "execution_count": 11,
   "metadata": {},
   "outputs": [],
   "source": [
    "cosine_matrix = create_cosine_matrix(small_meta_df)"
   ]
  },
  {
   "cell_type": "code",
   "execution_count": 12,
   "metadata": {},
   "outputs": [
    {
     "data": {
      "text/plain": [
       "15348                    Toy Story 3\n",
       "2997                     Toy Story 2\n",
       "10301         The 40 Year Old Virgin\n",
       "3057                 Man on the Moon\n",
       "1071           Rebel Without a Cause\n",
       "6435          What's Up, Tiger Lily?\n",
       "11606                   Factory Girl\n",
       "11399         For Your Consideration\n",
       "1199                       Manhattan\n",
       "1932                       Condorman\n",
       "448                For Love or Money\n",
       "6944                Rivers and Tides\n",
       "7254                  Africa Screams\n",
       "485                           Malice\n",
       "10585                    Match Point\n",
       "9963                   Life Is Sweet\n",
       "2157               Indecent Proposal\n",
       "3756     The Ballad of Ramblin' Jack\n",
       "21190     Woody Allen: A Documentary\n",
       "2635                      Radio Days\n",
       "Name: title, dtype: object"
      ]
     },
     "execution_count": 12,
     "metadata": {},
     "output_type": "execute_result"
    }
   ],
   "source": [
    "recommendations = get_item_content_recommendations(small_meta_df, cosine_matrix, 'Toy Story', top_n=20)\n",
    "recommendations"
   ]
  },
  {
   "cell_type": "markdown",
   "metadata": {},
   "source": [
    "#### Recommendation for \"Toy Story\" does not exactly match what was expected. It is mainly used name Andy to get similar movies.\n",
    "#### Which resulted in suggestion \"The 40 Year Old Virgin\" which is unappropriate"
   ]
  },
  {
   "cell_type": "code",
   "execution_count": 13,
   "metadata": {},
   "outputs": [
    {
     "name": "stdout",
     "output_type": "stream",
     "text": [
      "Description for \"Toy Story\": Led by Woody, Andy's toys live happily in his room until Andy's birthday brings Buzz Lightyear onto the scene. Afraid of losing his place in Andy's heart, Woody plots against Buzz. But when circumstances separate Buzz and Woody from their owner, the duo eventually learns to put aside their differences.\n",
      "Description for \"Toy Story 3\": Woody, Buzz, and the rest of Andy's toys haven't been played with in years. With Andy about to go to college, the gang find themselves accidentally left at a nefarious day care center. The toys must band together to escape and return home to Andy.No toy gets left behind.\n",
      "Description for \"Toy Story 2\": Andy heads off to Cowboy Camp, leaving his toys to their own devices. Things shift into high gear when an obsessive toy collector named Al McWhiggen, owner of Al's Toy Barn kidnaps Woody. Andy's toys mount a daring rescue mission, Buzz Lightyear meets his match and Woody has to decide where he and his heart truly belong.The toys are back!\n",
      "Description for \"The 40 Year Old Virgin\": Andy Stitzer has a pleasant life with a nice apartment and a job stamping invoices at an electronics store. But at age 40, there's one thing Andy hasn't done, and it's really bothering his sex-obsessed male co-workers: Andy is still a virgin. Determined to help Andy get laid, the guys make it their mission to de-virginize him. But it all seems hopeless until Andy meets small business owner Trish, a single mom.The longer you wait, the harder it gets\n",
      "Description for \"Man on the Moon\": A film about the life and career of the eccentric avant-garde comedian, Andy Kaufman.Hello, my name is Andy and this is my movie.\n",
      "Description for \"Rebel Without a Cause\": After moving to a new town, troublemaking teen Jim Stark is supposed to have a clean slate, although being the new kid in town brings its own problems. While searching for some stability, Stark forms a bond with a disturbed classmate, Plato, and falls for local girl Judy. However, Judy is the girlfriend of neighborhood tough, Buzz. When Buzz violently confronts Jim and challenges him to a drag race, the new kid's real troubles begin.The bad boy from a good family.\n"
     ]
    }
   ],
   "source": [
    "print_description(small_meta_df, 'Toy Story')\n",
    "for recommendation_title in recommendations.values[:5]:\n",
    "    print_description(small_meta_df, recommendation_title)"
   ]
  },
  {
   "cell_type": "code",
   "execution_count": 14,
   "metadata": {},
   "outputs": [
    {
     "data": {
      "text/plain": [
       "565         Wide Eyed and Legless\n",
       "3500            The Twelve Chairs\n",
       "22676                Wonder Woman\n",
       "3791                    Girlfight\n",
       "6178                      The Wiz\n",
       "0                       Toy Story\n",
       "3371         The Son of the Sheik\n",
       "7341             In This Our Life\n",
       "6159                        Holes\n",
       "1841     In the Heat of the Night\n",
       "2516                     Besieged\n",
       "12449               The Love Guru\n",
       "22497             The Other Shore\n",
       "8259                  The Bellboy\n",
       "920                My Man Godfrey\n",
       "39       Cry, the Beloved Country\n",
       "1004        The Fox and the Hound\n",
       "5831                    My Girl 2\n",
       "907           Father of the Bride\n",
       "20619                    The Call\n",
       "Name: title, dtype: object"
      ]
     },
     "execution_count": 14,
     "metadata": {},
     "output_type": "execute_result"
    }
   ],
   "source": [
    "recommendations = get_item_content_recommendations(small_meta_df, cosine_matrix, 'Africa Screams', top_n=20)\n",
    "recommendations"
   ]
  },
  {
   "cell_type": "code",
   "execution_count": 15,
   "metadata": {},
   "outputs": [
    {
     "name": "stdout",
     "output_type": "stream",
     "text": [
      "Description for \"Africa Screams\": When bookseller Buzz cons Diana into thinking that his friend Stanley knows all there is to know about Africa, they are abducted and ordered to lead Diana and her henchmen to an African tribe in search of a fortune in jewels.A Zany, Hilarious Romp!\n",
      "Description for \"Wide Eyed and Legless\": Diana and Deric have an ideal marriage: they thrive in each other's company, they're funny, and they enjoy their two grown children and Deric's dotty mother; the trouble is, Diana can no longer walk and her malady defies medical diagnosis. To care for Diana, Deric is letting his business slide, but at a civic luncheon, he is seated next to Aileen Armitage, a novelist who is blind. They have a nice time, and on the sly, Diana contacts Aileen to made an odd request. Diana's declining health and her resolve bring this triangle of unlikely friends to a surprising place.\n",
      "Description for \"The Twelve Chairs\": A treasure hunt. An aging ex-nobleman of the Czarist regime has finally adjusted to life under the commisars in Russia. Both he and the local priest find that the family jewels were hidden in a chair, one of a set of twelve. They return separately to Moscow to find the hidden fortune.A wild and hilarious chase for a fortune in jewels.\n",
      "Description for \"Wonder Woman\": On the mystical island of Themyscira, a proud and fierce warrior race of Amazons have raised a daughter of untold beauty, grace and strength: Princess Diana. When an Army fighter pilot, Steve Trevor, crash-lands on the island, the rebellious and headstrong Diana defies Amazonian law by accompanying Trevor back to civilization.Courageous princess. Fierce warrior. Legendary superhero.\n",
      "Description for \"Girlfight\": Diana Guzman begins to train as a boxer and achieves impressive success, blazing new trails for female boxers, all while keeping it a secret from her father.Prove them wrong.\n",
      "Description for \"The Wiz\": A Thanksgiving dinner brings a host of family together in a Harlem apartment, where a 24-year-old schoolteacher named Dorothy Gale (Diana Ross) lives with her Aunt Em (Theresa Merritt) and Uncle Henry (Stanley Greene). Extremely introverted, she has, as Aunt Em teases her, \"never been south of 125th Street\", and refuses to move out and on with her life.From the book that's an American tradition… from the smash-hit Broadway show… the entertainment of the year!\n"
     ]
    }
   ],
   "source": [
    "print_description(small_meta_df, 'Africa Screams')\n",
    "for recommendation_title in recommendations.values[:5]:\n",
    "    print_description(small_meta_df, recommendation_title)"
   ]
  },
  {
   "cell_type": "markdown",
   "metadata": {},
   "source": [
    "__ToDo__: implement functions to perform item-item keywords based recommendations"
   ]
  },
  {
   "cell_type": "code",
   "execution_count": 16,
   "metadata": {},
   "outputs": [
    {
     "data": {
      "text/plain": [
       "(9219, 28)"
      ]
     },
     "execution_count": 16,
     "metadata": {},
     "output_type": "execute_result"
    }
   ],
   "source": [
    "# load credits and keywords data\n",
    "credits = pd.read_csv('credits.csv')\n",
    "keywords = pd.read_csv('keywords.csv')\n",
    "# parse ID\n",
    "keywords['id'] = keywords['id'].astype('int')\n",
    "credits['id'] = credits['id'].astype('int')\n",
    "meta_df['id'] = meta_df['id'].astype('int')\n",
    "# merge existing dataframe with credits and keywords\n",
    "meta_df = meta_df.merge(credits, on='id')\n",
    "meta_df = meta_df.merge(keywords, on='id')\n",
    "# take only small subset\n",
    "small_meta_df = meta_df[meta_df['id'].isin(links_small)]\n",
    "small_meta_df.shape"
   ]
  },
  {
   "cell_type": "markdown",
   "metadata": {},
   "source": [
    "### <font color='green'>Used a proper keyword-making function so that they are consistent (for cast, director, etc.)</font>"
   ]
  },
  {
   "cell_type": "code",
   "execution_count": 17,
   "metadata": {
    "collapsed": true
   },
   "outputs": [],
   "source": [
    "# convert parse to json and keep top 3 from cast\n",
    "small_meta_df['cast'] = small_meta_df['cast'].apply(literal_eval)\n",
    "small_meta_df['cast'] = small_meta_df['cast'].apply(lambda x: [i['name'] for i in x] if isinstance(x, list) else [])\n",
    "small_meta_df['cast'] = small_meta_df['cast'].apply(lambda x: x[:3] if len(x) >=3 else x)\n",
    "\n",
    "# join cast name and surname\n",
    "small_meta_df['cast'] = small_meta_df['cast'].apply(lambda cast: [make_keyword(x) for x in cast])\n",
    "\n",
    "# parse crew\n",
    "small_meta_df['crew'] = small_meta_df['crew'].apply(literal_eval)\n",
    "\n",
    "# measure cast and crew sizes\n",
    "small_meta_df['cast_size'] = small_meta_df['cast'].apply(lambda x: len(x))\n",
    "small_meta_df['crew_size'] = small_meta_df['crew'].apply(lambda x: len(x))"
   ]
  },
  {
   "cell_type": "markdown",
   "metadata": {},
   "source": [
    "### <font color='green'>Fixed a bug</font> \n",
    "In get director() -- in list comprehension director of the first movie was always taken"
   ]
  },
  {
   "cell_type": "code",
   "execution_count": 18,
   "metadata": {
    "collapsed": true
   },
   "outputs": [],
   "source": [
    "# find director\n",
    "def get_director(crew):\n",
    "    names = [x['name'] for x in crew if x['job']=='Director']\n",
    "    return np.nan if not names else names[0]\n",
    "\n",
    "small_meta_df['director'] = small_meta_df['crew'].apply(get_director)\n",
    "\n",
    "small_meta_df['director'] = small_meta_df['director'].astype('str').apply(make_keyword)\n",
    "small_meta_df['director'] = small_meta_df['director'].apply(lambda x: [x, x, x])"
   ]
  },
  {
   "cell_type": "markdown",
   "metadata": {},
   "source": [
    "### <font color='green'>Fixed the bugs:\n",
    "1. In filtering keywords -- intersection was done on words which were a result of value_counts(). Should be: words = words.index.values\n",
    "2. Stemmer was never initialized (it was done after the usage actually) and it did not crash because keywords were\n",
    "always empty ([stemmer.stem(i) for i in x])</font> "
   ]
  },
  {
   "cell_type": "code",
   "execution_count": 19,
   "metadata": {
    "collapsed": true
   },
   "outputs": [],
   "source": [
    "def filter_keywords(x):\n",
    "    return list(set(x).intersection(words))\n",
    "\n",
    "small_meta_df['keywords'] = small_meta_df['keywords'].apply(literal_eval)\n",
    "small_meta_df['keywords'] = small_meta_df['keywords'].apply(lambda x: [i['name'] for i in x] if isinstance(x, list) else [])\n",
    "\n",
    "# keep only frequent words\n",
    "words = small_meta_df.apply(lambda x: pd.Series(x['keywords']),axis=1).stack().reset_index(level=1, drop=True)\n",
    "words.name = 'keyword'\n",
    "words = words.value_counts()\n",
    "words = words[words > 1]\n",
    "words = words.index.values\n",
    "\n",
    "# create stemmer\n",
    "stemmer = SnowballStemmer('english')\n",
    "\n",
    "# filter keywords\n",
    "small_meta_df['keywords'] = small_meta_df['keywords'].apply(filter_keywords)\n",
    "small_meta_df['keywords'] = small_meta_df['keywords'].apply(lambda x: [stemmer.stem(i) for i in x])\n",
    "small_meta_df['keywords'] = small_meta_df['keywords'].apply(lambda x: [make_keyword(i) for i in x])"
   ]
  },
  {
   "cell_type": "code",
   "execution_count": 20,
   "metadata": {
    "collapsed": true
   },
   "outputs": [],
   "source": [
    "small_meta_df['soup'] = small_meta_df['keywords'] + small_meta_df['cast'] + small_meta_df['director'] + small_meta_df['genres']\n",
    "small_meta_df['soup'] = small_meta_df['soup'].apply(lambda x: ' '.join(x))"
   ]
  },
  {
   "cell_type": "code",
   "execution_count": 21,
   "metadata": {
    "collapsed": true
   },
   "outputs": [],
   "source": [
    "def create_cosine_matrix_for_words(df):\n",
    "    # use CountVectorizer and cosine_similarity\n",
    "    stemmed = df['soup'].apply(lambda sentence: ' '.join([stemmer.stem(word) for word in (sentence).split()]))\n",
    "    vectorizer = CountVectorizer()\n",
    "    count_vectorized = vectorizer.fit_transform(stemmed)\n",
    "    cosine_matrix = cosine_similarity(count_vectorized, count_vectorized)\n",
    "    return cosine_matrix"
   ]
  },
  {
   "cell_type": "code",
   "execution_count": 22,
   "metadata": {},
   "outputs": [],
   "source": [
    "cosine_matrix = create_cosine_matrix_for_words(small_meta_df)"
   ]
  },
  {
   "cell_type": "code",
   "execution_count": 23,
   "metadata": {},
   "outputs": [
    {
     "data": {
      "text/plain": [
       "3024                          Toy Story 2\n",
       "10754                            Luxo Jr.\n",
       "17551                              Cars 2\n",
       "2262                         A Bug's Life\n",
       "11074                                Cars\n",
       "15519                         Toy Story 3\n",
       "22126                Toy Story of Terror!\n",
       "5394                      Stuart Little 2\n",
       "3336                    Creature Comforts\n",
       "4797                       Monsters, Inc.\n",
       "5303     Spirit: Stallion of the Cimarron\n",
       "22915                      The Lego Movie\n",
       "1034                   That Thing You Do!\n",
       "11836                  Meet the Robinsons\n",
       "17484                        Larry Crowne\n",
       "9883                   Once Upon a Forest\n",
       "589                             Pinocchio\n",
       "30525                          Inside Out\n",
       "11553                     Charlotte's Web\n",
       "21580                        The Smurfs 2\n",
       "Name: title, dtype: object"
      ]
     },
     "execution_count": 23,
     "metadata": {},
     "output_type": "execute_result"
    }
   ],
   "source": [
    "recommendations = get_item_content_recommendations(small_meta_df, cosine_matrix, 'Toy Story', top_n=20)\n",
    "recommendations"
   ]
  },
  {
   "cell_type": "markdown",
   "metadata": {},
   "source": [
    "### Here we have much better suggestion of kids movies. All thanks to 'soup'!"
   ]
  },
  {
   "cell_type": "code",
   "execution_count": 25,
   "metadata": {},
   "outputs": [
    {
     "name": "stdout",
     "output_type": "stream",
     "text": [
      "Soup for \"Toy Story\": boynextdoor rivalri newtoy friend friendship toy toycomestolif boy jealousi tomhanks timallen donrickles johnlasseter johnlasseter johnlasseter Animation Comedy Family\n",
      "Soup for \"Toy Story 2\": museum rescueteam prosecut teamwork identitycrisi personif garagesal airplan friendship duringcreditssting toycomestolif collector inanimateobjectscomingtolif tomhanks timallen joancusack johnlasseter johnlasseter johnlasseter Animation Comedy Family\n",
      "Soup for \"Luxo Jr.\": short johnlasseter johnlasseter johnlasseter Animation\n",
      "Soup for \"Cars 2\": sequel comedi bestfriend duringcreditssting anthropomorph carrac owenwilson larrythecableguy michaelcaine johnlasseter johnlasseter johnlasseter Animation Family Adventure Comedy\n",
      "Soup for \"A Bug's Life\": invent grass fight anthil duringcreditssting kidsandfamili collector ant winter kevinspacey julialouisdreyfus haydenpanettiere johnlasseter johnlasseter johnlasseter Adventure Animation Comedy Family\n",
      "Soup for \"Cars\": carjourney ruralset roadmovi retir media friendship route66 aftercreditssting duringcreditssting sport anthropomorph auto losangel carrac owenwilson paulnewman bonniehunt johnlasseter johnlasseter johnlasseter Animation Adventure Comedy Family\n"
     ]
    }
   ],
   "source": [
    "print_soup(small_meta_df, 'Toy Story')\n",
    "for recommendation_title in recommendations.values[:5]:\n",
    "    print_soup(small_meta_df, recommendation_title)"
   ]
  },
  {
   "cell_type": "code",
   "execution_count": 26,
   "metadata": {},
   "outputs": [
    {
     "data": {
      "text/plain": [
       "3831          Abbott and Costello Meet Frankenstein\n",
       "1008                                 The Shaggy Dog\n",
       "4678             Abbott and Costello Meet the Mummy\n",
       "9694     Abbott and Costello Meet the Invisible Man\n",
       "2708                                     Funny Farm\n",
       "6330                   Animals Are Beautiful People\n",
       "1145                                Mina Tannenbaum\n",
       "4964                                       Blankman\n",
       "14705               Did You Hear About the Morgans?\n",
       "23617                                       Blended\n",
       "28885                                   The Cobbler\n",
       "20517                                      Movie 43\n",
       "7528                          School for Scoundrels\n",
       "9360                                   A Dog's Will\n",
       "6582                               The Pink Panther\n",
       "1072                                 The Great Race\n",
       "18                   Ace Ventura: When Nature Calls\n",
       "5341                                        Caveman\n",
       "4616                                        Hatari!\n",
       "5404                                    The Big Bus\n",
       "Name: title, dtype: object"
      ]
     },
     "execution_count": 26,
     "metadata": {},
     "output_type": "execute_result"
    }
   ],
   "source": [
    "recommendations = get_item_content_recommendations(small_meta_df, cosine_matrix, 'Africa Screams', top_n=20)\n",
    "recommendations"
   ]
  },
  {
   "cell_type": "code",
   "execution_count": 27,
   "metadata": {},
   "outputs": [
    {
     "name": "stdout",
     "output_type": "stream",
     "text": [
      "Soup for \"Africa Screams\": africa slapstick budabbott loucostello clydebeatty charlesbarton charlesbarton charlesbarton Comedy\n",
      "Soup for \"Abbott and Costello Meet Frankenstein\": dracula frankenstein horrorspoof budabbott loucostello lonchaneyjr charlesbarton charlesbarton charlesbarton Comedy Horror\n",
      "Soup for \"The Shaggy Dog\": dog magic fredmacmurray jeanhagen tommykirk charlesbarton charlesbarton charlesbarton Comedy Family\n",
      "Soup for \"Abbott and Costello Meet the Mummy\": mummi slapstick budabbott loucostello mariewindsor charleslamont charleslamont charleslamont Comedy\n",
      "Soup for \"Abbott and Costello Meet the Invisible Man\": invis horrorspoof budabbott loucostello nancyguild charleslamont charleslamont charleslamont Comedy Horror\n",
      "Soup for \"Funny Farm\": citycountrycontrast slapstick chevychase madolynsmithosborne kevinomorrison georgeroyhill georgeroyhill georgeroyhill Comedy\n"
     ]
    }
   ],
   "source": [
    "print_soup(small_meta_df, 'Africa Screams')\n",
    "for recommendation_title in recommendations.values[:5]:\n",
    "    print_soup(small_meta_df, recommendation_title)"
   ]
  },
  {
   "cell_type": "markdown",
   "metadata": {},
   "source": [
    "## Collaborative filtering / Matrix factorization"
   ]
  },
  {
   "cell_type": "code",
   "execution_count": 80,
   "metadata": {},
   "outputs": [
    {
     "data": {
      "text/html": [
       "<div>\n",
       "<style>\n",
       "    .dataframe thead tr:only-child th {\n",
       "        text-align: right;\n",
       "    }\n",
       "\n",
       "    .dataframe thead th {\n",
       "        text-align: left;\n",
       "    }\n",
       "\n",
       "    .dataframe tbody tr th {\n",
       "        vertical-align: top;\n",
       "    }\n",
       "</style>\n",
       "<table border=\"1\" class=\"dataframe\">\n",
       "  <thead>\n",
       "    <tr style=\"text-align: right;\">\n",
       "      <th></th>\n",
       "      <th>userId</th>\n",
       "      <th>movieId</th>\n",
       "      <th>rating</th>\n",
       "      <th>timestamp</th>\n",
       "    </tr>\n",
       "  </thead>\n",
       "  <tbody>\n",
       "    <tr>\n",
       "      <th>0</th>\n",
       "      <td>1</td>\n",
       "      <td>31</td>\n",
       "      <td>2.5</td>\n",
       "      <td>1260759144</td>\n",
       "    </tr>\n",
       "    <tr>\n",
       "      <th>1</th>\n",
       "      <td>1</td>\n",
       "      <td>1029</td>\n",
       "      <td>3.0</td>\n",
       "      <td>1260759179</td>\n",
       "    </tr>\n",
       "    <tr>\n",
       "      <th>2</th>\n",
       "      <td>1</td>\n",
       "      <td>1061</td>\n",
       "      <td>3.0</td>\n",
       "      <td>1260759182</td>\n",
       "    </tr>\n",
       "    <tr>\n",
       "      <th>3</th>\n",
       "      <td>1</td>\n",
       "      <td>1129</td>\n",
       "      <td>2.0</td>\n",
       "      <td>1260759185</td>\n",
       "    </tr>\n",
       "    <tr>\n",
       "      <th>4</th>\n",
       "      <td>1</td>\n",
       "      <td>1172</td>\n",
       "      <td>4.0</td>\n",
       "      <td>1260759205</td>\n",
       "    </tr>\n",
       "  </tbody>\n",
       "</table>\n",
       "</div>"
      ],
      "text/plain": [
       "   userId  movieId  rating   timestamp\n",
       "0       1       31     2.5  1260759144\n",
       "1       1     1029     3.0  1260759179\n",
       "2       1     1061     3.0  1260759182\n",
       "3       1     1129     2.0  1260759185\n",
       "4       1     1172     4.0  1260759205"
      ]
     },
     "execution_count": 80,
     "metadata": {},
     "output_type": "execute_result"
    }
   ],
   "source": [
    "ratings = pd.read_csv('ratings_small.csv')\n",
    "ratings.head()"
   ]
  },
  {
   "cell_type": "code",
   "execution_count": 81,
   "metadata": {
    "collapsed": true
   },
   "outputs": [],
   "source": [
    "links_small = pd.read_csv('links_small.csv')\n",
    "ratings = ratings.merge(links_small, how='left', on='movieId')\n",
    "ratings.drop(ratings[ratings['tmdbId'].isnull()].index.values, inplace=True)\n",
    "ratings['tmdbId'] = "
   ]
  },
  {
   "cell_type": "code",
   "execution_count": 82,
   "metadata": {},
   "outputs": [
    {
     "data": {
      "text/html": [
       "<div>\n",
       "<style>\n",
       "    .dataframe thead tr:only-child th {\n",
       "        text-align: right;\n",
       "    }\n",
       "\n",
       "    .dataframe thead th {\n",
       "        text-align: left;\n",
       "    }\n",
       "\n",
       "    .dataframe tbody tr th {\n",
       "        vertical-align: top;\n",
       "    }\n",
       "</style>\n",
       "<table border=\"1\" class=\"dataframe\">\n",
       "  <thead>\n",
       "    <tr style=\"text-align: right;\">\n",
       "      <th></th>\n",
       "      <th>userId</th>\n",
       "      <th>movieId</th>\n",
       "      <th>rating</th>\n",
       "      <th>timestamp</th>\n",
       "      <th>imdbId</th>\n",
       "      <th>tmdbId</th>\n",
       "    </tr>\n",
       "  </thead>\n",
       "  <tbody>\n",
       "    <tr>\n",
       "      <th>0</th>\n",
       "      <td>1</td>\n",
       "      <td>31</td>\n",
       "      <td>2.5</td>\n",
       "      <td>1260759144</td>\n",
       "      <td>112792</td>\n",
       "      <td>9909.0</td>\n",
       "    </tr>\n",
       "    <tr>\n",
       "      <th>1</th>\n",
       "      <td>1</td>\n",
       "      <td>1029</td>\n",
       "      <td>3.0</td>\n",
       "      <td>1260759179</td>\n",
       "      <td>33563</td>\n",
       "      <td>11360.0</td>\n",
       "    </tr>\n",
       "    <tr>\n",
       "      <th>2</th>\n",
       "      <td>1</td>\n",
       "      <td>1061</td>\n",
       "      <td>3.0</td>\n",
       "      <td>1260759182</td>\n",
       "      <td>117665</td>\n",
       "      <td>819.0</td>\n",
       "    </tr>\n",
       "    <tr>\n",
       "      <th>3</th>\n",
       "      <td>1</td>\n",
       "      <td>1129</td>\n",
       "      <td>2.0</td>\n",
       "      <td>1260759185</td>\n",
       "      <td>82340</td>\n",
       "      <td>1103.0</td>\n",
       "    </tr>\n",
       "    <tr>\n",
       "      <th>4</th>\n",
       "      <td>1</td>\n",
       "      <td>1172</td>\n",
       "      <td>4.0</td>\n",
       "      <td>1260759205</td>\n",
       "      <td>95765</td>\n",
       "      <td>11216.0</td>\n",
       "    </tr>\n",
       "  </tbody>\n",
       "</table>\n",
       "</div>"
      ],
      "text/plain": [
       "   userId  movieId  rating   timestamp  imdbId   tmdbId\n",
       "0       1       31     2.5  1260759144  112792   9909.0\n",
       "1       1     1029     3.0  1260759179   33563  11360.0\n",
       "2       1     1061     3.0  1260759182  117665    819.0\n",
       "3       1     1129     2.0  1260759185   82340   1103.0\n",
       "4       1     1172     4.0  1260759205   95765  11216.0"
      ]
     },
     "execution_count": 82,
     "metadata": {},
     "output_type": "execute_result"
    }
   ],
   "source": [
    "ratings.head()"
   ]
  },
  {
   "cell_type": "code",
   "execution_count": 29,
   "metadata": {},
   "outputs": [
    {
     "data": {
      "text/html": [
       "<div>\n",
       "<style>\n",
       "    .dataframe thead tr:only-child th {\n",
       "        text-align: right;\n",
       "    }\n",
       "\n",
       "    .dataframe thead th {\n",
       "        text-align: left;\n",
       "    }\n",
       "\n",
       "    .dataframe tbody tr th {\n",
       "        vertical-align: top;\n",
       "    }\n",
       "</style>\n",
       "<table border=\"1\" class=\"dataframe\">\n",
       "  <thead>\n",
       "    <tr style=\"text-align: right;\">\n",
       "      <th></th>\n",
       "      <th>userId</th>\n",
       "      <th>movieId</th>\n",
       "      <th>rating</th>\n",
       "      <th>timestamp</th>\n",
       "    </tr>\n",
       "  </thead>\n",
       "  <tbody>\n",
       "    <tr>\n",
       "      <th>count</th>\n",
       "      <td>100004.000000</td>\n",
       "      <td>100004.000000</td>\n",
       "      <td>100004.000000</td>\n",
       "      <td>1.000040e+05</td>\n",
       "    </tr>\n",
       "    <tr>\n",
       "      <th>mean</th>\n",
       "      <td>347.011310</td>\n",
       "      <td>12548.664363</td>\n",
       "      <td>3.543608</td>\n",
       "      <td>1.129639e+09</td>\n",
       "    </tr>\n",
       "    <tr>\n",
       "      <th>std</th>\n",
       "      <td>195.163838</td>\n",
       "      <td>26369.198969</td>\n",
       "      <td>1.058064</td>\n",
       "      <td>1.916858e+08</td>\n",
       "    </tr>\n",
       "    <tr>\n",
       "      <th>min</th>\n",
       "      <td>1.000000</td>\n",
       "      <td>1.000000</td>\n",
       "      <td>0.500000</td>\n",
       "      <td>7.896520e+08</td>\n",
       "    </tr>\n",
       "    <tr>\n",
       "      <th>25%</th>\n",
       "      <td>182.000000</td>\n",
       "      <td>1028.000000</td>\n",
       "      <td>3.000000</td>\n",
       "      <td>9.658478e+08</td>\n",
       "    </tr>\n",
       "    <tr>\n",
       "      <th>50%</th>\n",
       "      <td>367.000000</td>\n",
       "      <td>2406.500000</td>\n",
       "      <td>4.000000</td>\n",
       "      <td>1.110422e+09</td>\n",
       "    </tr>\n",
       "    <tr>\n",
       "      <th>75%</th>\n",
       "      <td>520.000000</td>\n",
       "      <td>5418.000000</td>\n",
       "      <td>4.000000</td>\n",
       "      <td>1.296192e+09</td>\n",
       "    </tr>\n",
       "    <tr>\n",
       "      <th>max</th>\n",
       "      <td>671.000000</td>\n",
       "      <td>163949.000000</td>\n",
       "      <td>5.000000</td>\n",
       "      <td>1.476641e+09</td>\n",
       "    </tr>\n",
       "  </tbody>\n",
       "</table>\n",
       "</div>"
      ],
      "text/plain": [
       "              userId        movieId         rating     timestamp\n",
       "count  100004.000000  100004.000000  100004.000000  1.000040e+05\n",
       "mean      347.011310   12548.664363       3.543608  1.129639e+09\n",
       "std       195.163838   26369.198969       1.058064  1.916858e+08\n",
       "min         1.000000       1.000000       0.500000  7.896520e+08\n",
       "25%       182.000000    1028.000000       3.000000  9.658478e+08\n",
       "50%       367.000000    2406.500000       4.000000  1.110422e+09\n",
       "75%       520.000000    5418.000000       4.000000  1.296192e+09\n",
       "max       671.000000  163949.000000       5.000000  1.476641e+09"
      ]
     },
     "execution_count": 29,
     "metadata": {},
     "output_type": "execute_result"
    }
   ],
   "source": [
    "ratings.describe()"
   ]
  },
  {
   "cell_type": "code",
   "execution_count": 30,
   "metadata": {
    "collapsed": true
   },
   "outputs": [],
   "source": [
    "def run_complex_model(ratings_df, model_class, train_on_all_ratings=False):\n",
    "    # use everything imported from surprise library at the beginning\n",
    "    # if train_on_all_ratings=True - train on all ratings\n",
    "    # if train_on_all_ratings=False - split data on 5 folds and do evaluation\n",
    "    \n",
    "    if model_class == 'SVD':\n",
    "        algo = SVD()\n",
    "    elif model_class == 'KNN':\n",
    "        algo = KNNBasic()\n",
    "    else: \n",
    "        assert False, f'Algorithm {model_class} is not supported'\n",
    "        \n",
    "    reader = Reader(rating_scale=(0.5, 5))\n",
    "    data = Dataset.load_from_df(ratings_df[['userId', 'movieId', 'rating']], reader)\n",
    "\n",
    "    if train_on_all_ratings:\n",
    "        data = data.build_full_trainset()\n",
    "        algo.fit(data)\n",
    "    else:\n",
    "        cross_validate(algo, data, measures=['RMSE', 'MAE'], cv=5, verbose=True)\n",
    "        \n",
    "    return algo"
   ]
  },
  {
   "cell_type": "code",
   "execution_count": 31,
   "metadata": {},
   "outputs": [
    {
     "name": "stdout",
     "output_type": "stream",
     "text": [
      "Evaluating RMSE, MAE of algorithm SVD on 5 split(s).\n",
      "\n",
      "                  Fold 1  Fold 2  Fold 3  Fold 4  Fold 5  Mean    Std     \n",
      "RMSE (testset)    0.8990  0.8879  0.8956  0.8972  0.9027  0.8965  0.0049  \n",
      "MAE (testset)     0.6918  0.6820  0.6905  0.6900  0.6963  0.6901  0.0046  \n",
      "Fit time          7.97    8.03    8.14    7.86    5.76    7.55    0.90    \n",
      "Test time         0.41    0.41    0.27    0.26    0.22    0.31    0.08    \n"
     ]
    }
   ],
   "source": [
    "model = run_complex_model(ratings, 'SVD')"
   ]
  },
  {
   "cell_type": "code",
   "execution_count": 32,
   "metadata": {},
   "outputs": [
    {
     "name": "stdout",
     "output_type": "stream",
     "text": [
      "Evaluating RMSE, MAE of algorithm KNNBasic on 5 split(s).\n",
      "\n",
      "                  Fold 1  Fold 2  Fold 3  Fold 4  Fold 5  Mean    Std     \n",
      "RMSE (testset)    0.9627  0.9823  0.9608  0.9665  0.9749  0.9694  0.0080  \n",
      "MAE (testset)     0.7419  0.7539  0.7408  0.7425  0.7481  0.7454  0.0049  \n",
      "Fit time          0.23    0.26    0.35    0.46    0.62    0.38    0.14    \n",
      "Test time         2.37    2.81    2.89    2.51    2.07    2.53    0.30    \n"
     ]
    }
   ],
   "source": [
    "model = run_complex_model(ratings, 'KNN')"
   ]
  },
  {
   "cell_type": "code",
   "execution_count": 33,
   "metadata": {},
   "outputs": [
    {
     "name": "stdout",
     "output_type": "stream",
     "text": [
      "Computing the msd similarity matrix...\n",
      "Done computing similarity matrix.\n"
     ]
    }
   ],
   "source": [
    "model = run_complex_model(ratings, 'KNN', train_on_all_ratings=True)"
   ]
  },
  {
   "cell_type": "code",
   "execution_count": 34,
   "metadata": {},
   "outputs": [
    {
     "data": {
      "text/html": [
       "<div>\n",
       "<style>\n",
       "    .dataframe thead tr:only-child th {\n",
       "        text-align: right;\n",
       "    }\n",
       "\n",
       "    .dataframe thead th {\n",
       "        text-align: left;\n",
       "    }\n",
       "\n",
       "    .dataframe tbody tr th {\n",
       "        vertical-align: top;\n",
       "    }\n",
       "</style>\n",
       "<table border=\"1\" class=\"dataframe\">\n",
       "  <thead>\n",
       "    <tr style=\"text-align: right;\">\n",
       "      <th></th>\n",
       "      <th>userId</th>\n",
       "      <th>movieId</th>\n",
       "      <th>rating</th>\n",
       "      <th>timestamp</th>\n",
       "    </tr>\n",
       "  </thead>\n",
       "  <tbody>\n",
       "    <tr>\n",
       "      <th>744</th>\n",
       "      <td>10</td>\n",
       "      <td>50</td>\n",
       "      <td>5.0</td>\n",
       "      <td>942766420</td>\n",
       "    </tr>\n",
       "    <tr>\n",
       "      <th>745</th>\n",
       "      <td>10</td>\n",
       "      <td>152</td>\n",
       "      <td>4.0</td>\n",
       "      <td>942766793</td>\n",
       "    </tr>\n",
       "    <tr>\n",
       "      <th>746</th>\n",
       "      <td>10</td>\n",
       "      <td>318</td>\n",
       "      <td>4.0</td>\n",
       "      <td>942766515</td>\n",
       "    </tr>\n",
       "    <tr>\n",
       "      <th>747</th>\n",
       "      <td>10</td>\n",
       "      <td>344</td>\n",
       "      <td>3.0</td>\n",
       "      <td>942766603</td>\n",
       "    </tr>\n",
       "    <tr>\n",
       "      <th>748</th>\n",
       "      <td>10</td>\n",
       "      <td>345</td>\n",
       "      <td>4.0</td>\n",
       "      <td>942766603</td>\n",
       "    </tr>\n",
       "    <tr>\n",
       "      <th>749</th>\n",
       "      <td>10</td>\n",
       "      <td>592</td>\n",
       "      <td>3.0</td>\n",
       "      <td>942767328</td>\n",
       "    </tr>\n",
       "    <tr>\n",
       "      <th>750</th>\n",
       "      <td>10</td>\n",
       "      <td>735</td>\n",
       "      <td>4.0</td>\n",
       "      <td>942766974</td>\n",
       "    </tr>\n",
       "    <tr>\n",
       "      <th>751</th>\n",
       "      <td>10</td>\n",
       "      <td>1036</td>\n",
       "      <td>3.0</td>\n",
       "      <td>942767258</td>\n",
       "    </tr>\n",
       "    <tr>\n",
       "      <th>752</th>\n",
       "      <td>10</td>\n",
       "      <td>1089</td>\n",
       "      <td>3.0</td>\n",
       "      <td>942766420</td>\n",
       "    </tr>\n",
       "    <tr>\n",
       "      <th>753</th>\n",
       "      <td>10</td>\n",
       "      <td>1101</td>\n",
       "      <td>2.0</td>\n",
       "      <td>942767328</td>\n",
       "    </tr>\n",
       "  </tbody>\n",
       "</table>\n",
       "</div>"
      ],
      "text/plain": [
       "     userId  movieId  rating  timestamp\n",
       "744      10       50     5.0  942766420\n",
       "745      10      152     4.0  942766793\n",
       "746      10      318     4.0  942766515\n",
       "747      10      344     3.0  942766603\n",
       "748      10      345     4.0  942766603\n",
       "749      10      592     3.0  942767328\n",
       "750      10      735     4.0  942766974\n",
       "751      10     1036     3.0  942767258\n",
       "752      10     1089     3.0  942766420\n",
       "753      10     1101     2.0  942767328"
      ]
     },
     "execution_count": 34,
     "metadata": {},
     "output_type": "execute_result"
    }
   ],
   "source": [
    "ratings[ratings['userId'] == 10].head(10)"
   ]
  },
  {
   "cell_type": "code",
   "execution_count": 35,
   "metadata": {},
   "outputs": [
    {
     "data": {
      "text/plain": [
       "Prediction(uid=10, iid=50, r_ui=None, est=4.6958005317347427, details={'actual_k': 40, 'was_impossible': False})"
      ]
     },
     "execution_count": 35,
     "metadata": {},
     "output_type": "execute_result"
    }
   ],
   "source": [
    "model.predict(10, 50)"
   ]
  },
  {
   "cell_type": "code",
   "execution_count": 36,
   "metadata": {},
   "outputs": [
    {
     "data": {
      "text/plain": [
       "Prediction(uid=10, iid=152, r_ui=None, est=3.8628556780312744, details={'actual_k': 3, 'was_impossible': False})"
      ]
     },
     "execution_count": 36,
     "metadata": {},
     "output_type": "execute_result"
    }
   ],
   "source": [
    "model.predict(10, 152)"
   ]
  },
  {
   "cell_type": "code",
   "execution_count": 37,
   "metadata": {},
   "outputs": [
    {
     "data": {
      "text/plain": [
       "Prediction(uid=10, iid=40, r_ui=None, est=3.9718878202972632, details={'actual_k': 6, 'was_impossible': False})"
      ]
     },
     "execution_count": 37,
     "metadata": {},
     "output_type": "execute_result"
    }
   ],
   "source": [
    "model.predict(10, 40)"
   ]
  },
  {
   "cell_type": "markdown",
   "metadata": {},
   "source": [
    "### Examine what suggestions we can expect for the given user"
   ]
  },
  {
   "cell_type": "code",
   "execution_count": 64,
   "metadata": {},
   "outputs": [
    {
     "data": {
      "text/plain": [
       "0.44987200511979519"
      ]
     },
     "execution_count": 64,
     "metadata": {},
     "output_type": "execute_result"
    }
   ],
   "source": [
    "# ratings[ratings['userId'] == 10]\n",
    "# min(ratings['movieId'].values)\n",
    "np.isin(ratings['movieId'].values, meta_df['id'].values).sum()/len(ratings)"
   ]
  },
  {
   "cell_type": "markdown",
   "metadata": {},
   "source": [
    "## Hybrid recommendations"
   ]
  },
  {
   "cell_type": "code",
   "execution_count": 55,
   "metadata": {},
   "outputs": [
    {
     "data": {
      "text/html": [
       "<div>\n",
       "<style>\n",
       "    .dataframe thead tr:only-child th {\n",
       "        text-align: right;\n",
       "    }\n",
       "\n",
       "    .dataframe thead th {\n",
       "        text-align: left;\n",
       "    }\n",
       "\n",
       "    .dataframe tbody tr th {\n",
       "        vertical-align: top;\n",
       "    }\n",
       "</style>\n",
       "<table border=\"1\" class=\"dataframe\">\n",
       "  <thead>\n",
       "    <tr style=\"text-align: right;\">\n",
       "      <th></th>\n",
       "      <th>id</th>\n",
       "      <th>title</th>\n",
       "      <th>genres</th>\n",
       "      <th>budget</th>\n",
       "      <th>popularity</th>\n",
       "      <th>vote_average</th>\n",
       "    </tr>\n",
       "  </thead>\n",
       "  <tbody>\n",
       "    <tr>\n",
       "      <th>0</th>\n",
       "      <td>862</td>\n",
       "      <td>Toy Story</td>\n",
       "      <td>[Animation, Comedy, Family]</td>\n",
       "      <td>30000000</td>\n",
       "      <td>21.9469</td>\n",
       "      <td>7.7</td>\n",
       "    </tr>\n",
       "    <tr>\n",
       "      <th>1</th>\n",
       "      <td>8844</td>\n",
       "      <td>Jumanji</td>\n",
       "      <td>[Adventure, Fantasy, Family]</td>\n",
       "      <td>65000000</td>\n",
       "      <td>17.0155</td>\n",
       "      <td>6.9</td>\n",
       "    </tr>\n",
       "    <tr>\n",
       "      <th>2</th>\n",
       "      <td>15602</td>\n",
       "      <td>Grumpier Old Men</td>\n",
       "      <td>[Romance, Comedy]</td>\n",
       "      <td>0</td>\n",
       "      <td>11.7129</td>\n",
       "      <td>6.5</td>\n",
       "    </tr>\n",
       "  </tbody>\n",
       "</table>\n",
       "</div>"
      ],
      "text/plain": [
       "      id             title                        genres    budget popularity  \\\n",
       "0    862         Toy Story   [Animation, Comedy, Family]  30000000    21.9469   \n",
       "1   8844           Jumanji  [Adventure, Fantasy, Family]  65000000    17.0155   \n",
       "2  15602  Grumpier Old Men             [Romance, Comedy]         0    11.7129   \n",
       "\n",
       "   vote_average  \n",
       "0           7.7  \n",
       "1           6.9  \n",
       "2           6.5  "
      ]
     },
     "execution_count": 55,
     "metadata": {},
     "output_type": "execute_result"
    }
   ],
   "source": [
    "small_meta_df[['id', 'title', 'genres', 'budget', 'popularity', 'vote_average']].head(3)"
   ]
  },
  {
   "cell_type": "code",
   "execution_count": null,
   "metadata": {},
   "outputs": [],
   "source": [
    "ratings.head(3)"
   ]
  },
  {
   "cell_type": "code",
   "execution_count": null,
   "metadata": {
    "collapsed": true
   },
   "outputs": [],
   "source": [
    "COLDSTART_THRESHOLD = 5\n",
    "def get_hybrid_recommendations(small_meta_df, ratings, userId, title):\n",
    "    recs = get_item_content_recommendations(small_meta_df, cosine_matrix, title, top_n=100)\n",
    "    print(recs)\n",
    "#     watched_movie_ids = np.unique(ratings[ratings['userId'] == userId]['movieId'].values)\n",
    "#     not_watched_movie_ids = np.unique(ratings[~ratings['movieId'].isin(watched_movie_ids)]['movieId'].values)\n",
    "#     if len(watched_movie_ids) > COLDSTART_THRESHOLD:\n",
    "#         preds = []\n",
    "#         for movie_id in not_watched_movie_ids:\n",
    "#             pred = model.predict(userId, movie_id).est\n",
    "#             preds.extend([pred])\n",
    "#         preds = np.array(preds)\n",
    "#         preds_sorted_indexes = preds.argsort()[-20:]\n",
    "#         print(preds[preds_sorted_indexes])"
   ]
  },
  {
   "cell_type": "code",
   "execution_count": null,
   "metadata": {},
   "outputs": [],
   "source": [
    "userId = 10\n",
    "model.predict(10, 50).est.dtype"
   ]
  },
  {
   "cell_type": "code",
   "execution_count": null,
   "metadata": {},
   "outputs": [],
   "source": [
    "get_hybrid_recommendations(small_meta_df, ratings, 10, 'Central Intelligence')"
   ]
  },
  {
   "cell_type": "code",
   "execution_count": null,
   "metadata": {},
   "outputs": [],
   "source": [
    "get_hybrid_recommendations(small_meta_df, ratings, 10, 'Assassins')"
   ]
  },
  {
   "cell_type": "code",
   "execution_count": null,
   "metadata": {
    "collapsed": true
   },
   "outputs": [],
   "source": [
    "get_hybrid_recommendations(small_meta_df, ratings, 101, 'Central Intelligence')"
   ]
  },
  {
   "cell_type": "code",
   "execution_count": null,
   "metadata": {
    "collapsed": true
   },
   "outputs": [],
   "source": [
    "get_hybrid_recommendations(small_meta_df, ratings, 101, 'Assassins')"
   ]
  },
  {
   "cell_type": "code",
   "execution_count": null,
   "metadata": {},
   "outputs": [],
   "source": [
    "(small_meta_df['original_title'] == 'Assassins').any()"
   ]
  }
 ],
 "metadata": {
  "hide_input": false,
  "kernelspec": {
   "display_name": "Python 3",
   "language": "python",
   "name": "python3"
  }
 },
 "nbformat": 4,
 "nbformat_minor": 2
}
