{
 "cells": [
  {
   "cell_type": "markdown",
   "metadata": {},
   "source": [
    "## Summaries\n",
    "\n",
    "1. Non-personalized\n",
    "2. Content based\n",
    "3. Collaborative filtering\n",
    "4. Hybrid\n",
    "\n",
    "Conclusion:\n",
    "\n"
   ]
  },
  {
   "cell_type": "code",
   "execution_count": 3,
   "metadata": {
    "collapsed": true
   },
   "outputs": [],
   "source": [
    "import os\n",
    "import json\n",
    "from time import time\n",
    "from ast import literal_eval\n",
    "\n",
    "import pandas as pd\n",
    "import numpy as np\n",
    "from scipy import stats\n",
    "from sklearn.feature_extraction.text import TfidfVectorizer, CountVectorizer\n",
    "from sklearn.metrics.pairwise import linear_kernel, cosine_similarity\n",
    "from nltk.stem.snowball import SnowballStemmer\n",
    "from nltk.stem.wordnet import WordNetLemmatizer\n",
    "from nltk.corpus import wordnet\n",
    "from surprise import Reader, Dataset, SVD, KNNBasic, evaluate\n",
    "import warnings; warnings.simplefilter('ignore')\n",
    "import matplotlib.pyplot as plt\n",
    "%matplotlib inline\n",
    "import seaborn as sns"
   ]
  },
  {
   "cell_type": "code",
   "execution_count": 4,
   "metadata": {},
   "outputs": [
    {
     "data": {
      "text/html": [
       "<div>\n",
       "<style>\n",
       "    .dataframe thead tr:only-child th {\n",
       "        text-align: right;\n",
       "    }\n",
       "\n",
       "    .dataframe thead th {\n",
       "        text-align: left;\n",
       "    }\n",
       "\n",
       "    .dataframe tbody tr th {\n",
       "        vertical-align: top;\n",
       "    }\n",
       "</style>\n",
       "<table border=\"1\" class=\"dataframe\">\n",
       "  <thead>\n",
       "    <tr style=\"text-align: right;\">\n",
       "      <th></th>\n",
       "      <th>adult</th>\n",
       "      <th>belongs_to_collection</th>\n",
       "      <th>budget</th>\n",
       "      <th>homepage</th>\n",
       "      <th>id</th>\n",
       "      <th>imdb_id</th>\n",
       "      <th>original_language</th>\n",
       "      <th>original_title</th>\n",
       "      <th>overview</th>\n",
       "      <th>popularity</th>\n",
       "      <th>...</th>\n",
       "      <th>runtime</th>\n",
       "      <th>spoken_languages</th>\n",
       "      <th>status</th>\n",
       "      <th>tagline</th>\n",
       "      <th>title</th>\n",
       "      <th>video</th>\n",
       "      <th>vote_average</th>\n",
       "      <th>vote_count</th>\n",
       "      <th>year</th>\n",
       "      <th>genre</th>\n",
       "    </tr>\n",
       "  </thead>\n",
       "  <tbody>\n",
       "    <tr>\n",
       "      <th>0</th>\n",
       "      <td>False</td>\n",
       "      <td>{'id': 10194, 'name': 'Toy Story Collection', ...</td>\n",
       "      <td>30000000</td>\n",
       "      <td>http://toystory.disney.com/toy-story</td>\n",
       "      <td>862</td>\n",
       "      <td>tt0114709</td>\n",
       "      <td>en</td>\n",
       "      <td>Toy Story</td>\n",
       "      <td>Led by Woody, Andy's toys live happily in his ...</td>\n",
       "      <td>21.9469</td>\n",
       "      <td>...</td>\n",
       "      <td>81.0</td>\n",
       "      <td>[{'iso_639_1': 'en', 'name': 'English'}]</td>\n",
       "      <td>Released</td>\n",
       "      <td>NaN</td>\n",
       "      <td>Toy Story</td>\n",
       "      <td>False</td>\n",
       "      <td>7.7</td>\n",
       "      <td>5415.0</td>\n",
       "      <td>1995</td>\n",
       "      <td>Animation</td>\n",
       "    </tr>\n",
       "    <tr>\n",
       "      <th>0</th>\n",
       "      <td>False</td>\n",
       "      <td>{'id': 10194, 'name': 'Toy Story Collection', ...</td>\n",
       "      <td>30000000</td>\n",
       "      <td>http://toystory.disney.com/toy-story</td>\n",
       "      <td>862</td>\n",
       "      <td>tt0114709</td>\n",
       "      <td>en</td>\n",
       "      <td>Toy Story</td>\n",
       "      <td>Led by Woody, Andy's toys live happily in his ...</td>\n",
       "      <td>21.9469</td>\n",
       "      <td>...</td>\n",
       "      <td>81.0</td>\n",
       "      <td>[{'iso_639_1': 'en', 'name': 'English'}]</td>\n",
       "      <td>Released</td>\n",
       "      <td>NaN</td>\n",
       "      <td>Toy Story</td>\n",
       "      <td>False</td>\n",
       "      <td>7.7</td>\n",
       "      <td>5415.0</td>\n",
       "      <td>1995</td>\n",
       "      <td>Comedy</td>\n",
       "    </tr>\n",
       "    <tr>\n",
       "      <th>0</th>\n",
       "      <td>False</td>\n",
       "      <td>{'id': 10194, 'name': 'Toy Story Collection', ...</td>\n",
       "      <td>30000000</td>\n",
       "      <td>http://toystory.disney.com/toy-story</td>\n",
       "      <td>862</td>\n",
       "      <td>tt0114709</td>\n",
       "      <td>en</td>\n",
       "      <td>Toy Story</td>\n",
       "      <td>Led by Woody, Andy's toys live happily in his ...</td>\n",
       "      <td>21.9469</td>\n",
       "      <td>...</td>\n",
       "      <td>81.0</td>\n",
       "      <td>[{'iso_639_1': 'en', 'name': 'English'}]</td>\n",
       "      <td>Released</td>\n",
       "      <td>NaN</td>\n",
       "      <td>Toy Story</td>\n",
       "      <td>False</td>\n",
       "      <td>7.7</td>\n",
       "      <td>5415.0</td>\n",
       "      <td>1995</td>\n",
       "      <td>Family</td>\n",
       "    </tr>\n",
       "  </tbody>\n",
       "</table>\n",
       "<p>3 rows × 25 columns</p>\n",
       "</div>"
      ],
      "text/plain": [
       "   adult                              belongs_to_collection    budget  \\\n",
       "0  False  {'id': 10194, 'name': 'Toy Story Collection', ...  30000000   \n",
       "0  False  {'id': 10194, 'name': 'Toy Story Collection', ...  30000000   \n",
       "0  False  {'id': 10194, 'name': 'Toy Story Collection', ...  30000000   \n",
       "\n",
       "                               homepage   id    imdb_id original_language  \\\n",
       "0  http://toystory.disney.com/toy-story  862  tt0114709                en   \n",
       "0  http://toystory.disney.com/toy-story  862  tt0114709                en   \n",
       "0  http://toystory.disney.com/toy-story  862  tt0114709                en   \n",
       "\n",
       "  original_title                                           overview  \\\n",
       "0      Toy Story  Led by Woody, Andy's toys live happily in his ...   \n",
       "0      Toy Story  Led by Woody, Andy's toys live happily in his ...   \n",
       "0      Toy Story  Led by Woody, Andy's toys live happily in his ...   \n",
       "\n",
       "  popularity    ...     runtime                          spoken_languages  \\\n",
       "0    21.9469    ...        81.0  [{'iso_639_1': 'en', 'name': 'English'}]   \n",
       "0    21.9469    ...        81.0  [{'iso_639_1': 'en', 'name': 'English'}]   \n",
       "0    21.9469    ...        81.0  [{'iso_639_1': 'en', 'name': 'English'}]   \n",
       "\n",
       "     status tagline      title  video vote_average vote_count  year      genre  \n",
       "0  Released     NaN  Toy Story  False          7.7     5415.0  1995  Animation  \n",
       "0  Released     NaN  Toy Story  False          7.7     5415.0  1995     Comedy  \n",
       "0  Released     NaN  Toy Story  False          7.7     5415.0  1995     Family  \n",
       "\n",
       "[3 rows x 25 columns]"
      ]
     },
     "execution_count": 4,
     "metadata": {},
     "output_type": "execute_result"
    }
   ],
   "source": [
    "# load data\n",
    "meta_df = pd.read_csv('movies_metadata.csv')\n",
    "# parse genre feature\n",
    "meta_df['genres'] = meta_df['genres'].fillna('[]').apply(literal_eval).apply(lambda x: [i['name'] for i in x] if isinstance(x, list) else [])\n",
    "# parse date\n",
    "meta_df['year'] = pd.to_datetime(meta_df['release_date'], errors='coerce').apply(lambda x: str(x).split('-')[0] if x != np.nan else np.nan)\n",
    "# stack genre and add it to dataframe again\n",
    "stacked_genre_df = meta_df.apply(lambda x: pd.Series(x['genres']),axis=1).stack().reset_index(level=1, drop=True)\n",
    "stacked_genre_df.name = 'genre'\n",
    "stacked_genre_df = meta_df.drop('genres', axis=1).join(stacked_genre_df)\n",
    "stacked_genre_df.head(3)"
   ]
  },
  {
   "cell_type": "markdown",
   "metadata": {},
   "source": [
    "## Non-personalized recommendations\n",
    "\n",
    "__ToDo__: Implement non-personalized recommendations which will return top 10 movies for a genre.\n",
    "Come up with specific average ratio, and use it to rank videos.\n",
    "(Use video_count, video_average features from meta_df dataframe)\n"
   ]
  },
  {
   "cell_type": "markdown",
   "metadata": {},
   "source": [
    "IMDB weighted rating is used:\n",
    "\n",
    "Weighted Rating = $(\\frac{v}{v + m} . R) + (\\frac{m}{v + m} . C)$\n",
    "\n",
    "where,\n",
    "* *v* is the number of votes for the movie\n",
    "* *m* is the minimum votes required to be listed in the chart\n",
    "* *R* is the average rating of the movie\n",
    "* *C* is the mean vote across the whole report"
   ]
  },
  {
   "cell_type": "code",
   "execution_count": 5,
   "metadata": {
    "collapsed": true
   },
   "outputs": [],
   "source": [
    "def get_weighted_rating(v, m, R, C):\n",
    "    return (v / (v + m) * R) + (m / (v + m) * C)\n",
    "\n",
    "def get_genre_nonpersonalized_recommendations(df, genre, percentile=0.85):\n",
    "    genre_df = df[df['genre'] == genre].copy()\n",
    "    C = genre_df['vote_average'].mean()\n",
    "    m = genre_df['vote_count'].quantile(percentile)\n",
    "    genre_df = genre_df[genre_df['vote_count'] > m]\n",
    "    genre_df['weighted_rating'] = genre_df.apply(\n",
    "        lambda x: get_weighted_rating(x['vote_count'], m, x['vote_average'], C), axis=1)\n",
    "    return genre_df.nlargest(10, 'weighted_rating')[['title', 'year']]"
   ]
  },
  {
   "cell_type": "code",
   "execution_count": 6,
   "metadata": {},
   "outputs": [
    {
     "data": {
      "text/html": [
       "<div>\n",
       "<style>\n",
       "    .dataframe thead tr:only-child th {\n",
       "        text-align: right;\n",
       "    }\n",
       "\n",
       "    .dataframe thead th {\n",
       "        text-align: left;\n",
       "    }\n",
       "\n",
       "    .dataframe tbody tr th {\n",
       "        vertical-align: top;\n",
       "    }\n",
       "</style>\n",
       "<table border=\"1\" class=\"dataframe\">\n",
       "  <thead>\n",
       "    <tr style=\"text-align: right;\">\n",
       "      <th></th>\n",
       "      <th>title</th>\n",
       "      <th>year</th>\n",
       "    </tr>\n",
       "  </thead>\n",
       "  <tbody>\n",
       "    <tr>\n",
       "      <th>10309</th>\n",
       "      <td>Dilwale Dulhania Le Jayenge</td>\n",
       "      <td>1995</td>\n",
       "    </tr>\n",
       "    <tr>\n",
       "      <th>2211</th>\n",
       "      <td>Life Is Beautiful</td>\n",
       "      <td>1997</td>\n",
       "    </tr>\n",
       "    <tr>\n",
       "      <th>351</th>\n",
       "      <td>Forrest Gump</td>\n",
       "      <td>1994</td>\n",
       "    </tr>\n",
       "    <tr>\n",
       "      <th>18465</th>\n",
       "      <td>The Intouchables</td>\n",
       "      <td>2011</td>\n",
       "    </tr>\n",
       "    <tr>\n",
       "      <th>1225</th>\n",
       "      <td>Back to the Future</td>\n",
       "      <td>1985</td>\n",
       "    </tr>\n",
       "    <tr>\n",
       "      <th>22841</th>\n",
       "      <td>The Grand Budapest Hotel</td>\n",
       "      <td>2014</td>\n",
       "    </tr>\n",
       "    <tr>\n",
       "      <th>22131</th>\n",
       "      <td>The Wolf of Wall Street</td>\n",
       "      <td>2013</td>\n",
       "    </tr>\n",
       "    <tr>\n",
       "      <th>30315</th>\n",
       "      <td>Inside Out</td>\n",
       "      <td>2015</td>\n",
       "    </tr>\n",
       "    <tr>\n",
       "      <th>40882</th>\n",
       "      <td>La La Land</td>\n",
       "      <td>2016</td>\n",
       "    </tr>\n",
       "    <tr>\n",
       "      <th>732</th>\n",
       "      <td>Dr. Strangelove or: How I Learned to Stop Worr...</td>\n",
       "      <td>1964</td>\n",
       "    </tr>\n",
       "  </tbody>\n",
       "</table>\n",
       "</div>"
      ],
      "text/plain": [
       "                                                   title  year\n",
       "10309                        Dilwale Dulhania Le Jayenge  1995\n",
       "2211                                   Life Is Beautiful  1997\n",
       "351                                         Forrest Gump  1994\n",
       "18465                                   The Intouchables  2011\n",
       "1225                                  Back to the Future  1985\n",
       "22841                           The Grand Budapest Hotel  2014\n",
       "22131                            The Wolf of Wall Street  2013\n",
       "30315                                         Inside Out  2015\n",
       "40882                                         La La Land  2016\n",
       "732    Dr. Strangelove or: How I Learned to Stop Worr...  1964"
      ]
     },
     "execution_count": 6,
     "metadata": {},
     "output_type": "execute_result"
    }
   ],
   "source": [
    "get_genre_nonpersonalized_recommendations(stacked_genre_df, 'Comedy')"
   ]
  },
  {
   "cell_type": "code",
   "execution_count": 7,
   "metadata": {},
   "outputs": [
    {
     "data": {
      "text/html": [
       "<div>\n",
       "<style>\n",
       "    .dataframe thead tr:only-child th {\n",
       "        text-align: right;\n",
       "    }\n",
       "\n",
       "    .dataframe thead th {\n",
       "        text-align: left;\n",
       "    }\n",
       "\n",
       "    .dataframe tbody tr th {\n",
       "        vertical-align: top;\n",
       "    }\n",
       "</style>\n",
       "<table border=\"1\" class=\"dataframe\">\n",
       "  <thead>\n",
       "    <tr style=\"text-align: right;\">\n",
       "      <th></th>\n",
       "      <th>title</th>\n",
       "      <th>year</th>\n",
       "    </tr>\n",
       "  </thead>\n",
       "  <tbody>\n",
       "    <tr>\n",
       "      <th>5481</th>\n",
       "      <td>Spirited Away</td>\n",
       "      <td>2001</td>\n",
       "    </tr>\n",
       "    <tr>\n",
       "      <th>40251</th>\n",
       "      <td>Your Name.</td>\n",
       "      <td>2016</td>\n",
       "    </tr>\n",
       "    <tr>\n",
       "      <th>9698</th>\n",
       "      <td>Howl's Moving Castle</td>\n",
       "      <td>2004</td>\n",
       "    </tr>\n",
       "    <tr>\n",
       "      <th>2884</th>\n",
       "      <td>Princess Mononoke</td>\n",
       "      <td>1997</td>\n",
       "    </tr>\n",
       "    <tr>\n",
       "      <th>359</th>\n",
       "      <td>The Lion King</td>\n",
       "      <td>1994</td>\n",
       "    </tr>\n",
       "    <tr>\n",
       "      <th>30315</th>\n",
       "      <td>Inside Out</td>\n",
       "      <td>2015</td>\n",
       "    </tr>\n",
       "    <tr>\n",
       "      <th>5553</th>\n",
       "      <td>Grave of the Fireflies</td>\n",
       "      <td>1988</td>\n",
       "    </tr>\n",
       "    <tr>\n",
       "      <th>5833</th>\n",
       "      <td>My Neighbor Totoro</td>\n",
       "      <td>1988</td>\n",
       "    </tr>\n",
       "    <tr>\n",
       "      <th>13724</th>\n",
       "      <td>Up</td>\n",
       "      <td>2009</td>\n",
       "    </tr>\n",
       "    <tr>\n",
       "      <th>12704</th>\n",
       "      <td>WALL·E</td>\n",
       "      <td>2008</td>\n",
       "    </tr>\n",
       "  </tbody>\n",
       "</table>\n",
       "</div>"
      ],
      "text/plain": [
       "                        title  year\n",
       "5481            Spirited Away  2001\n",
       "40251              Your Name.  2016\n",
       "9698     Howl's Moving Castle  2004\n",
       "2884        Princess Mononoke  1997\n",
       "359             The Lion King  1994\n",
       "30315              Inside Out  2015\n",
       "5553   Grave of the Fireflies  1988\n",
       "5833       My Neighbor Totoro  1988\n",
       "13724                      Up  2009\n",
       "12704                  WALL·E  2008"
      ]
     },
     "execution_count": 7,
     "metadata": {},
     "output_type": "execute_result"
    }
   ],
   "source": [
    "get_genre_nonpersonalized_recommendations(stacked_genre_df, 'Animation')"
   ]
  },
  {
   "cell_type": "code",
   "execution_count": 8,
   "metadata": {},
   "outputs": [
    {
     "data": {
      "text/html": [
       "<div>\n",
       "<style>\n",
       "    .dataframe thead tr:only-child th {\n",
       "        text-align: right;\n",
       "    }\n",
       "\n",
       "    .dataframe thead th {\n",
       "        text-align: left;\n",
       "    }\n",
       "\n",
       "    .dataframe tbody tr th {\n",
       "        vertical-align: top;\n",
       "    }\n",
       "</style>\n",
       "<table border=\"1\" class=\"dataframe\">\n",
       "  <thead>\n",
       "    <tr style=\"text-align: right;\">\n",
       "      <th></th>\n",
       "      <th>title</th>\n",
       "      <th>year</th>\n",
       "    </tr>\n",
       "  </thead>\n",
       "  <tbody>\n",
       "    <tr>\n",
       "      <th>5481</th>\n",
       "      <td>Spirited Away</td>\n",
       "      <td>2001</td>\n",
       "    </tr>\n",
       "    <tr>\n",
       "      <th>1225</th>\n",
       "      <td>Back to the Future</td>\n",
       "      <td>1985</td>\n",
       "    </tr>\n",
       "    <tr>\n",
       "      <th>359</th>\n",
       "      <td>The Lion King</td>\n",
       "      <td>1994</td>\n",
       "    </tr>\n",
       "    <tr>\n",
       "      <th>30315</th>\n",
       "      <td>Inside Out</td>\n",
       "      <td>2015</td>\n",
       "    </tr>\n",
       "    <tr>\n",
       "      <th>17437</th>\n",
       "      <td>Harry Potter and the Deathly Hallows: Part 2</td>\n",
       "      <td>2011</td>\n",
       "    </tr>\n",
       "    <tr>\n",
       "      <th>13724</th>\n",
       "      <td>Up</td>\n",
       "      <td>2009</td>\n",
       "    </tr>\n",
       "    <tr>\n",
       "      <th>12704</th>\n",
       "      <td>WALL·E</td>\n",
       "      <td>2008</td>\n",
       "    </tr>\n",
       "    <tr>\n",
       "      <th>24455</th>\n",
       "      <td>Big Hero 6</td>\n",
       "      <td>2014</td>\n",
       "    </tr>\n",
       "    <tr>\n",
       "      <th>5833</th>\n",
       "      <td>My Neighbor Totoro</td>\n",
       "      <td>1988</td>\n",
       "    </tr>\n",
       "    <tr>\n",
       "      <th>7725</th>\n",
       "      <td>Harry Potter and the Prisoner of Azkaban</td>\n",
       "      <td>2004</td>\n",
       "    </tr>\n",
       "  </tbody>\n",
       "</table>\n",
       "</div>"
      ],
      "text/plain": [
       "                                              title  year\n",
       "5481                                  Spirited Away  2001\n",
       "1225                             Back to the Future  1985\n",
       "359                                   The Lion King  1994\n",
       "30315                                    Inside Out  2015\n",
       "17437  Harry Potter and the Deathly Hallows: Part 2  2011\n",
       "13724                                            Up  2009\n",
       "12704                                        WALL·E  2008\n",
       "24455                                    Big Hero 6  2014\n",
       "5833                             My Neighbor Totoro  1988\n",
       "7725       Harry Potter and the Prisoner of Azkaban  2004"
      ]
     },
     "execution_count": 8,
     "metadata": {},
     "output_type": "execute_result"
    }
   ],
   "source": [
    "get_genre_nonpersonalized_recommendations(stacked_genre_df, 'Family')"
   ]
  },
  {
   "cell_type": "markdown",
   "metadata": {},
   "source": [
    "## Item-item content based recommendations\n",
    "\n",
    "__ToDo__: implement functions to perform item-item description based recommendations"
   ]
  },
  {
   "cell_type": "code",
   "execution_count": 9,
   "metadata": {},
   "outputs": [
    {
     "data": {
      "text/plain": [
       "(9099, 25)"
      ]
     },
     "execution_count": 9,
     "metadata": {},
     "output_type": "execute_result"
    }
   ],
   "source": [
    "# load ID from smaller set\n",
    "links_small = pd.read_csv('links_small.csv')\n",
    "links_small = links_small[links_small['tmdbId'].notnull()]['tmdbId'].astype('int')\n",
    "# drop rows with broken ID values\n",
    "meta_df = meta_df.drop([19730, 29503, 35587])\n",
    "# parse movie ID to int\n",
    "meta_df['id'] = meta_df['id'].astype('int')\n",
    "# create small dataframe\n",
    "small_meta_df = meta_df[meta_df['id'].isin(links_small)]\n",
    "small_meta_df.shape"
   ]
  },
  {
   "cell_type": "code",
   "execution_count": 10,
   "metadata": {},
   "outputs": [
    {
     "data": {
      "text/plain": [
       "0    Led by Woody, Andy's toys live happily in his ...\n",
       "1    When siblings Judy and Peter discover an encha...\n",
       "2    A family wedding reignites the ancient feud be...\n",
       "3    Cheated on, mistreated and stepped on, the wom...\n",
       "4    Just when George Banks has recovered from his ...\n",
       "Name: description, dtype: object"
      ]
     },
     "execution_count": 10,
     "metadata": {},
     "output_type": "execute_result"
    }
   ],
   "source": [
    "# create descriptions\n",
    "small_meta_df['tagline'] = small_meta_df['tagline'].fillna('')\n",
    "small_meta_df['description'] = small_meta_df['overview'] + small_meta_df['tagline']\n",
    "small_meta_df['description'] = small_meta_df['description'].fillna('')\n",
    "small_meta_df['description'].head()"
   ]
  },
  {
   "cell_type": "code",
   "execution_count": 11,
   "metadata": {
    "collapsed": true
   },
   "outputs": [],
   "source": [
    "def create_cosine_matrix(df):\n",
    "    tfidf = TfidfVectorizer()\n",
    "    descriptions = tfidf.fit_transform(df['description']).todense()\n",
    "    \n",
    "    return linear_kernel(descriptions, descriptions)\n",
    "\n",
    "def get_item_content_recommendations(df, cosine_sim, title):\n",
    "    np.fill_diagonal(cosine_sim, 0)\n",
    "    index = df[df['title'] == title].index.values\n",
    "    similarity_indexes_sorted_asc = np.argsort(np.squeeze(cosine_sim[index,:]))\n",
    "    top_20_indexes_desc = np.flip(similarity_indexes_sorted_asc[-20:], axis=0)\n",
    "     \n",
    "    return df.iloc[top_20_indexes_desc]['title']"
   ]
  },
  {
   "cell_type": "code",
   "execution_count": 12,
   "metadata": {
    "collapsed": true
   },
   "outputs": [],
   "source": [
    "cosine_matrix = create_cosine_matrix(small_meta_df)"
   ]
  },
  {
   "cell_type": "code",
   "execution_count": 13,
   "metadata": {},
   "outputs": [
    {
     "data": {
      "text/plain": [
       "15348                    Toy Story 3\n",
       "2997                     Toy Story 2\n",
       "10301         The 40 Year Old Virgin\n",
       "3057                 Man on the Moon\n",
       "1071           Rebel Without a Cause\n",
       "6435          What's Up, Tiger Lily?\n",
       "11606                   Factory Girl\n",
       "11399         For Your Consideration\n",
       "1199                       Manhattan\n",
       "1932                       Condorman\n",
       "448                For Love or Money\n",
       "6944                Rivers and Tides\n",
       "7254                  Africa Screams\n",
       "485                           Malice\n",
       "10585                    Match Point\n",
       "9963                   Life Is Sweet\n",
       "2157               Indecent Proposal\n",
       "3756     The Ballad of Ramblin' Jack\n",
       "21190     Woody Allen: A Documentary\n",
       "2635                      Radio Days\n",
       "Name: title, dtype: object"
      ]
     },
     "execution_count": 13,
     "metadata": {},
     "output_type": "execute_result"
    }
   ],
   "source": [
    "get_item_content_recommendations(small_meta_df, cosine_matrix, 'Toy Story')"
   ]
  },
  {
   "cell_type": "code",
   "execution_count": 14,
   "metadata": {},
   "outputs": [
    {
     "data": {
      "text/plain": [
       "11306    Borat: Cultural Learnings of America for Make ...\n",
       "3790             The Broken Hearts Club: A Romantic Comedy\n",
       "3617                                   Trouble in Paradise\n",
       "365                    The Naked Gun 33⅓: The Final Insult\n",
       "11339                             The Elementary Particles\n",
       "32388                                        Almost Normal\n",
       "6090                                  The Talk of the Town\n",
       "3309                                     Creature Comforts\n",
       "11965                                 The Bourne Ultimatum\n",
       "12320                                                [REC]\n",
       "9846                                    Call Northside 777\n",
       "8857                              The Times of Harvey Milk\n",
       "34447                                               Plan B\n",
       "16127                            The First Beautiful Thing\n",
       "14497                                     Everybody's Fine\n",
       "6095                                        Born Yesterday\n",
       "7641                                        Educating Rita\n",
       "18473                                       The Innkeepers\n",
       "12466                                     Sigur Rós: Heima\n",
       "2300                                                  Clue\n",
       "Name: title, dtype: object"
      ]
     },
     "execution_count": 14,
     "metadata": {},
     "output_type": "execute_result"
    }
   ],
   "source": [
    "get_item_content_recommendations(small_meta_df, cosine_matrix, 'Africa Screams')"
   ]
  },
  {
   "cell_type": "markdown",
   "metadata": {},
   "source": [
    "__ToDo__: implement functions to perform item-item keywords based recommendations"
   ]
  },
  {
   "cell_type": "code",
   "execution_count": 15,
   "metadata": {},
   "outputs": [
    {
     "data": {
      "text/plain": [
       "(9219, 28)"
      ]
     },
     "execution_count": 15,
     "metadata": {},
     "output_type": "execute_result"
    }
   ],
   "source": [
    "# load credits and keywords data\n",
    "credits = pd.read_csv('credits.csv')\n",
    "keywords = pd.read_csv('keywords.csv')\n",
    "# parse ID\n",
    "keywords['id'] = keywords['id'].astype('int')\n",
    "credits['id'] = credits['id'].astype('int')\n",
    "meta_df['id'] = meta_df['id'].astype('int')\n",
    "# merge existing dataframe with credits and keywords\n",
    "meta_df = meta_df.merge(credits, on='id')\n",
    "meta_df = meta_df.merge(keywords, on='id')\n",
    "# take only small subset\n",
    "small_meta_df = meta_df[meta_df['id'].isin(links_small)]\n",
    "small_meta_df.shape"
   ]
  },
  {
   "cell_type": "code",
   "execution_count": 16,
   "metadata": {
    "collapsed": true
   },
   "outputs": [],
   "source": [
    "# convert parse to json and keep top 3 from cast\n",
    "small_meta_df['cast'] = small_meta_df['cast'].apply(literal_eval)\n",
    "small_meta_df['cast'] = small_meta_df['cast'].apply(lambda x: [i['name'] for i in x] if isinstance(x, list) else [])\n",
    "small_meta_df['cast'] = small_meta_df['cast'].apply(lambda x: x[:3] if len(x) >=3 else x)\n",
    "\n",
    "# parse crew\n",
    "small_meta_df['crew'] = small_meta_df['crew'].apply(literal_eval)\n",
    "\n",
    "# measure cast and crew sizes\n",
    "small_meta_df['cast_size'] = small_meta_df['cast'].apply(lambda x: len(x))\n",
    "small_meta_df['crew_size'] = small_meta_df['crew'].apply(lambda x: len(x))"
   ]
  },
  {
   "cell_type": "code",
   "execution_count": 17,
   "metadata": {
    "collapsed": true
   },
   "outputs": [],
   "source": [
    "# find director\n",
    "def get_director(x):\n",
    "    names = [x['name'] for x in small_meta_df['crew'][0] if x['job']=='Director']\n",
    "    return np.nan if not names else names[0]\n",
    "\n",
    "small_meta_df['director'] = small_meta_df['crew'].apply(get_director)\n",
    "small_meta_df['director'] = small_meta_df['director'].astype('str').apply(lambda x: str.lower(x.replace(\" \", \"\")))\n",
    "small_meta_df['director'] = small_meta_df['director'].apply(lambda x: [x, x, x])"
   ]
  },
  {
   "cell_type": "code",
   "execution_count": 18,
   "metadata": {
    "collapsed": true
   },
   "outputs": [],
   "source": [
    "def filter_keywords(x):\n",
    "    return list(set(x).intersection(words))\n",
    "\n",
    "small_meta_df['keywords'] = small_meta_df['keywords'].apply(literal_eval)\n",
    "small_meta_df['keywords'] = small_meta_df['keywords'].apply(lambda x: [i['name'] for i in x] if isinstance(x, list) else [])\n",
    "\n",
    "# keep only frequent words\n",
    "words = small_meta_df.apply(lambda x: pd.Series(x['keywords']),axis=1).stack().reset_index(level=1, drop=True)\n",
    "words.name = 'keyword'\n",
    "words = words.value_counts()\n",
    "words = words[words > 1]\n",
    "\n",
    "# filter keywords\n",
    "small_meta_df['keywords'] = small_meta_df['keywords'].apply(filter_keywords)\n",
    "small_meta_df['keywords'] = small_meta_df['keywords'].apply(lambda x: [stemmer.stem(i) for i in x])\n",
    "small_meta_df['keywords'] = small_meta_df['keywords'].apply(lambda x: [str.lower(i.replace(\" \", \"\")) for i in x])"
   ]
  },
  {
   "cell_type": "code",
   "execution_count": 19,
   "metadata": {
    "collapsed": true
   },
   "outputs": [],
   "source": [
    "# create stemmer\n",
    "stemmer = SnowballStemmer('english')\n",
    "small_meta_df['soup'] = small_meta_df['keywords'] + small_meta_df['cast'] + small_meta_df['director'] + small_meta_df['genres']\n",
    "small_meta_df['soup'] = small_meta_df['soup'].apply(lambda x: ' '.join(x))"
   ]
  },
  {
   "cell_type": "code",
   "execution_count": 20,
   "metadata": {
    "collapsed": true
   },
   "outputs": [],
   "source": [
    "def create_cosine_matrix_for_words(df):\n",
    "    # use CountVectorizer and cosine_similarity\n",
    "    vectorizer = CountVectorizer()\n",
    "    vectorizer.fit_transform(df['soup'])\n",
    "    print(vectorizer.get_feature_names())\n",
    "    pass"
   ]
  },
  {
   "cell_type": "code",
   "execution_count": 22,
   "metadata": {},
   "outputs": [
    {
     "data": {
      "text/plain": [
       "0        Tom Hanks Tim Allen Don Rickles johnlasseter j...\n",
       "1        Robin Williams Jonathan Hyde Kirsten Dunst joh...\n",
       "2        Walter Matthau Jack Lemmon Ann-Margret johnlas...\n",
       "3        Whitney Houston Angela Bassett Loretta Devine ...\n",
       "4        Steve Martin Diane Keaton Martin Short johnlas...\n",
       "5        Al Pacino Robert De Niro Val Kilmer johnlasset...\n",
       "6        Harrison Ford Julia Ormond Greg Kinnear johnla...\n",
       "7        Jonathan Taylor Thomas Brad Renfro Rachael Lei...\n",
       "8        Jean-Claude Van Damme Powers Boothe Dorian Har...\n",
       "9        Pierce Brosnan Sean Bean Izabella Scorupco joh...\n",
       "10       Michael Douglas Annette Bening Michael J. Fox ...\n",
       "11       Leslie Nielsen Mel Brooks Amy Yasbeck johnlass...\n",
       "12       Kevin Bacon Bob Hoskins Bridget Fonda johnlass...\n",
       "13       Anthony Hopkins Joan Allen Powers Boothe johnl...\n",
       "14       Geena Davis Matthew Modine Frank Langella john...\n",
       "15       Robert De Niro Sharon Stone Joe Pesci johnlass...\n",
       "16       Kate Winslet Emma Thompson Hugh Grant johnlass...\n",
       "17       Tim Roth Antonio Banderas Jennifer Beals johnl...\n",
       "18       Jim Carrey Ian McNeice Simon Callow johnlasset...\n",
       "19       Wesley Snipes Woody Harrelson Jennifer Lopez j...\n",
       "20       John Travolta Gene Hackman Rene Russo johnlass...\n",
       "21       Sigourney Weaver Holly Hunter Will Patton john...\n",
       "22       Sylvester Stallone Antonio Banderas Julianne M...\n",
       "23       Mary Steenburgen Sean Patrick Flanery Lance He...\n",
       "24       Nicolas Cage Elisabeth Shue Julian Sands johnl...\n",
       "25       Laurence Fishburne Irène Jacob Kenneth Branagh...\n",
       "26       Christina Ricci Rosie O'Donnell Thora Birch jo...\n",
       "27       Amanda Root Ciarán Hinds Susan Fleetwood johnl...\n",
       "28       Ron Perlman Dominique Pinon Judith Vittet john...\n",
       "29       Gong Li Li Bao-Tian Wang Xiaoxiao johnlasseter...\n",
       "                               ...                        \n",
       "39963    Vanessa Kirby Thure Lindhardt David Ajala john...\n",
       "40019    Jesse Eisenberg Woody Harrelson Mark Ruffalo j...\n",
       "40153    Roxanna Augesen Rocky Duvall Michael St. Micha...\n",
       "40206    Megan Fox Stephen Amell Will Arnett johnlasset...\n",
       "40231    Andy Samberg Jorma Taccone Akiva Schaffer john...\n",
       "40265    Patrick Wilson Vera Farmiga Madison Wolfe john...\n",
       "40286    Mark Strong Luke Wilson Sanaa Lathan johnlasse...\n",
       "40317    Melissa McCarthy Kristen Wiig Kate McKinnon jo...\n",
       "40392    Dwayne Johnson Kevin Hart Amy Ryan johnlassete...\n",
       "40455    Matt Damon Alicia Vikander Tommy Lee Jones joh...\n",
       "40456    Paula Garcés Annabella Sciorra Bill Camp johnl...\n",
       "40499    Alexander Skarsgård Margot Robbie Christoph Wa...\n",
       "40500    Elizabeth Mitchell Frank Grillo Mykelti Willia...\n",
       "40501    Zac Efron Adam Devine Anna Kendrick johnlasset...\n",
       "40512               johnlasseter johnlasseter johnlasseter\n",
       "40528    Ellen Page Allison Janney Tammy Blanchard john...\n",
       "40554    johnlasseter johnlasseter johnlasseter Family ...\n",
       "40631    Emma Roberts Dave Franco Emily Meade johnlasse...\n",
       "40688    johnlasseter johnlasseter johnlasseter Documen...\n",
       "40717    Thomas Middleditch Humphrey Ker Elisabeth Gray...\n",
       "40787    Laura Albert Bruce Benderson Dennis Cooper joh...\n",
       "40831    Jeff Bridges Chris Pine Ben Foster johnlassete...\n",
       "40837    Go Ayano Shiori Kutsuna Ayumi Fujimura johnlas...\n",
       "40920    Helen Rogers Alexandra Turshen Lauren Molina j...\n",
       "40939    Ian Ziering Tara Reid David Hasselhoff johnlas...\n",
       "40952    Sidney Poitier Wendy Crewson Jay O. Sanders jo...\n",
       "41172    Akshay Kumar Ileana D'Cruz Esha Gupta johnlass...\n",
       "41225    Hrithik Roshan Pooja Hegde Kabir Bedi johnlass...\n",
       "41391    Hiroki Hasegawa Yutaka Takenouchi Satomi Ishih...\n",
       "41669    Paul McCartney Ringo Starr John Lennon johnlas...\n",
       "Name: soup, Length: 9219, dtype: object"
      ]
     },
     "execution_count": 22,
     "metadata": {},
     "output_type": "execute_result"
    }
   ],
   "source": [
    "stemmer.\n",
    "small_meta_df['soup']"
   ]
  },
  {
   "cell_type": "code",
   "execution_count": 21,
   "metadata": {},
   "outputs": [
    {
     "name": "stdout",
     "output_type": "stream",
     "text": [
      "['50', 'aaliyah', 'aalto', 'aamir', 'aaran', 'aarne', 'aaron', 'aasif', 'abatantuono', 'abate', 'abbas', 'abbass', 'abbie', 'abbott', 'abbrescia', 'abby', 'abdalla', 'abdolrahman', 'abdul', 'abdullah', 'abdullrahman', 'abe', 'abed', 'abedini', 'abel', 'abelanski', 'abercrombie', 'abhin', 'abigail', 'able', 'abo', 'abraham', 'abrams', 'abril', 'accorsi', 'achbar', 'acheche', 'ackland', 'ackles', 'ackman', 'acovone', 'action', 'ad', 'adam', 'adames', 'adamo', 'adamová', 'adams', 'adamson', 'adar', 'adcock', 'addy', 'adebimpe', 'adel', 'adelaide', 'adelman', 'aden', 'adet', 'adewale', 'adi', 'adjani', 'adkins', 'adl', 'adler', 'adley', 'adlon', 'adolf', 'adolfo', 'adolph', 'adolphe', 'adorf', 'adrian', 'adriana', 'adrianne', 'adriano', 'adrien', 'adrienne', 'adrián', 'adsit', 'adventure', 'adèle', 'ae', 'aernouts', 'afemo', 'affleck', 'afshin', 'agapova', 'agar', 'agata', 'agbaje', 'agee', 'aghdashloo', 'agnes', 'agnew', 'agnès', 'agosto', 'agron', 'aguilar', 'aguilera', 'agutter', 'ah', 'ahangarani', 'aherne', 'ahlstedt', 'ahluwalia', 'ahmad', 'ahmed', 'ahn', 'aho', 'ahola', 'ahonen', 'ai', 'aida', 'aidan', 'aidman', 'aiello', 'aikawa', 'aiken', 'aileen', 'aimee', 'aimée', 'aino', 'ainsworth', 'aishwarya', 'aitana', 'aizemberg', 'aj', 'ajala', 'ajaye', 'ajith', 'akaji', 'akbar', 'akbari', 'akemi', 'akersten', 'akhtar', 'aki', 'akihiko', 'akihiro', 'akiko', 'akim', 'akinnuoye', 'akinshina', 'akio', 'akira', 'akiva', 'akre', 'aksel', 'akshay', 'aksila', 'al', 'alain', 'alakina', 'alamsyah', 'alan', 'alannah', 'alanson', 'alaoui', 'alastair', 'alazraqui', 'alaïa', 'alba', 'albert', 'alberta', 'albertazzi', 'alberto', 'albertson', 'albinus', 'albrecht', 'albright', 'albrizzi', 'alcázar', 'alda', 'alden', 'alderton', 'aldo', 'aleandro', 'alec', 'aleisha', 'alejandro', 'alejo', 'aleksa', 'aleksander', 'aleksandr', 'aleksandrov', 'aleksei', 'aleksey', 'aleong', 'alessandra', 'alessandro', 'alessio', 'alex', 'alexa', 'alexander', 'alexandra', 'alexandre', 'alexia', 'alexie', 'alexio', 'alexis', 'alf', 'alfaro', 'alfie', 'alfonso', 'alfre', 'alfred', 'algohani', 'algren', 'ali', 'alia', 'alice', 'alicia', 'alicja', 'alida', 'alidoosti', 'aline', 'alison', 'alla', 'allakariallak', 'allan', 'allard', 'allbritton', 'allen', 'alley', 'allgood', 'allie', 'allin', 'allison', 'allman', 'allo', 'allred', 'ally', 'allyn', 'allynne', 'allyson', 'allégret', 'almani', 'almanta', 'almeida', 'alnour', 'alois', 'aloja', 'alok', 'alona', 'alonna', 'alonso', 'alpert', 'altamura', 'alterio', 'altieri', 'altman', 'alton', 'alvarado', 'alvarez', 'alvaro', 'alvin', 'alysia', 'alyson', 'alyssa', 'alysson', 'am', 'amalric', 'aman', 'amancaya', 'amanda', 'amann', 'amanpour', 'amara', 'amariah', 'amario', 'amaru', 'amaya', 'amber', 'ambra', 'ambrose', 'ameche', 'amedori', 'ameena', 'amelia', 'amell', 'ament', 'amer', 'america', 'ames', 'ami', 'amick', 'amie', 'amin', 'amir', 'amira', 'amis', 'amitabh', 'ammara', 'ammelrooy', 'amos', 'amplas', 'amurri', 'amy', 'amédée', 'ana', 'anais', 'analeigh', 'anamaria', 'anaya', 'anaïs', 'and', 'anders', 'andersen', 'anderson', 'andersson', 'andi', 'andie', 'andre', 'andrea', 'andreas', 'andree', 'andreeff', 'andreescu', 'andrei', 'andress', 'andrew', 'andrews', 'andrine', 'andronica', 'andrás', 'andré', 'andréi', 'andrés', 'andrésen', 'andy', 'aneta', 'anette', 'angarano', 'angel', 'angela', 'angelica', 'angeliki', 'angelina', 'angeline', 'angelini', 'angelis', 'angelo', 'angelou', 'angie', 'angiolini', 'anglade', 'angourie', 'angstreich', 'angulo', 'angus', 'anh', 'ania', 'anika', 'anil', 'animation', 'aniston', 'anita', 'anjelica', 'anka', 'anker', 'ankers', 'anki', 'ankie', 'ankita', 'ankrum', 'ann', 'anna', 'annabel', 'annabella', 'annabelle', 'annabeth', 'annable', 'annalee', 'annalynne', 'annasophia', 'anne', 'annemarie', 'annen', 'annet', 'annette', 'annie', 'annis', 'annmarie', 'anno', 'annuddin', 'anny', 'anouk', 'ansari', 'ansel', 'ansell', 'ansen', 'anspach', 'antanas', 'antara', 'anthony', 'antoine', 'anton', 'antonella', 'antonelli', 'antonia', 'antonin', 'antonio', 'antonov', 'antonutti', 'antony', 'antron', 'antônio', 'anwar', 'anya', 'anzac', 'anzilotti', 'aoi', 'aoki', 'aono', 'aoyama', 'apollo', 'apollonia', 'appleby', 'applegate', 'aquino', 'arash', 'arata', 'aratama', 'araya', 'arbanville', 'arbaugh', 'arcand', 'archer', 'archibald', 'archie', 'arcuri', 'arcy', 'ardant', 'arden', 'arditi', 'arestrup', 'argento', 'argiro', 'argo', 'ari', 'aria', 'ariadna', 'ariane', 'arias', 'arie', 'ariel', 'arielle', 'arif', 'arifin', 'arkani', 'arkin', 'arkins', 'arlen', 'arlene', 'arletty', 'arliss', 'arlo', 'arlyck', 'armand', 'armando', 'armani', 'armendáriz', 'armie', 'armin', 'armitage', 'armstrong', 'arnatsiaq', 'arnaud', 'arnaz', 'arness', 'arnett', 'arno', 'arnold', 'aronson', 'arquette', 'arrighi', 'arrigotti', 'arrin', 'arsenio', 'arsinée', 'art', 'arta', 'arterton', 'arthur', 'arthus', 'artie', 'artman', 'artyom', 'arye', 'arévalo', 'asa', 'asano', 'ascaride', 'asevedo', 'ash', 'ashanti', 'ashbaugh', 'ashby', 'ashcroft', 'asher', 'asherson', 'ashfield', 'ashford', 'ashkenazi', 'ashley', 'ashlie', 'ashlynn', 'ashmore', 'asholt', 'ashton', 'asi', 'asia', 'aske', 'askew', 'asner', 'asou', 'aspinall', 'assa', 'assante', 'assaraf', 'assumpta', 'ast', 'astaire', 'astar', 'asti', 'astin', 'astor', 'astrid', 'atay', 'ates', 'atherton', 'athina', 'atkin', 'atkins', 'atkinson', 'atossa', 'atsuko', 'atta', 'attah', 'attal', 'atte', 'attell', 'attenborough', 'auberjonois', 'aubrey', 'aud', 'audi', 'audie', 'audley', 'audra', 'audrain', 'audran', 'audrey', 'auer', 'aug', 'auger', 'augesen', 'august', 'aulin', 'ault', 'aumont', 'aung', 'aurora', 'aurélien', 'austen', 'austin', 'auteuil', 'autran', 'ava', 'avalon', 'avari', 'avery', 'avgeropoulos', 'avi', 'avijit', 'aviles', 'avital', 'awa', 'awaji', 'awashima', 'axel', 'axton', 'aya', 'ayako', 'ayala', 'ayanna', 'ayano', 'ayda', 'ayelet', 'ayesha', 'aykroyd', 'aylesworth', 'ayres', 'ayrton', 'ayu', 'ayub', 'ayumi', 'ayush', 'ayşen', 'azabal', 'azaria', 'aziz', 'azmi', 'aznavour', 'azzedine', 'baard', 'baasmo', 'babatundé', 'babbitt', 'babe', 'babett', 'babluani', 'bacall', 'baccarin', 'bach', 'bachar', 'bachchan', 'bachleda', 'bachmann', 'backer', 'baclanova', 'bacon', 'bacri', 'badalucco', 'badel', 'bader', 'badge', 'badgley', 'badin', 'badreya', 'badu', 'bae', 'baer', 'baert', 'baesel', 'baetens', 'baez', 'baffier', 'bag', 'bagby', 'bagheri', 'bah', 'bahare', 'bahns', 'bahrami', 'bai', 'bailey', 'bainter', 'baio', 'baird', 'bairstow', 'baitz', 'bajram', 'bajzat', 'baka', 'baker', 'bakhtiari', 'baki', 'bakken', 'bakula', 'balaban', 'balan', 'balasko', 'balden', 'baldoni', 'baldry', 'baldwin', 'bale', 'balerdi', 'balfour', 'balin', 'balint', 'balk', 'ball', 'ballard', 'ballerini', 'ballesteros', 'balme', 'balsam', 'balthazar', 'bam', 'bambridge', 'bana', 'banai', 'bancroft', 'banderas', 'banionis', 'bankhead', 'bankolé', 'banks', 'banksy', 'banky', 'bannen', 'banner', 'bannerjee', 'bannister', 'banzie', 'bao', 'baptiste', 'baquero', 'bar', 'barack', 'baranski', 'barbagelata', 'barbara', 'barbareschi', 'barbeau', 'barber', 'barberi', 'barbosa', 'barbour', 'barboura', 'barbra', 'barclay', 'bardem', 'bardot', 'bardsley', 'baring', 'barker', 'barkhammar', 'barkin', 'barkworth', 'barlow', 'barnard', 'barnatán', 'barnes', 'barnett', 'barney', 'baron', 'barona', 'barouh', 'barr', 'barrault', 'barrera', 'barres', 'barret', 'barrett', 'barretta', 'barrie', 'barrier', 'barrile', 'barron', 'barry', 'barrymore', 'barryte', 'barshop', 'barsi', 'barsky', 'bart', 'bartel', 'barth', 'bartha', 'barthelmess', 'bartholomew', 'bartholomäi', 'bartis', 'bartley', 'bartok', 'barton', 'bartusiak', 'bartzen', 'baruchel', 'baryshnikov', 'basaraba', 'basch', 'basco', 'basehart', 'basil', 'basinger', 'baskett', 'basman', 'basrun', 'bass', 'bassett', 'basso', 'basterfield', 'bastos', 'batalov', 'batcheff', 'bate', 'bateman', 'bates', 'battisti', 'battiston', 'battle', 'bauchau', 'bauche', 'bauer', 'baugin', 'bautista', 'bavora', 'baxley', 'baxter', 'bayar', 'baybi', 'baye', 'bd', 'beach', 'beacham', 'beahan', 'beale', 'beals', 'bean', 'beard', 'bearse', 'beatrice', 'beatty', 'beau', 'beaulieu', 'beaumont', 'beauvais', 'bebe', 'beck', 'beckel', 'becker', 'beckham', 'beckinsale', 'becky', 'bedard', 'bedelia', 'bedford', 'bedi', 'bednarz', 'bee', 'beek', 'beerblock', 'beers', 'beery', 'beesley', 'befort', 'begg', 'beghe', 'begley', 'behets', 'behn', 'behr', 'behrs', 'behshid', 'behzad', 'beiring', 'bejo', 'bel', 'bela', 'belafonte', 'belcher', 'belcourt', 'belic', 'bell', 'bella', 'bellamy', 'bellaver', 'belle', 'bello', 'bellows', 'bellucci', 'belmondo', 'belmont', 'belt', 'beltran', 'belushi', 'belvaux', 'belzer', 'belén', 'ben', 'benben', 'bencherif', 'benderson', 'bendix', 'bendre', 'benedict', 'benedikt', 'bengt', 'benham', 'benhamou', 'benicio', 'benigni', 'bening', 'benito', 'benjamin', 'bennent', 'bennett', 'benno', 'benny', 'benoist', 'benoit', 'benoît', 'benson', 'bentivoglio', 'bentley', 'benton', 'benz', 'benzali', 'benício', 'ber', 'bercovici', 'bereen', 'beregi', 'berenger', 'berenson', 'berg', 'bergen', 'berger', 'berghof', 'bergin', 'bergl', 'bergman', 'bergmans', 'bergès', 'berke', 'berkel', 'berkeley', 'berkley', 'berkoff', 'berkowitz', 'berle', 'berley', 'berling', 'berlinger', 'berléand', 'bern', 'bernadette', 'bernal', 'bernard', 'bernardi', 'bernardine', 'bernd', 'berner', 'berners', 'bernett', 'bernhard', 'bernhardt', 'bernie', 'berninger', 'bernon', 'berns', 'bernsen', 'bernstein', 'bernthal', 'berridge', 'berry', 'berryman', 'berta', 'berthelsen', 'bertil', 'bertin', 'berto', 'bertrand', 'bertuccelli', 'bervoets', 'besch', 'bess', 'besse', 'bessie', 'bessy', 'best', 'bestayeva', 'beth', 'bethea', 'bethune', 'betsy', 'bettany', 'bette', 'bettin', 'bettis', 'betty', 'beulah', 'bevel', 'beverly', 'bexton', 'bey', 'beymer', 'beyoncé', 'bezerra', 'bhagavan', 'bhatt', 'bhirombhakdi', 'bialik', 'bianchi', 'bianco', 'biao', 'bibb', 'bibi', 'bibra', 'bichir', 'bichlbaum', 'bickford', 'bidault', 'biehn', 'biel', 'bierbichler', 'bierend', 'bieri', 'bierko', 'bierut', 'bigagli', 'biggerstaff', 'biggs', 'bihan', 'bijou', 'bijvoet', 'bikel', 'bill', 'billie', 'billingsley', 'billy', 'bilodeau', 'bilson', 'bin', 'bing', 'binoche', 'birbiglia', 'birch', 'bird', 'birdsall', 'birgisson', 'birgit', 'birgitta', 'birgitte', 'birkin', 'birol', 'birthistle', 'bishop', 'bisset', 'bisson', 'biswas', 'bitorajac', 'bitterling', 'bittner', 'bizzarri', 'bjelfvenstam', 'björk', 'björklund', 'björkman', 'björn', 'björnstrand', 'black', 'blackley', 'blackman', 'blackwell', 'blacque', 'blades', 'blain', 'blaine', 'blair', 'blais', 'blake', 'blakely', 'blakley', 'blalock', 'blanc', 'blanca', 'blanchard', 'blanche', 'blanchett', 'blanco', 'blandine', 'blaustein', 'blayn', 'blayne', 'blears', 'bledel', 'bleeth', 'bleibinger', 'bleibtreu', 'blessed', 'blethyn', 'bleuette', 'blieden', 'blier', 'bliss', 'blom', 'blondeau', 'blondell', 'blonsky', 'bloodgood', 'bloom', 'bloomberg', 'blore', 'blossom', 'blount', 'blow', 'blucas', 'blue', 'blum', 'blunt', 'bluteau', 'bly', 'blyth', 'blythe', 'bo', 'bob', 'bobby', 'bobcat', 'bobo', 'bochner', 'bodan', 'bodil', 'bodison', 'bodnia', 'bodor', 'bodrov', 'boegh', 'boensch', 'boer', 'bogarde', 'bogart', 'bogosian', 'bogucharsky', 'bohrer', 'bohringer', 'bojana', 'bokeem', 'bolam', 'boland', 'bolek', 'bolen', 'boles', 'bolger', 'bollman', 'bolo', 'bologna', 'bolton', 'boltt', 'bolz', 'bomer', 'bon', 'bonacelli', 'bonaduce', 'bonaiuto', 'bonamy', 'bonanno', 'bonar', 'bond', 'bondarchuk', 'bondi', 'bonerz', 'bonet', 'boneta', 'bong', 'bongard', 'bongiorno', 'bongkoj', 'bonham', 'boni', 'bonifant', 'bonifassi', 'bonnaire', 'bonner', 'bonnie', 'bono', 'bonsall', 'bontrager', 'bonz', 'bonzel', 'booboo', 'booker', 'boon', 'boone', 'boonyasak', 'boorem', 'boorman', 'booth', 'boothe', 'borchardt', 'borden', 'bordier', 'boreanaz', 'borges', 'borgnine', 'boris', 'borisova', 'born', 'borrego', 'borrelli', 'borstein', 'borth', 'bosch', 'boschi', 'bosco', 'boseman', 'bosetti', 'bossell', 'bostick', 'boston', 'bostwick', 'bosworth', 'botes', 'boti', 'botto', 'bottoms', 'botuchis', 'bouajila', 'bouchaib', 'bouchard', 'bouchez', 'boudreau', 'boujenah', 'boulanger', 'bouquet', 'bourdin', 'bourdon', 'bourne', 'bourvil', 'bousdoukos', 'bouvier', 'bova', 'bow', 'bowden', 'bowe', 'bowen', 'bower', 'bowie', 'bowman', 'bowyer', 'boxleitner', 'boyar', 'boyd', 'boyega', 'boyer', 'boyle', 'boynton', 'bozena', 'bozkurt', 'bozyk', 'bozzuffi', 'bracco', 'bracken', 'bracker', 'brad', 'braddy', 'bradford', 'bradley', 'bradshaw', 'brady', 'braff', 'braga', 'braham', 'brahim', 'brakni', 'bramley', 'branagh', 'brancato', 'branch', 'brancia', 'brand', 'brandauer', 'brandis', 'brando', 'brandon', 'brandt', 'brandy', 'branko', 'brannaman', 'brannan', 'brannigan', 'brantley', 'braschi', 'brasseur', 'bratt', 'braugher', 'braun', 'brazeau', 'brazzi', 'braña', 'bre', 'breashears', 'breck', 'breckin', 'bree', 'breen', 'breitman', 'bremner', 'brenda', 'brendan', 'brendon', 'brennan', 'brenneman', 'brenner', 'breno', 'brent', 'brenton', 'breslin', 'bresslaw', 'bressler', 'bret', 'breton', 'brett', 'breuls', 'brewster', 'brewton', 'breznahan', 'brialy', 'brian', 'briana', 'brianne', 'brice', 'bridgers', 'bridges', 'bridget', 'bridgette', 'brie', 'briem', 'brien', 'brier', 'brierly', 'briers', 'briggs', 'bright', 'brighton', 'brigitte', 'briley', 'brimley', 'brine', 'brinkley', 'brion', 'briony', 'briski', 'brit', 'britney', 'britt', 'brittain', 'brittany', 'britton', 'bro', 'broadbent', 'brochet', 'brock', 'broderick', 'brodie', 'brody', 'brogger', 'brogle', 'brolin', 'bron', 'bronson', 'brontis', 'brook', 'brooke', 'brooklyn', 'brooks', 'broomfield', 'brosnan', 'broussard', 'browder', 'brown', 'browne', 'browning', 'brucato', 'bruce', 'brugh', 'bruni', 'brunnberg', 'bruno', 'bryan', 'bryant', 'bryce', 'brydon', 'brynner', 'brédice', 'brömssen', 'brügger', 'brühl', 'bubba', 'bucatinsky', 'bucci', 'buchan', 'buchanan', 'buchholz', 'buck', 'buckland', 'buckley', 'buckwalter', 'bud', 'buddy', 'budge', 'buell', 'bug', 'buhagiar', 'bujold', 'bukowski', 'bullock', 'bumpass', 'bunton', 'buono', 'buranapanit', 'bureau', 'burgan', 'burgess', 'burghart', 'burgi', 'buring', 'burke', 'burkey', 'burl', 'burlinson', 'burlyaev', 'burness', 'burnett', 'burnham', 'burns', 'burrell', 'burress', 'burrise', 'burroughs', 'burrows', 'burstyn', 'burt', 'burton', 'burtt', 'buscemi', 'busch', 'busey', 'busfield', 'bush', 'bushman', 'busia', 'bussières', 'buster', 'bustos', 'butch', 'butcher', 'butler', 'butterfield', 'buttons', 'buñuel', 'byers', 'byner', 'bynes', 'byrd', 'byrne', 'byron', 'byung', 'bánsági', 'bárbara', 'bächler', 'béart', 'béatrice', 'bégaudeau', 'bérénice', 'böhm', 'börje', 'börjeson', 'büchner', 'bühler', 'büşra', 'caan', 'cable', 'cabot', 'cabral', 'cacho', 'caerthan', 'caesar', 'cage', 'cagney', 'cain', 'caine', 'caio', 'caitlin', 'cal', 'calder', 'calderon', 'caldwell', 'cale', 'calfa', 'calhern', 'calhoun', 'calis', 'calista', 'callahan', 'callan', 'calleia', 'callen', 'callies', 'callow', 'calloway', 'callum', 'calm', 'calvet', 'calvin', 'cam', 'camacho', 'cameron', 'camilla', 'camille', 'camp', 'campbell', 'campo', 'campos', 'camus', 'canada', 'canady', 'canals', 'candace', 'candela', 'candice', 'candra', 'canduci', 'candy', 'canet', 'cannavale', 'cannon', 'cantarini', 'canterbury', 'cantillo', 'cantinflas', 'cantona', 'caouette', 'capaldi', 'caplan', 'capolicchio', 'capra', 'capron', 'capshaw', 'capsis', 'cara', 'carafotes', 'carano', 'carbonell', 'cardellini', 'cardille', 'cardinale', 'cardinali', 'cardone', 'cardoso', 'carel', 'carell', 'caren', 'carey', 'cargol', 'carhart', 'carice', 'carina', 'cariou', 'carl', 'carla', 'carley', 'carlin', 'carlisle', 'carlo', 'carlos', 'carlson', 'carlsson', 'carly', 'carlyle', 'carmack', 'carme', 'carmela', 'carmen', 'carmichael', 'carmilla', 'carneiro', 'carney', 'carnovsky', 'carol', 'carola', 'carole', 'caroleen', 'carolina', 'caroline', 'carolyn', 'caron', 'carpenter', 'carr', 'carradine', 'carrera', 'carrere', 'carrey', 'carrie', 'carrillo', 'carrière', 'carrol', 'carroll', 'carruth', 'carry', 'carrà', 'carré', 'carson', 'carstensen', 'cart', 'carter', 'cartlidge', 'cartwright', 'caruso', 'carven', 'carvey', 'carville', 'cary', 'caryn', 'casas', 'cascio', 'caselotti', 'casey', 'cash', 'casini', 'casper', 'cassady', 'cassandra', 'cassavetes', 'cassel', 'cassidy', 'castel', 'castellaneta', 'castellitto', 'castelnuovo', 'castillo', 'castle', 'castro', 'cataldi', 'catalina', 'cate', 'cates', 'catharine', 'catherine', 'cathryn', 'cathy', 'catinca', 'catlett', 'catlin', 'caton', 'catrin', 'catriona', 'cattrall', 'cattrysse', 'caubère', 'caucheteux', 'cauchy', 'caulfield', 'caunes', 'cavadini', 'cavanagh', 'cavanaugh', 'cavazos', 'cavender', 'cavendish', 'caviezel', 'cavill', 'cavina', 'cawthorne', 'cayden', 'cayo', 'cazale', 'cch', 'ceccaldi', 'cecchi', 'cecil', 'cecilia', 'cederna', 'cedric', 'cee', 'celi', 'celia', 'cem', 'cena', 'cengiz', 'cent', 'cera', 'cerioni', 'cernan', 'cerny', 'cesana', 'cesar', 'cha', 'chabat', 'chabert', 'chabriel', 'chad', 'chadbourne', 'chadwick', 'chaim', 'chakravarty', 'chalimon', 'chamas', 'chamberlain', 'chambers', 'champagne', 'chan', 'chand', 'chanda', 'chandler', 'chandra', 'chandrasekhar', 'chaney', 'chang', 'channing', 'chanos', 'chantal', 'chanéac', 'chao', 'chapin', 'chaplin', 'chapman', 'chappelle', 'charach', 'charbonneau', 'chard', 'charis', 'charisse', 'charles', 'charleson', 'charley', 'charlie', 'charlize', 'charlotte', 'charlton', 'charpentier', 'chase', 'chastain', 'chatchai', 'chatel', 'chatelain', 'chatinover', 'chatree', 'chatterjee', 'chatterton', 'chatton', 'chatwin', 'chau', 'chaulet', 'chavis', 'chayanne', 'chaykin', 'chazel', 'chazz', 'chbosky', 'cheadle', 'cheech', 'chekhov', 'chelcie', 'chelsea', 'chemakhi', 'chen', 'cheng', 'chenoa', 'chenoweth', 'chepil', 'cher', 'cherelle', 'cherie', 'cherot', 'cherrill', 'cherry', 'cheryl', 'cheshire', 'chete', 'cheung', 'chevalier', 'chevallier', 'chevy', 'chew', 'chi', 'chia', 'chiaki', 'chiao', 'chiara', 'chiba', 'chibber', 'chick', 'chico', 'chief', 'chieko', 'chihara', 'chiharu', 'chika', 'chikage', 'chilcoat', 'chiles', 'chilson', 'chin', 'chinen', 'ching', 'chingmy', 'chinlund', 'chip', 'chirizzi', 'chisholm', 'chishu', 'chiu', 'chiwetel', 'chizuru', 'chloe', 'chloë', 'chlumsky', 'cho', 'choi', 'chokling', 'chomsky', 'chon', 'chong', 'chopra', 'chou', 'choudhury', 'chow', 'chriqui', 'chris', 'christa', 'christensen', 'christian', 'christiane', 'christians', 'christiansen', 'christie', 'christina', 'christine', 'christmas', 'christoph', 'christopher', 'christy', 'chuang', 'chuchran', 'chuck', 'chukerman', 'chulpan', 'chuluun', 'chun', 'chunchuna', 'chung', 'chunibala', 'chupp', 'church', 'churchman', 'chus', 'chutcha', 'chute', 'chweneyagae', 'chyi', 'chyler', 'chávez', 'chéreau', 'ciamaca', 'ciarán', 'cibrian', 'cicely', 'cilento', 'cillian', 'cimino', 'cindy', 'cinzia', 'cioffi', 'citti', 'claflin', 'clainche', 'claire', 'clancy', 'clapton', 'clara', 'clare', 'clarence', 'clarissa', 'clark', 'clarke', 'clarkson', 'clash', 'claude', 'claudette', 'claudia', 'claudine', 'claudio', 'claus', 'clavel', 'clavier', 'clay', 'clayburgh', 'clayne', 'clayton', 'clea', 'cleasby', 'cleavant', 'cleavon', 'cleef', 'cleese', 'clemens', 'clement', 'clements', 'clemons', 'clezio', 'cliff', 'clifford', 'clift', 'clifton', 'cline', 'clint', 'clinton', 'clive', 'cloke', 'clooney', 'cloris', 'close', 'clottes', 'clotworthy', 'clouzot', 'clown', 'clu', 'clunes', 'cluzet', 'clyde', 'clément', 'cléry', 'coates', 'cobain', 'cobb', 'cobe', 'cobie', 'cobo', 'coburn', 'coca', 'cochrane', 'cocker', 'coco', 'coduri', 'coffey', 'cohan', 'cohen', 'cohn', 'coker', 'colantoni', 'colbert', 'cole', 'coleen', 'coleman', 'colgan', 'colicos', 'colin', 'collard', 'collazo', 'colleen', 'collellmir', 'collet', 'collette', 'colley', 'colli', 'collier', 'collin', 'collins', 'colm', 'colman', 'colombe', 'coltrane', 'columbus', 'colvig', 'combs', 'comedy', 'comingore', 'common', 'compay', 'compston', 'compton', 'conaway', 'conchata', 'conchita', 'conforti', 'congo', 'conlon', 'connell', 'connelly', 'conner', 'connery', 'connick', 'connie', 'connolly', 'connor', 'connors', 'conor', 'conrad', 'conried', 'conroy', 'considine', 'constance', 'constantine', 'conte', 'conti', 'conway', 'cooder', 'cooeyate', 'coogan', 'cook', 'cooke', 'cool', 'coolidge', 'coon', 'cooney', 'cooper', 'coote', 'cope', 'copley', 'copon', 'coppola', 'cora', 'coral', 'corazzi', 'corbalis', 'corban', 'corbet', 'corbett', 'corbin', 'corday', 'corddry', 'corden', 'corduner', 'cordy', 'corey', 'corinealdi', 'corinna', 'corinne', 'corley', 'corman', 'cormie', 'cornaly', 'cornel', 'cornell', 'cornish', 'cornthwaite', 'cornwall', 'coronado', 'correll', 'corri', 'corrieri', 'corrigan', 'corsaut', 'corsia', 'corsini', 'cort', 'cortese', 'cortez', 'cortney', 'cory', 'corzo', 'cosby', 'coseni', 'cosimo', 'cosmin', 'costa', 'costanzo', 'costas', 'costello', 'coster', 'costner', 'cotillard', 'coto', 'cotrona', 'cotten', 'cotterill', 'coughlan', 'coulson', 'coulthard', 'counterfit', 'courcet', 'court', 'courtenay', 'courteney', 'courtney', 'couture', 'covert', 'covey', 'cowan', 'coward', 'cowsill', 'cox', 'coyne', 'coyote', 'craig', 'craigus', 'crain', 'cramer', 'crampton', 'crane', 'cranham', 'cranston', 'cravat', 'craven', 'crawford', 'cree', 'creed', 'creeggan', 'cregar', 'cremer', 'crenna', 'creskoff', 'crew', 'crews', 'crewson', 'cribbins', 'crime', 'crino', 'crisp', 'crispin', 'criss', 'crissy', 'cristiano', 'cristina', 'cromwell', 'cronenberg', 'cronkite', 'cronyn', 'crook', 'cropper', 'crosby', 'cross', 'crossan', 'crossman', 'crothers', 'crouse', 'crow', 'crowe', 'croze', 'crudup', 'cruikshank', 'cruise', 'crumb', 'crutchley', 'cruttwell', 'cruz', 'cryer', 'crystal', 'csaba', 'cserhalmi', 'csikszentmihalyi', 'csokas', 'csongor', 'csányi', 'cuba', 'cube', 'cucciolla', 'cucinotta', 'culkin', 'cullen', 'cullum', 'culp', 'cumberbatch', 'cumming', 'cummings', 'cummins', 'cunayou', 'cundieff', 'cunha', 'cunio', 'cunningham', 'cuny', 'cuoco', 'cupo', 'curd', 'curran', 'curreri', 'currie', 'curry', 'curtin', 'curtis', 'curuś', 'cusack', 'cushing', 'cusick', 'cuthbert', 'cutler', 'cybill', 'cybulski', 'cyd', 'cyler', 'cynda', 'cyndi', 'cynthia', 'cyphers', 'cyril', 'cyrus', 'czarnecki', 'czerny', 'czuchry', 'cámara', 'cécile', 'côte', 'côté', 'da', 'dabney', 'dacascos', 'dacosta', 'daddario', 'daeg', 'dafne', 'dafoe', 'dagenais', 'daggett', 'dagmar', 'dahl', 'dahlström', 'daily', 'daisuke', 'daisy', 'dajani', 'dakota', 'daktari', 'dale', 'dall', 'dallas', 'dalle', 'dallesandro', 'dalton', 'daltrey', 'daly', 'dalí', 'damaine', 'dame', 'damian', 'damici', 'damien', 'damián', 'damla', 'damme', 'damon', 'dan', 'dana', 'danai', 'dance', 'dancy', 'dandridge', 'dane', 'danes', 'dangerfield', 'dania', 'daniel', 'daniela', 'daniell', 'danielle', 'daniels', 'danielsen', 'danko', 'danneel', 'danner', 'danny', 'dano', 'danson', 'dante', 'danuel', 'dany', 'danza', 'danziger', 'daphne', 'dapkunaite', 'daran', 'darby', 'darcy', 'darel', 'daren', 'darger', 'daria', 'darlan', 'darleen', 'darmon', 'darnell', 'darrell', 'darren', 'darrick', 'darrieux', 'darryl', 'darwell', 'darwin', 'daryl', 'darín', 'darío', 'das', 'dash', 'dassas', 'dasté', 'daugirda', 'dave', 'daveigh', 'davenport', 'davey', 'davi', 'david', 'davidovich', 'davidson', 'davidtz', 'davies', 'davina', 'davis', 'davison', 'davitian', 'davoli', 'davos', 'davrak', 'dawber', 'dawid', 'dawn', 'dawna', 'daws', 'dawson', 'dax', 'day', 'dayal', 'daële', 'de', 'dea', 'deacon', 'dead', 'deakins', 'deal', 'dean', 'deane', 'deanna', 'deatrick', 'debargo', 'debbie', 'debby', 'debell', 'debello', 'debi', 'deborah', 'deboy', 'debra', 'decarlo', 'decker', 'decleir', 'decoutere', 'dede', 'dedee', 'dee', 'deeley', 'deems', 'deepika', 'deezen', 'deforest', 'degeneres', 'dehaan', 'dejan', 'dejonge', 'dekay', 'dekker', 'del', 'delamere', 'delaney', 'delannoy', 'delany', 'delay', 'delbert', 'delevingne', 'deliá', 'delle', 'delli', 'delon', 'delony', 'delores', 'delphine', 'delpy', 'delroy', 'delschaft', 'deluise', 'delver', 'demanincor', 'demet', 'demetra', 'demetre', 'demetri', 'demi', 'demidova', 'demián', 'demongeot', 'dempsey', 'demyanenko', 'dench', 'dencik', 'deneuve', 'deng', 'dengler', 'denham', 'denholm', 'denis', 'denise', 'denison', 'dennehy', 'dennek', 'denning', 'dennings', 'dennis', 'denny', 'denton', 'denver', 'denzel', 'depardieu', 'depp', 'dequenne', 'der', 'derangère', 'derbez', 'derek', 'derick', 'dermot', 'dern', 'derricks', 'derryberry', 'derstine', 'des', 'desando', 'descas', 'deschamps', 'deschanel', 'descrières', 'desi', 'desmond', 'desmonde', 'desny', 'desoto', 'despina', 'dessay', 'dessner', 'detten', 'deulen', 'deutsch', 'dev', 'devane', 'devaughn', 'devenie', 'dever', 'devere', 'devi', 'devid', 'devin', 'devine', 'devito', 'devon', 'devos', 'dewaere', 'dewan', 'dewayne', 'dewhurst', 'dewi', 'dewispelaere', 'dewitt', 'dewulf', 'dexter', 'deyoung', 'dharker', 'dharmendra', 'dhawan', 'di', 'diahnne', 'diamand', 'diamandis', 'diamantopoulos', 'diamond', 'dian', 'diana', 'diane', 'dianna', 'dianne', 'diaye', 'diaz', 'dicaprio', 'dice', 'dicenzo', 'dick', 'dickey', 'dickie', 'dickinson', 'dickson', 'didier', 'diedrich', 'diefenthal', 'diego', 'diehl', 'dien', 'dierkes', 'diesel', 'dieter', 'dietrich', 'dietz', 'dietze', 'dieudonné', 'digges', 'diggs', 'dillahunt', 'dillane', 'dillman', 'dillon', 'dimaggio', 'dimitriades', 'dimopoulos', 'din', 'dina', 'dinah', 'dinda', 'dinello', 'ding', 'dinklage', 'dino', 'dinsdale', 'dio', 'dionisi', 'diora', 'director', 'dirk', 'disamoe', 'dismuke', 'disney', 'dita', 'diva', 'divine', 'divoff', 'dix', 'dixon', 'dj', 'djavadan', 'djigirr', 'djimon', 'djodat', 'dmx', 'do', 'doan', 'dobbs', 'dobrev', 'dobroshi', 'dobtcheff', 'doc', 'doctorow', 'documentary', 'doe', 'doerner', 'dogandemir', 'dogg', 'doherty', 'dohlen', 'dohring', 'dohrn', 'doi', 'doig', 'doleman', 'dolenz', 'doll', 'dolly', 'dolores', 'dolph', 'dom', 'dombasle', 'domergue', 'domhnall', 'dominic', 'dominik', 'dominique', 'domiziana', 'dommartin', 'don', 'donahue', 'donal', 'donald', 'donat', 'donatas', 'donda', 'dong', 'donlevy', 'donna', 'donnadieu', 'donnell', 'donnelly', 'donnie', 'donny', 'donoghue', 'donohoe', 'donovan', 'donowho', 'dooley', 'doona', 'dor', 'dora', 'doran', 'dorani', 'dorelli', 'doret', 'dorff', 'dorfman', 'dori', 'dorian', 'doris', 'dorléac', 'dorn', 'dornan', 'doroff', 'dorothy', 'dorothée', 'dors', 'doré', 'dotrice', 'dottermans', 'doubleday', 'doudaeva', 'doudou', 'doueiri', 'doug', 'dougherty', 'douglas', 'dougnac', 'dougray', 'dourif', 'dove', 'dow', 'dowd', 'dowe', 'down', 'downey', 'doyle', 'dr', 'draco', 'dragisic', 'drainie', 'drake', 'drama', 'draper', 'drasbæk', 'dre', 'dreiden', 'drescher', 'dresdel', 'dressler', 'drew', 'dreyfus', 'dreyfuss', 'dries', 'driscoll', 'driver', 'drolas', 'dror', 'dru', 'drucker', 'drum', 'drummond', 'dryer', 'duane', 'duarte', 'dubey', 'dubois', 'dubost', 'dubreuil', 'duceppe', 'duchaussoy', 'duchesne', 'duchovny', 'duclos', 'dudding', 'dudgeon', 'dudikoff', 'dudley', 'dueñas', 'duff', 'duffy', 'dugan', 'dugger', 'duhamel', 'dujardin', 'duk', 'dukakis', 'duke', 'dukes', 'dullea', 'dun', 'dunagan', 'dunaway', 'dunbar', 'duncan', 'dunford', 'dunham', 'dunn', 'dunne', 'dunst', 'duperey', 'duplass', 'dupontel', 'dupuis', 'durand', 'durango', 'durante', 'duret', 'duris', 'durning', 'durst', 'duryea', 'dushku', 'dussollier', 'dustin', 'dutronc', 'dutt', 'dutton', 'duval', 'duvall', 'dvorak', 'dwayne', 'dwier', 'dwight', 'dwyer', 'dyachenko', 'dyall', 'dyan', 'dyanne', 'dye', 'dyer', 'dyke', 'dyktynski', 'dylan', 'dysart', 'dziena', 'dzundza', 'débora', 'déborah', 'désormeaux', 'díaz', 'döring', 'düringer', 'dương', 'eadie', 'ealy', 'eamonn', 'earl', 'earle', 'earles', 'eartha', 'eason', 'east', 'easterbrook', 'easterly', 'easton', 'eastwood', 'ebbesen', 'ebert', 'ebouaney', 'ebsen', 'eccles', 'eccleston', 'echanove', 'echegui', 'echevarría', 'echols', 'eckert', 'eckhart', 'eckstein', 'ed', 'eddie', 'eddy', 'eden', 'edgar', 'edge', 'edgerton', 'edison', 'edith', 'edlund', 'edmond', 'edmonds', 'edmund', 'edna', 'edoardo', 'edson', 'eduardo', 'edwall', 'edward', 'edwards', 'edwin', 'efrain', 'efron', 'efroni', 'egan', 'egawa', 'egede', 'eggar', 'eggleston', 'egil', 'eginton', 'egrei', 'eguren', 'ehle', 'ehrenreich', 'eichhorn', 'eidinger', 'eigeman', 'eigendorf', 'eihi', 'eiji', 'eiko', 'eileen', 'eilidh', 'eiros', 'eisenberg', 'eisermann', 'eisley', 'eisner', 'ejiofor', 'ejogo', 'ekachai', 'ekberg', 'ekborg', 'ekerot', 'eketone', 'ekland', 'ekman', 'el', 'elaine', 'elba', 'eldard', 'elden', 'eleanor', 'electra', 'elejalde', 'elena', 'eleni', 'eleonora', 'elephant', 'elfman', 'elg', 'elgort', 'eli', 'elia', 'eliades', 'elias', 'elijah', 'elina', 'elis', 'elisabeth', 'elisha', 'elissa', 'elith', 'eliza', 'elizabeth', 'elizondo', 'elkabetz', 'elke', 'ella', 'ellar', 'elle', 'ellefsen', 'ellen', 'ellie', 'elliman', 'elliot', 'elliott', 'ellis', 'ellison', 'ellsberg', 'elmaleh', 'elmecky', 'elmore', 'eloise', 'elouahabi', 'elpidia', 'els', 'elsa', 'elvis', 'elwes', 'elzevier', 'elía', 'emanuel', 'emayatzy', 'embarek', 'embeth', 'embry', 'emery', 'emge', 'emi', 'emil', 'emile', 'emilia', 'emilie', 'emilio', 'emily', 'emin', 'eminem', 'emjay', 'emma', 'emmanuel', 'emmanuelle', 'emmerich', 'emmet', 'emmy', 'emmylou', 'emori', 'emory', 'enayatullah', 'end', 'endre', 'endô', 'eng', 'engel', 'england', 'englert', 'englund', 'ennenga', 'enos', 'enrico', 'enrique', 'entertainer', 'entwisle', 'enzo', 'eonnet', 'epps', 'epstein', 'erbe', 'erceg', 'erdoğan', 'erh', 'eri', 'eric', 'erica', 'erich', 'erick', 'erickson', 'erik', 'erika', 'eriko', 'erin', 'eriq', 'erland', 'erlbach', 'erlingsson', 'ermey', 'ernest', 'ernesto', 'ernie', 'ernst', 'eron', 'errol', 'ershadi', 'ertmanis', 'erwin', 'erykah', 'esai', 'escobar', 'escourrou', 'esha', 'esko', 'esmeralda', 'esmond', 'espen', 'esposito', 'essell', 'essence', 'essie', 'essman', 'essoe', 'estella', 'estelle', 'ester', 'estevez', 'esther', 'esumi', 'eszter', 'etel', 'ethan', 'ethel', 'etush', 'eugene', 'eugenio', 'eun', 'eusebio', 'eva', 'evan', 'evangeline', 'evanofski', 'evans', 'eve', 'evelyn', 'ever', 'everett', 'everhard', 'everhart', 'everlyn', 'evers', 'evets', 'evgar', 'evgeni', 'evigan', 'ewa', 'ewan', 'ewell', 'ewen', 'exarchopoulos', 'eyck', 'eythor', 'ezra', 'fab', 'fabares', 'faber', 'fabian', 'fabio', 'fabra', 'fabre', 'fabrice', 'fabrizi', 'fabrizio', 'faccio', 'facinelli', 'fadhil', 'faerch', 'fagbohungbe', 'fagundes', 'fahey', 'fai', 'faia', 'fairbanks', 'fairbrass', 'fairey', 'fairuza', 'faison', 'faith', 'faithfull', 'falabella', 'falchi', 'falcon', 'falconetti', 'falk', 'fallon', 'family', 'famke', 'fan', 'fann', 'fanning', 'fanny', 'fantasy', 'farahani', 'faramarzi', 'fares', 'fargas', 'farhad', 'farina', 'faris', 'farley', 'farmer', 'farmiga', 'farnaby', 'farneti', 'farnsworth', 'farokhnezhad', 'farr', 'farrah', 'farrar', 'farrell', 'farrokh', 'farrow', 'farugia', 'farès', 'fassbender', 'fassbinder', 'fat', 'fatih', 'fatone', 'faudel', 'fausa', 'favreau', 'fawcett', 'fay', 'faye', 'fazio', 'featherston', 'federico', 'federspiel', 'fedja', 'feeney', 'fehr', 'fehér', 'feild', 'feist', 'fejtö', 'feldman', 'feldmann', 'feldon', 'feldshuh', 'fele', 'felicia', 'felicity', 'felipe', 'felissa', 'fellini', 'fellner', 'felton', 'fenella', 'fengyi', 'fenn', 'fenske', 'feore', 'ferch', 'ferdia', 'ferdinando', 'fereshteh', 'ferguson', 'fergusson', 'ferilli', 'ferland', 'ferlin', 'fernanda', 'fernandez', 'fernando', 'fernán', 'fernández', 'ferran', 'ferrara', 'ferraro', 'ferre', 'ferreira', 'ferreiro', 'ferrell', 'ferrer', 'ferrera', 'ferres', 'ferreux', 'ferris', 'ferzetti', 'fess', 'fessenden', 'fetisov', 'feuerstein', 'fey', 'feyzi', 'fhi', 'fichtner', 'fiction', 'fidel', 'fiedler', 'field', 'fields', 'fiennes', 'fierstein', 'figueroa', 'filho', 'filip', 'filippo', 'fillion', 'fimmel', 'finch', 'findlay', 'fini', 'finlay', 'finley', 'finn', 'finnell', 'finney', 'finola', 'fiona', 'fionnula', 'fiorentino', 'firestone', 'firgens', 'firmino', 'firth', 'fischer', 'fish', 'fishburne', 'fisher', 'fisk', 'fite', 'fitzgerald', 'fitzpatrick', 'fiuzat', 'flag', 'flaherty', 'flanagan', 'flanders', 'flanery', 'flansburgh', 'flaus', 'flavio', 'fleet', 'fleetwood', 'fleischmann', 'fleiss', 'fleming', 'flemyng', 'fletcher', 'fleurot', 'flip', 'flitter', 'flockhart', 'flora', 'florence', 'flores', 'florian', 'florinda', 'florrie', 'floyd', 'flygare', 'flynn', 'flyvholm', 'fode', 'foerste', 'fogler', 'foley', 'folland', 'follows', 'folman', 'fonda', 'fondacaro', 'fontaine', 'fontana', 'fontanne', 'fonzo', 'foo', 'foran', 'foray', 'forbes', 'ford', 'foree', 'foreign', 'foreman', 'foremniak', 'forest', 'forestier', 'forlani', 'foronjy', 'forqué', 'forrest', 'forster', 'forsythe', 'forte', 'fossey', 'foster', 'fox', 'foxworthy', 'foxx', 'foyer', 'foyt', 'frain', 'frakes', 'fran', 'franca', 'france', 'frances', 'francesca', 'franchot', 'francine', 'franciosa', 'francis', 'francisca', 'francisco', 'franciscus', 'franck', 'franco', 'frank', 'franka', 'franken', 'frankeur', 'frankie', 'franklin', 'franklyn', 'franky', 'frantz', 'franz', 'franzén', 'françois', 'françoise', 'fraser', 'fratellini', 'frazier', 'freasier', 'frecheville', 'fred', 'freddie', 'freddy', 'frederic', 'frederick', 'fredric', 'fredrichs', 'fredrik', 'free', 'freedson', 'freeman', 'freida', 'freiss', 'french', 'frentz', 'fresnay', 'frewer', 'frey', 'fricker', 'frida', 'fridtjov', 'friederike', 'friedlander', 'friedle', 'friedman', 'friedrich', 'friel', 'friels', 'friend', 'fries', 'frisbey', 'frisch', 'fritz', 'frode', 'frogner', 'frost', 'frot', 'froud', 'fry', 'frye', 'frédéric', 'frédérique', 'fröbe', 'fröhlich', 'fröling', 'fuchs', 'fucile', 'fuentes', 'fugit', 'fuhrman', 'fuji', 'fujii', 'fujiki', 'fujimura', 'fujitani', 'fujiwara', 'fukada', 'fukiishi', 'fukuyama', 'fulkerson', 'fuller', 'fulton', 'fumiko', 'fumiyo', 'funakoshi', 'funicello', 'funk', 'furey', 'furlan', 'furlong', 'furneaux', 'furrh', 'furst', 'furukawa', 'furuya', 'futerman', 'futterman', 'fábio', 'fürmann', 'fürst', 'gabai', 'gabe', 'gabel', 'gabin', 'gabino', 'gable', 'gabor', 'gabourey', 'gabriel', 'gabriela', 'gabriele', 'gabrielle', 'gabrio', 'gabrych', 'gaby', 'gad', 'gades', 'gadon', 'gadot', 'gael', 'gaetano', 'gagnon', 'gail', 'gainsbourg', 'gaita', 'gajos', 'gal', 'galatea', 'gale', 'galeya', 'galifianakis', 'galina', 'gallagher', 'gallardo', 'galligan', 'gallner', 'gallo', 'galloway', 'galvani', 'gamble', 'gamblin', 'gambon', 'games', 'gammon', 'gandolfini', 'gang', 'ganger', 'ganios', 'ganjhu', 'ganjiro', 'ganoung', 'gantzler', 'ganz', 'gaowa', 'garai', 'garance', 'garant', 'garay', 'garber', 'garbo', 'garcelle', 'garcia', 'garcin', 'garcés', 'garcía', 'gardenia', 'gardiner', 'gardner', 'garette', 'garfield', 'garfunkel', 'garikayi', 'garin', 'garis', 'garity', 'garland', 'garlin', 'garner', 'garofalo', 'garr', 'garrani', 'garrel', 'garret', 'garrett', 'garrick', 'garry', 'garson', 'garth', 'gartin', 'gary', 'gashey', 'gashûin', 'gaskin', 'gaspard', 'gass', 'gassman', 'gastil', 'gaston', 'gastone', 'gastón', 'gates', 'gattlin', 'gaudette', 'gavilán', 'gavin', 'gavrilović', 'gay', 'gaye', 'gayet', 'gayheart', 'gaynes', 'gaynor', 'gazzara', 'gazzo', 'gaël', 'ge', 'geary', 'gebrselassie', 'gebrsellasie', 'gedde', 'geddes', 'gedeck', 'gedrick', 'geena', 'geer', 'geeta', 'gehrard', 'geislerová', 'geleynse', 'gellar', 'gemma', 'gemmell', 'gena', 'gencer', 'gene', 'genest', 'genevieve', 'geneviève', 'genn', 'gennari', 'genovese', 'geoff', 'geoffrey', 'geoffreys', 'georg', 'georgalas', 'george', 'georges', 'georgia', 'georgie', 'georgina', 'georgiy', 'ger', 'geraghty', 'geraint', 'gerald', 'geraldine', 'geraldo', 'gerard', 'gerardo', 'gerat', 'gere', 'german', 'germán', 'gerrit', 'gerron', 'gerry', 'gershon', 'gerson', 'gersten', 'gert', 'gertrude', 'gertz', 'gervais', 'gerwig', 'getty', 'getz', 'geun', 'gevedon', 'gg', 'ghilherme', 'ghini', 'ghita', 'ghosal', 'giacomo', 'giallelis', 'giamatti', 'gian', 'giancarlo', 'gianfelice', 'gianluigi', 'gianni', 'giannini', 'gibb', 'gibbs', 'gibney', 'gibson', 'gidley', 'giehse', 'gielgud', 'giering', 'gifford', 'gig', 'gigandet', 'giger', 'gigio', 'gijs', 'gijón', 'gil', 'gilbert', 'gilberto', 'gilchrist', 'gilda', 'gildea', 'gilder', 'giles', 'gilford', 'gilgun', 'gillan', 'gillen', 'gilles', 'gilliam', 'gillian', 'gillies', 'gilliland', 'gilman', 'gilmore', 'gilsig', 'gilyard', 'giménez', 'gina', 'ginette', 'ginger', 'ginnifer', 'gino', 'ginsberg', 'ginwalla', 'ginzô', 'gio', 'gioia', 'gion', 'giordano', 'giorgio', 'giovaninetti', 'giovanna', 'giovanni', 'giovinazzo', 'girafi', 'giraldo', 'girard', 'girardot', 'girone', 'girotti', 'gisela', 'gisele', 'gish', 'gisondo', 'gitonga', 'giulia', 'giulietta', 'giulio', 'giuseppe', 'givens', 'gladys', 'glanzelius', 'glascott', 'glass', 'glasser', 'glau', 'glaudini', 'glauer', 'gleason', 'gleeson', 'glen', 'glenda', 'glenn', 'glenne', 'glick', 'gloria', 'glory', 'glover', 'glusman', 'glynis', 'glynn', 'go', 'goddard', 'godfrey', 'godunov', 'goelz', 'goenaga', 'goethals', 'goichi', 'going', 'golbahari', 'goldberg', 'goldblatt', 'goldblum', 'golden', 'goldie', 'goldoni', 'goldstein', 'goldsworthy', 'goldthwait', 'goldwyn', 'golino', 'golshifteh', 'gomersall', 'gomez', 'gong', 'gonzales', 'gonzalez', 'gonçalves', 'goo', 'goocher', 'good', 'goodall', 'goode', 'gooden', 'goodin', 'gooding', 'goodman', 'goodwin', 'googie', 'goorjian', 'goran', 'gordon', 'gore', 'gorman', 'gorney', 'gorski', 'gortner', 'gorton', 'gorō', 'gosling', 'goss', 'gosselaar', 'gossett', 'goto', 'gottfrid', 'goude', 'gough', 'gould', 'goulet', 'gouri', 'gourmet', 'govinda', 'gower', 'gowland', 'goya', 'goyette', 'goyo', 'grable', 'grace', 'gracia', 'gracie', 'gracy', 'grady', 'graf', 'graff', 'graham', 'grahame', 'grammer', 'grandinetti', 'grandstaff', 'granger', 'grant', 'grantham', 'graves', 'gray', 'grayden', 'graynor', 'grayson', 'grazia', 'graziella', 'grazioli', 'green', 'greenberg', 'greenblatt', 'greene', 'greenfield', 'greenwald', 'greenwood', 'greer', 'greg', 'gregg', 'greggory', 'gregor', 'gregorowicz', 'gregory', 'gregson', 'greist', 'grenier', 'greta', 'gretchen', 'grey', 'griem', 'grier', 'gries', 'grieve', 'griff', 'griffeth', 'griffin', 'griffith', 'griffiths', 'grigori', 'grillo', 'grimes', 'grinko', 'grint', 'grisoni', 'grodin', 'groen', 'groff', 'grogan', 'grondin', 'groome', 'gros', 'grosin', 'gross', 'grossman', 'groucho', 'grover', 'gruda', 'gruffudd', 'gruver', 'gryglaszewska', 'grégoire', 'grégori', 'grönemeyer', 'grüber', 'grünmandl', 'gu', 'guadagni', 'guang', 'guard', 'guardino', 'gudejko', 'gudjonsson', 'guerra', 'guerrero', 'guest', 'guetta', 'gueye', 'gugino', 'gugu', 'guild', 'guilied', 'guillaume', 'guillermo', 'guillory', 'guinee', 'guinevere', 'guinness', 'guiry', 'guisol', 'guitar', 'gulager', 'gulkin', 'gullette', 'gulpilil', 'gummer', 'gun', 'gunn', 'gunnar', 'gunnel', 'gunter', 'gunther', 'gunton', 'guoli', 'gupta', 'gurgon', 'gurira', 'gurney', 'gurwitch', 'gus', 'gusman', 'gustaf', 'gustafsson', 'gustav', 'gustavo', 'guthrie', 'gutiérrez', 'guttenberg', 'gutteridge', 'guven', 'guy', 'guzman', 'guzmán', 'guðnason', 'gwen', 'gwenn', 'gwyneth', 'gwynne', 'gyalpo', 'gyllenhaal', 'györgy', 'gélin', 'génesis', 'géraldine', 'gérard', 'géret', 'gómez', 'göran', 'göring', 'gösta', 'götz', 'günter', 'ha', 'haagensen', 'haas', 'haavisto', 'haaz', 'hack', 'hackett', 'hackman', 'haddish', 'haden', 'hader', 'hadewych', 'hadjadj', 'hadji', 'hadley', 'hadlow', 'hae', 'hagan', 'hagegård', 'hagen', 'hagerty', 'haggard', 'haggerty', 'haggis', 'hagiwara', 'hahn', 'hai', 'haig', 'haile', 'hailee', 'haim', 'haing', 'haise', 'haji', 'hakamada', 'hakeem', 'haker', 'hal', 'hale', 'haley', 'halicki', 'halina', 'hall', 'halle', 'hallee', 'hallgren', 'hallie', 'hallisay', 'halloran', 'hallyday', 'halpin', 'halsey', 'halston', 'hama', 'hamada', 'hamamura', 'hambleton', 'hamed', 'hamel', 'hamid', 'hamill', 'hamilton', 'hamish', 'hamlin', 'hamm', 'hammer', 'hammett', 'hammond', 'hamnett', 'hampshire', 'hampton', 'han', 'hanaa', 'hanamura', 'hanayagi', 'hancock', 'hande', 'handfield', 'handley', 'haney', 'hanich', 'hank', 'hanks', 'hann', 'hanna', 'hannah', 'hannigan', 'hanno', 'hans', 'hansa', 'hansard', 'hansen', 'hanshaw', 'hanson', 'hara', 'harald', 'harareet', 'harari', 'harazi', 'harberts', 'harden', 'hardie', 'hardiman', 'hardin', 'harding', 'hardison', 'hardman', 'hardwicke', 'hardy', 'harewood', 'harfouch', 'hargreaves', 'hargrove', 'harington', 'harkins', 'harkishin', 'harland', 'harley', 'harlow', 'harmon', 'harold', 'harper', 'harpo', 'harrah', 'harrelson', 'harriet', 'harrigan', 'harring', 'harrington', 'harris', 'harrison', 'harrold', 'harron', 'harry', 'hart', 'hartl', 'hartley', 'hartman', 'hartnell', 'hartnett', 'haru', 'haruko', 'harun', 'haruo', 'harve', 'harvey', 'hasan', 'hasegawa', 'hashemian', 'haskell', 'hass', 'hassan', 'hasse', 'hasselhoff', 'hassina', 'hassing', 'hasso', 'hatami', 'hatcher', 'hatfield', 'hathaway', 'hatosy', 'hatsune', 'hattie', 'hatton', 'hatty', 'hauer', 'haughton', 'hauser', 'havens', 'haver', 'havilland', 'haw', 'hawes', 'hawke', 'hawkes', 'hawking', 'hawkins', 'hawn', 'hawthorne', 'haya', 'hayao', 'hayashi', 'hayashibara', 'hayden', 'hayek', 'hayes', 'hayley', 'hayman', 'haymes', 'hays', 'haysbert', 'hayward', 'haywood', 'hayworth', 'hazal', 'hazanavicius', 'hazel', 'hazzard', 'he', 'head', 'headey', 'headlam', 'headly', 'headon', 'heald', 'healy', 'heard', 'hearn', 'hearst', 'heath', 'heathcote', 'heather', 'heche', 'hecht', 'heckart', 'heckel', 'hedaya', 'hedebrant', 'heder', 'hedi', 'hedison', 'hediyeh', 'hedley', 'hedlund', 'hedren', 'hedy', 'hee', 'heffernan', 'heflin', 'hegde', 'hegen', 'heidbreder', 'heidi', 'heigl', 'heike', 'heikki', 'heino', 'heinrich', 'heinz', 'heiskanen', 'heitz', 'hejewa', 'hela', 'held', 'heldenbergh', 'helen', 'helena', 'helga', 'helgenberger', 'helm', 'helmond', 'helms', 'helmut', 'hemingway', 'hemmings', 'hempstead', 'hemsworth', 'henderson', 'hendler', 'hendricks', 'hendrickson', 'hendrix', 'hendry', 'henley', 'henner', 'henney', 'hennie', 'henning', 'henreid', 'henri', 'henrik', 'henriksen', 'henry', 'henshall', 'hensley', 'henson', 'henstridge', 'hentenryck', 'hepburn', 'her', 'herati', 'herb', 'herbert', 'herfurth', 'herlihy', 'herman', 'hermann', 'hermione', 'hernandez', 'herne', 'hernández', 'heron', 'herrera', 'herrier', 'herrmann', 'herschel', 'hershey', 'hersholt', 'hertwig', 'hertzfeldt', 'hertzler', 'hervé', 'herzog', 'heslov', 'hess', 'hesseman', 'heston', 'hetfield', 'heuer', 'hewitt', 'hewlett', 'heyborne', 'heydon', 'heydrich', 'heywood', 'hiam', 'hickey', 'hickman', 'hicks', 'hidaka', 'hiddleston', 'hideaki', 'hidetoshi', 'hideyuki', 'hiei', 'hiep', 'hietala', 'higashiyama', 'higgins', 'highmore', 'hiiragi', 'hilary', 'hilgenbrink', 'hill', 'hillaire', 'hiller', 'hilligoss', 'hillman', 'hilmar', 'hilmir', 'hilton', 'himmler', 'hinako', 'hindenburg', 'hindle', 'hinds', 'hines', 'hingle', 'hinman', 'hinnant', 'hinrichs', 'hinze', 'hipp', 'hira', 'hiram', 'hiramatsu', 'hirano', 'hirata', 'hird', 'hiroaki', 'hirokazu', 'hiroki', 'hiromi', 'hiroshi', 'hirosue', 'hiroyuki', 'hirsch', 'hirsh', 'hisao', 'history', 'hitchcock', 'hitler', 'hitomi', 'hitoshi', 'hjejle', 'hlehel', 'ho', 'hoag', 'hobbs', 'hobson', 'hoch', 'hodder', 'hodge', 'hodges', 'hodiak', 'hodo', 'hoechlin', 'hoefer', 'hoeks', 'hoekstra', 'hoel', 'hoffman', 'hoffmann', 'hoffs', 'hofschneider', 'hogan', 'hogancamp', 'hogg', 'holbrook', 'holden', 'holland', 'hollander', 'holliday', 'hollis', 'holliston', 'holloman', 'holloway', 'holly', 'holm', 'holmen', 'holmes', 'holt', 'holton', 'homar', 'homayoun', 'homolka', 'honda', 'hong', 'honglei', 'honna', 'honor', 'hooks', 'hoon', 'hoop', 'hoopes', 'hooten', 'hoover', 'hope', 'hopf', 'hopkins', 'hopper', 'horace', 'horacio', 'horatio', 'hordern', 'horie', 'horikawa', 'horino', 'horn', 'horne', 'horovitz', 'horrocks', 'horror', 'horsley', 'horst', 'hortensia', 'horton', 'horváth', 'horwitz', 'hosemann', 'hoshi', 'hoskins', 'hoss', 'hossein', 'hosseini', 'hotei', 'hough', 'houle', 'hoult', 'hounsou', 'houseman', 'houser', 'houston', 'houten', 'howard', 'howat', 'howell', 'howerton', 'howes', 'howie', 'howland', 'hoyos', 'hoyt', 'hristos', 'hrithik', 'hu', 'hua', 'huang', 'huard', 'hubbard', 'huber', 'hubert', 'hubley', 'hubschmid', 'huddleston', 'hudgens', 'hudgins', 'hudson', 'huebel', 'huerta', 'huffman', 'huggy', 'hugh', 'hughes', 'hughley', 'hugo', 'hugues', 'hui', 'huike', 'huisman', 'hulce', 'hulk', 'hull', 'hume', 'humphrey', 'hun', 'hunchar', 'hung', 'hunger', 'hunnam', 'hunt', 'hunter', 'huntington', 'huntley', 'huppert', 'hurd', 'hurley', 'hurst', 'hurt', 'husky', 'hussey', 'huster', 'huston', 'hutchence', 'hutcherson', 'hutchins', 'hutchinson', 'hutchison', 'hutson', 'hutton', 'hutz', 'huêt', 'hvenegaard', 'hwa', 'hwan', 'hwang', 'hyde', 'hye', 'hyeon', 'hyer', 'hyers', 'hyland', 'hynson', 'hyser', 'hyu', 'hyuk', 'hyun', 'hyytiäinen', 'hádek', 'håkan', 'héctor', 'hélène', 'høiner', 'hải', 'iain', 'ian', 'ibarra', 'iben', 'ice', 'ichi', 'ichikawa', 'ichirou', 'ichirō', 'ida', 'idina', 'idle', 'idris', 'iemasa', 'ifans', 'iggy', 'igor', 'ihara', 'iii', 'iizuka', 'ike', 'ikeda', 'ikegami', 'ikehata', 'ikewaki', 'iko', 'il', 'ilan', 'ildikó', 'ileana', 'ilene', 'illeana', 'im', 'imada', 'imanol', 'imboden', 'imbruglia', 'imelda', 'imogen', 'imogene', 'imoto', 'imparato', 'imran', 'imrie', 'in', 'ina', 'inaba', 'india', 'indira', 'indrio', 'ineson', 'inge', 'ingeborg', 'ingeborga', 'inger', 'ingetraud', 'ingham', 'ingrid', 'inn', 'interlenghi', 'invention', 'inés', 'ioan', 'ion', 'ione', 'irandhir', 'irani', 'irazoqui', 'ireland', 'irene', 'irglová', 'irina', 'irino', 'irma', 'irons', 'ironside', 'irrfan', 'irving', 'irwin', 'irène', 'isa', 'isaac', 'isaach', 'isaacs', 'isaak', 'isabel', 'isabella', 'isabelle', 'isaiah', 'isamar', 'isao', 'isela', 'iseya', 'ishibashi', 'ishida', 'ishihara', 'ishikawa', 'ishizuka', 'isla', 'isobel', 'israel', 'issei', 'istvan', 'isuzu', 'itakura', 'ito', 'ittimangnaq', 'itzhak', 'itzin', 'iura', 'iureș', 'ivalu', 'ivan', 'ivana', 'ivanek', 'ivanka', 'ivanov', 'ivar', 'ivers', 'ives', 'ivey', 'ivo', 'ivor', 'ivory', 'iwao', 'iwar', 'iwashita', 'iwata', 'izabella', 'izzard', 'izzo', 'ja', 'jaa', 'jaaferi', 'jaap', 'jaaved', 'jabbar', 'jaci', 'jacinda', 'jack', 'jacki', 'jackie', 'jacklyn', 'jackman', 'jacks', 'jackson', 'jacky', 'jaclyn', 'jacob', 'jacobi', 'jacobs', 'jacobsen', 'jacobson', 'jacobsson', 'jacott', 'jacqueline', 'jacques', 'jacquet', 'jada', 'jade', 'jaden', 'jae', 'jaeckel', 'jaeden', 'jaenada', 'jaffe', 'jagadisa', 'jagger', 'jahn', 'jai', 'jaime', 'jake', 'jamal', 'james', 'jameson', 'jamey', 'jami', 'jamie', 'jamieson', 'jamil', 'jampanoï', 'jamtsho', 'jamyang', 'jan', 'janaya', 'janda', 'jane', 'janeane', 'janel', 'janelle', 'janet', 'janette', 'jang', 'janice', 'janine', 'janis', 'janne', 'janney', 'jannings', 'janssen', 'january', 'janusz', 'jaoui', 'jaramillo', 'jardel', 'jarecki', 'jared', 'jarman', 'jarmusch', 'jaromír', 'jaroslava', 'jarratt', 'jarret', 'jarvis', 'jasen', 'jasmin', 'jasmine', 'jason', 'jasper', 'javier', 'javorn', 'jay', 'jayce', 'jaye', 'jayma', 'jayne', 'jayston', 'jean', 'jeanmaire', 'jeanne', 'jeeja', 'jeff', 'jeffcoat', 'jefferies', 'jeffery', 'jefford', 'jeffrey', 'jeffries', 'jelena', 'jemaine', 'jemal', 'jen', 'jena', 'jeni', 'jenkins', 'jenn', 'jenna', 'jenney', 'jennifer', 'jennings', 'jenny', 'jens', 'jensen', 'jentsch', 'jeon', 'jeong', 'jere', 'jeremy', 'jerins', 'jermaine', 'jeroen', 'jerry', 'jerzy', 'jesdaporn', 'jesper', 'jespersen', 'jess', 'jessalyn', 'jesse', 'jessica', 'jessie', 'jesus', 'jet', 'jeter', 'jett', 'jewan', 'ji', 'jiang', 'jill', 'jillette', 'jim', 'jimi', 'jimmi', 'jimmy', 'jiménez', 'jin', 'jing', 'jinkings', 'jinpachi', 'jiro', 'jitsuko', 'jiří', 'jo', 'joachim', 'joan', 'joanna', 'joanne', 'joaquim', 'joaquin', 'jobert', 'jobeth', 'jobyna', 'jocelin', 'jocelyn', 'jochen', 'jodelle', 'jodi', 'jodie', 'jodorowsky', 'joe', 'joel', 'joely', 'joey', 'johal', 'johan', 'johann', 'johanna', 'johanne', 'johannes', 'johansen', 'johansson', 'john', 'johnathon', 'johnlasseter', 'johnny', 'johns', 'johnson', 'johnston', 'joi', 'joie', 'jojo', 'joković', 'jolanta', 'jolene', 'jolie', 'jon', 'jonah', 'jonas', 'jonathan', 'jonathon', 'jones', 'jonny', 'jonson', 'joon', 'joong', 'joost', 'jorah', 'jordan', 'jordana', 'jorden', 'jordi', 'jorge', 'jorma', 'jory', 'jose', 'josef', 'joseph', 'josephine', 'josephson', 'josette', 'josh', 'joshua', 'josiane', 'josie', 'joss', 'joston', 'josue', 'joswig', 'josé', 'josée', 'jouanneau', 'jouko', 'jourdan', 'joutsen', 'jouvet', 'jovan', 'jovanović', 'jovovich', 'joy', 'joyce', 'jozef', 'jr', 'jsu', 'ju', 'juan', 'juanita', 'judah', 'judd', 'jude', 'judge', 'judi', 'judie', 'judith', 'judor', 'judson', 'judy', 'jugnot', 'juha', 'juhani', 'jul', 'jules', 'juli', 'julia', 'julian', 'juliana', 'juliane', 'julianna', 'julianne', 'julie', 'julien', 'juliet', 'julieta', 'julietta', 'juliette', 'julius', 'juliá', 'july', 'jun', 'june', 'jung', 'junge', 'junichi', 'junio', 'junius', 'junko', 'juno', 'junqueira', 'jurado', 'juri', 'jurnee', 'juro', 'justice', 'justin', 'justine', 'jägermeyr', 'järegård', 'järvenhelmi', 'järvenpää', 'järvet', 'jérémie', 'jô', 'jørgensen', 'jürgen', 'jürgens', 'jüri', 'jūrōta', 'ka', 'kabir', 'kabler', 'kad', 'kadee', 'kadeem', 'kadi', 'kadochnikova', 'kae', 'kafili', 'kagasoff', 'kagawa', 'kagen', 'kahilainen', 'kahn', 'kahrs', 'kai', 'kaila', 'kaitlyn', 'kaji', 'kajol', 'kal', 'kaleem', 'kaley', 'kalina', 'kalki', 'kam', 'kamahl', 'kamal', 'kamiki', 'kaminska', 'kamiya', 'kamran', 'kanai', 'kanaoka', 'kandeyce', 'kane', 'kaneko', 'kaneshiro', 'kanev', 'kang', 'kanno', 'kanoa', 'kanu', 'kao', 'kaoru', 'kaosainam', 'kapoor', 'kappei', 'kaprisky', 'kar', 'kara', 'karagulian', 'karam', 'kareem', 'kareena', 'karel', 'karen', 'kari', 'karim', 'karimi', 'karin', 'karina', 'karl', 'karlheinz', 'karloff', 'karlsdóttir', 'karna', 'karoline', 'karra', 'karren', 'kartheiser', 'karuna', 'karyn', 'karyo', 'kase', 'kashfi', 'kashii', 'kasia', 'kassai', 'kassovitz', 'kat', 'kataoka', 'katarina', 'kate', 'katee', 'katey', 'katharina', 'katharine', 'katherine', 'kathleen', 'kathrine', 'kathryn', 'kathy', 'kati', 'katic', 'katie', 'katja', 'kato', 'katrin', 'katrina', 'katsu', 'katsuo', 'katsura', 'katt', 'kattan', 'katy', 'katya', 'katô', 'kaufman', 'kava', 'kavanagh', 'kavner', 'kawaji', 'kawamura', 'kay', 'kaya', 'kayama', 'kaycheck', 'kaydanovskiy', 'kaye', 'kayla', 'kayo', 'kayoko', 'kayumi', 'kayvan', 'kazama', 'kazan', 'kazim', 'kaznelson', 'kazue', 'kazuko', 'kazunari', 'kazushi', 'kazuya', 'ke', 'keach', 'keanu', 'kearney', 'keating', 'keaton', 'keats', 'keays', 'kebbel', 'kebbell', 'kechiouche', 'kedrova', 'keefe', 'keegan', 'keel', 'keelan', 'keeley', 'keely', 'keen', 'keena', 'keenan', 'keenen', 'keener', 'keeslar', 'kehoe', 'kei', 'keiju', 'keiko', 'keir', 'keira', 'keisha', 'keitch', 'keitel', 'keith', 'keke', 'kekilli', 'kel', 'kelan', 'kellan', 'kellaway', 'kellegher', 'keller', 'kellerman', 'kellermann', 'kelley', 'kelli', 'kellin', 'kelly', 'kelsey', 'kemp', 'kempen', 'kempter', 'ken', 'kenan', 'kendal', 'kendall', 'kendrick', 'kenichi', 'kenji', 'kennedy', 'kenneth', 'kenny', 'kensit', 'kent', 'kentucker', 'keogh', 'kepel', 'ker', 'keri', 'kerman', 'kerr', 'kerri', 'kerry', 'kerwin', 'kesey', 'keshavarz', 'keshia', 'keskin', 'kestelman', 'kestie', 'keurvorst', 'kevin', 'key', 'keyes', 'keyloun', 'keynes', 'keïta', 'kgoroge', 'khabenskiy', 'khader', 'khajuria', 'khaldoun', 'khalid', 'khalifa', 'khamatova', 'khan', 'khangsar', 'khanh', 'khanjian', 'kheradmand', 'khleo', 'khongmalai', 'khorshid', 'khulan', 'khê', 'ki', 'kiana', 'kibbee', 'kiberlain', 'kidd', 'kidder', 'kidman', 'kids', 'kiefer', 'kiele', 'kier', 'kieran', 'kiernan', 'kiersey', 'kierston', 'kiger', 'kihlstedt', 'kiichi', 'kiki', 'kilburn', 'kilcher', 'kilmer', 'kim', 'kimberley', 'kimberly', 'kime', 'kimia', 'kimika', 'kimiko', 'kimmel', 'kimmell', 'kimura', 'kind', 'king', 'kingsley', 'kingston', 'kinkade', 'kinnaman', 'kinnear', 'kinney', 'kinosha', 'kinoshita', 'kinski', 'kinuyo', 'kip', 'kirby', 'kirk', 'kirkland', 'kirkwood', 'kirs', 'kirsch', 'kirshner', 'kirsten', 'kirstie', 'kirzinger', 'kiser', 'kishida', 'kishimoto', 'kit', 'kitaen', 'kitana', 'kitano', 'kitaura', 'kitchen', 'kitsch', 'kitt', 'kiyokawa', 'kiyoshi', 'kjartan', 'kjer', 'kjersti', 'klass', 'klaus', 'klaußner', 'klein', 'kleiner', 'klemelä', 'kley', 'kline', 'klouman', 'klugman', 'klusák', 'knaup', 'knight', 'knightley', 'knighton', 'knights', 'knizka', 'knoller', 'knoph', 'knott', 'knotts', 'knowles', 'knox', 'knoxville', 'knudsen', 'knut', 'ko', 'koaho', 'kobayashi', 'koch', 'kodi', 'koechlin', 'koehler', 'koepcke', 'koffler', 'kogure', 'kohinata', 'kohn', 'kohoutová', 'koichi', 'koizumi', 'koji', 'kokol', 'kokontei', 'kokumai', 'kominsky', 'kondou', 'kong', 'kongar', 'kongsli', 'konstam', 'konstantin', 'kopins', 'koppel', 'korman', 'korpela', 'korsmo', 'kortner', 'korzun', 'kosti', 'kostja', 'kosugi', 'koteas', 'kotero', 'koto', 'kotono', 'kotto', 'kou', 'kouichi', 'kouki', 'koundé', 'kovack', 'kove', 'kowalski', 'koyama', 'koyuki', 'kozak', 'kozlowski', 'kraakman', 'krabbé', 'kramarov', 'kramer', 'kranz', 'krasinski', 'kratka', 'kraus', 'krause', 'krauss', 'kravchenko', 'krebitz', 'krem', 'kretschmann', 'kretschmerová', 'kreuzer', 'krieps', 'krige', 'kris', 'krishna', 'kristanna', 'kristel', 'kristen', 'kristin', 'kristine', 'kristofferson', 'kristy', 'kristyan', 'kristýna', 'kroeger', 'kronenberg', 'kroner', 'krook', 'kross', 'kruger', 'krupa', 'krutov', 'krysten', 'krystyna', 'kryštof', 'krzyżewska', 'król', 'krüger', 'ku', 'kubo', 'kubrick', 'kudlow', 'kudoh', 'kudrow', 'kuei', 'kuenne', 'kugimiya', 'kuhnke', 'kuk', 'kukhianidze', 'kulesza', 'kulich', 'kulig', 'kumar', 'kumi', 'kumiko', 'kung', 'kuniko', 'kunimura', 'kunis', 'kunzendorf', 'kuosmanen', 'kuravlyov', 'kuroki', 'kurosawa', 'kurt', 'kurtha', 'kurtiz', 'kurtulus', 'kurtwood', 'kurtz', 'kurylenko', 'kusakari', 'kusao', 'kutcher', 'kutsuna', 'kuznetsov', 'kuznetsova', 'kwan', 'kwanten', 'kwon', 'kwouk', 'kyap', 'kyla', 'kyle', 'kylie', 'kylin', 'kym', 'kyoko', 'kyra', 'kyu', 'kyun', 'kyung', 'kyô', 'kyôko', 'kyôsuke', 'kåre', 'kô', 'kôchi', 'köhler', 'köstlinger', 'kühnert', 'la', 'labaki', 'labarthe', 'labeija', 'labeouf', 'labine', 'laborit', 'laborteaux', 'labro', 'labruce', 'lacey', 'lachey', 'lachlan', 'lack', 'lackey', 'lacombe', 'lacy', 'ladd', 'laden', 'ladengast', 'lafarge', 'lafitte', 'lafont', 'laforêt', 'lahti', 'lai', 'laia', 'laila', 'lainie', 'laird', 'lajoie', 'lajos', 'lake', 'lala', 'lally', 'lamar', 'lamarr', 'lamberg', 'lambert', 'lamberto', 'lamonta', 'lamoot', 'lamorisse', 'lamour', 'lampinen', 'lamprecht', 'lamy', 'lana', 'lancaster', 'lancaume', 'lance', 'lanchester', 'landau', 'landers', 'landes', 'landfield', 'landgut', 'landis', 'landon', 'landuris', 'lane', 'lang', 'lange', 'langella', 'langenkamp', 'langner', 'langrick', 'langton', 'lanny', 'lanoux', 'lansbury', 'lansing', 'lanter', 'lapaglia', 'lapikov', 'lar', 'lara', 'laraine', 'larch', 'lardi', 'larenz', 'larisa', 'larissa', 'lark', 'larkin', 'laroque', 'larroquette', 'larry', 'lars', 'larsen', 'larson', 'larsson', 'larter', 'lasalle', 'laser', 'laskin', 'lasser', 'lathan', 'latifah', 'lattanzi', 'lau', 'laucevicius', 'lauckner', 'laughlin', 'laughton', 'lauper', 'laura', 'laure', 'laureen', 'laurel', 'lauren', 'laurence', 'laurene', 'laurenson', 'laurent', 'laurenzi', 'lauri', 'laurie', 'laurinda', 'lauter', 'lautner', 'lavant', 'lavelle', 'laverne', 'lavia', 'lavorgna', 'lavronenko', 'law', 'lawford', 'lawrence', 'lawson', 'lazar', 'lazaro', 'lazenby', 'le', 'lea', 'leachman', 'leah', 'leahy', 'leake', 'leal', 'leandersson', 'leandro', 'leary', 'leblanc', 'lebrock', 'lebrun', 'leder', 'lederer', 'lederman', 'ledger', 'ledoyen', 'lee', 'leehom', 'leelee', 'leerhsen', 'lefevre', 'legarreta', 'legault', 'legere', 'leguizamo', 'lei', 'leibman', 'leif', 'leigh', 'leighton', 'leila', 'leitch', 'leith', 'leitso', 'lela', 'leland', 'lelia', 'lemay', 'lemche', 'lemercier', 'lemme', 'lemmon', 'lemoyne', 'len', 'lena', 'lenauer', 'lengies', 'leni', 'lennie', 'lennon', 'lennox', 'lenny', 'leno', 'lenoir', 'lenoire', 'lenore', 'leo', 'leon', 'leonard', 'leonardi', 'leonardo', 'leoni', 'leonid', 'leonidas', 'leonor', 'leonov', 'leopold', 'leopoldo', 'lera', 'lerdorff', 'lerman', 'lerner', 'leroy', 'les', 'leskin', 'leslaw', 'lesley', 'leslie', 'lester', 'leterrier', 'leticia', 'leto', 'letscher', 'letterle', 'letty', 'leuchter', 'leung', 'leupp', 'lev', 'levant', 'levels', 'levesque', 'levi', 'levieva', 'levine', 'levitch', 'levitt', 'levon', 'levy', 'lew', 'lewgoy', 'lewis', 'lexa', 'lexi', 'león', 'lhakpa', 'lhermitte', 'lhondup', 'li', 'lia', 'liam', 'liana', 'liane', 'lianella', 'liang', 'liapis', 'liberato', 'libertini', 'liberto', 'libolt', 'libuše', 'lichtenstein', 'licia', 'lidén', 'lie', 'lieberher', 'liefers', 'lieh', 'liesel', 'liev', 'ligardes', 'lila', 'lili', 'lilia', 'liljeberg', 'lillard', 'lillete', 'lilli', 'lillian', 'lillis', 'lillo', 'lilly', 'lily', 'lima', 'limos', 'lin', 'lina', 'linas', 'lincoln', 'lind', 'linda', 'lindberg', 'lindblom', 'linden', 'lindfors', 'lindgren', 'lindhardt', 'lindley', 'lindo', 'lindon', 'lindsay', 'lindy', 'ling', 'linh', 'linke', 'linklater', 'linn', 'linnea', 'linnell', 'linney', 'lino', 'linus', 'linz', 'liné', 'lion', 'lionel', 'lior', 'liotta', 'lipinski', 'lipnicki', 'lippa', 'lips', 'lipsyte', 'lisa', 'lisanne', 'lisbeth', 'liselotte', 'lister', 'litefoot', 'lithgow', 'litnanski', 'little', 'liu', 'liubomiras', 'liuchun', 'liv', 'lively', 'livesey', 'livingston', 'liz', 'liza', 'lizabeth', 'lizzy', 'liška', 'ljungman', 'll', 'lloyd', 'llum', 'lluís', 'llŷr', 'lo', 'loaf', 'lobb', 'lobo', 'loc', 'locane', 'lochary', 'locke', 'lockhart', 'locklear', 'locklin', 'lockwood', 'lodato', 'lodro', 'loene', 'lofland', 'loftin', 'logan', 'loggia', 'logue', 'lohan', 'lohman', 'loiri', 'lois', 'loken', 'lola', 'loles', 'lolita', 'lollobrigida', 'lom', 'lombard', 'lombardo', 'lommel', 'lon', 'london', 'lone', 'lonette', 'long', 'longden', 'longet', 'longoria', 'longstreet', 'longstreth', 'lonsdale', 'loomis', 'loon', 'loos', 'lopez', 'lopsang', 'lord', 'lords', 'loren', 'lorenz', 'lorenza', 'lorenzo', 'loretta', 'lori', 'lorinz', 'lorit', 'lorna', 'lorraine', 'lorre', 'loryn', 'lorànt', 'lothaire', 'lothar', 'lotte', 'lou', 'loughlin', 'louie', 'louis', 'louisa', 'louise', 'louiso', 'loungnam', 'lovato', 'love', 'lovejoy', 'lovell', 'loven', 'lovering', 'lovett', 'lovitz', 'lowe', 'lowell', 'lowery', 'lowndes', 'lowry', 'loy', 'lozano', 'lu', 'luana', 'lubna', 'luc', 'luca', 'lucas', 'luchini', 'luciano', 'lucie', 'lucieer', 'lucile', 'lucille', 'lucinda', 'luckey', 'lucy', 'lucía', 'luddy', 'ludivine', 'ludwig', 'luenell', 'luft', 'lugene', 'lugosi', 'luigi', 'luis', 'luise', 'luiz', 'lukas', 'lukač', 'luke', 'lumi', 'lumley', 'luna', 'lund', 'lundgren', 'lundström', 'lundt', 'lundy', 'lung', 'lunny', 'lupe', 'lupino', 'lupita', 'lupone', 'luppi', 'luque', 'lurie', 'luther', 'lutter', 'lutz', 'luz', 'lya', 'lyda', 'lydon', 'lyle', 'lyn', 'lynch', 'lynda', 'lynde', 'lyndon', 'lyne', 'lynette', 'lynley', 'lynn', 'lynne', 'lynskey', 'lyon', 'lyonne', 'lyons', 'lys', 'lysette', 'lyubov', 'léa', 'léaud', 'lê', 'lópez', 'löwensohn', 'löwitsch', 'ma', 'maas', 'maaya', 'maazel', 'maberly', 'mabius', 'mabley', 'mably', 'mac', 'macarena', 'macarthur', 'macaulay', 'macchio', 'maccoll', 'maccorkindale', 'macdonald', 'macdowell', 'macedo', 'macfadyen', 'macfarlane', 'macgowran', 'macgraw', 'macha', 'machado', 'machiko', 'macht', 'mack', 'mackay', 'mackenna', 'mackenzie', 'mackey', 'mackie', 'mackintosh', 'maclachlan', 'maclaine', 'maclane', 'maclellan', 'macliammóir', 'macmillan', 'macmurray', 'macnaughton', 'macnee', 'macnicol', 'macody', 'macon', 'macpherson', 'macrae', 'macready', 'macy', 'madam', 'madden', 'maddie', 'madeleine', 'madeline', 'madge', 'madhavan', 'madigan', 'madio', 'madison', 'madolyn', 'madonna', 'mads', 'madsen', 'mady', 'mae', 'maeda', 'maestro', 'maeve', 'magalhães', 'magali', 'magda', 'magee', 'maggie', 'maggio', 'maggiorani', 'magimel', 'maglietta', 'maglio', 'magnani', 'magnus', 'magnuson', 'magon', 'magrath', 'maguire', 'magyar', 'mahaffey', 'maher', 'mahesh', 'mahjoub', 'mahoney', 'mai', 'maia', 'maiden', 'maier', 'maika', 'maila', 'mailer', 'mailes', 'maimouna', 'maina', 'maines', 'majel', 'majken', 'majorino', 'makatsch', 'makepeace', 'maki', 'makiko', 'makkena', 'mako', 'makoto', 'maksim', 'mal', 'malahide', 'malanowicz', 'malberg', 'malco', 'malcolm', 'malden', 'malek', 'malet', 'malherbe', 'malhotra', 'malik', 'malin', 'malkovich', 'malley', 'mallon', 'malloy', 'malone', 'maloney', 'maloof', 'maltby', 'maly', 'mamaengaroa', 'mami', 'mamie', 'mamizadeh', 'mammone', 'mamonov', 'man', 'mandel', 'mandvi', 'mandy', 'mandylor', 'mane', 'manesh', 'manesse', 'manfred', 'manfredi', 'manganiello', 'mangano', 'mania', 'manish', 'manjrekar', 'mann', 'manners', 'mannheim', 'manning', 'manoel', 'manojlović', 'manowski', 'manson', 'mantegna', 'manuel', 'manuela', 'manville', 'manz', 'mapother', 'mara', 'marachuk', 'marais', 'maranda', 'marandi', 'marc', 'marceau', 'marcel', 'marceline', 'marcella', 'marcello', 'marcelo', 'march', 'marchal', 'marchand', 'marcia', 'marcial', 'marciano', 'marcks', 'marco', 'marconi', 'marcos', 'marcovicci', 'marcus', 'mare', 'maren', 'marg', 'marga', 'margaret', 'margaretha', 'margaretta', 'margarita', 'margera', 'margherita', 'margit', 'margo', 'margold', 'margolin', 'margolis', 'margolyes', 'margoni', 'margot', 'margret', 'marguerite', 'margulies', 'mari', 'maria', 'mariah', 'marian', 'mariangela', 'marianna', 'marianne', 'maribel', 'maricel', 'marie', 'mariel', 'marielle', 'marienthal', 'marijke', 'marika', 'mariko', 'marilou', 'marilu', 'marilyn', 'marin', 'marina', 'marinas', 'marinca', 'marinne', 'marino', 'mario', 'marion', 'marisa', 'mariscal', 'marisol', 'marissa', 'marius', 'mariya', 'marjatta', 'marjoe', 'marjorie', 'mark', 'markku', 'markovics', 'markéta', 'marla', 'marleau', 'marlee', 'marlene', 'marley', 'marlies', 'marling', 'marlon', 'marlow', 'marlowe', 'marlène', 'marmont', 'marni', 'marny', 'maro', 'maron', 'maroney', 'marpessa', 'marquardt', 'marquette', 'marriott', 'marsan', 'marsden', 'marsh', 'marsha', 'marshall', 'marte', 'martel', 'martha', 'marthe', 'martie', 'martin', 'martina', 'martindale', 'martine', 'martinelli', 'martines', 'martinez', 'martini', 'martino', 'marton', 'marty', 'martínez', 'marvin', 'marx', 'mary', 'marya', 'maryam', 'maryiam', 'marz', 'marzi', 'maría', 'marília', 'masaharu', 'masahiro', 'masaki', 'masako', 'masamichi', 'masane', 'masaru', 'masato', 'masatoshi', 'masaya', 'masayuki', 'masegosa', 'masi', 'masina', 'maskell', 'maslany', 'mason', 'massari', 'massen', 'massey', 'massimo', 'massoglia', 'massri', 'mastandrea', 'master', 'masterson', 'mastrantonio', 'mastroianni', 'masuhiro', 'masur', 'masuyama', 'masé', 'mat', 'matahi', 'matarazzo', 'matchett', 'mather', 'matheson', 'matheus', 'mathew', 'mathews', 'mathias', 'mathiesen', 'mathieu', 'mathilde', 'mathis', 'matiaz', 'matlin', 'matsuda', 'matsumoto', 'matsuo', 'matsuoka', 'matsushima', 'matsuyama', 'matt', 'mattes', 'matthau', 'matthew', 'matthews', 'matthias', 'matthäus', 'matti', 'mattioli', 'matty', 'maturana', 'mature', 'maud', 'maude', 'maudie', 'mauduech', 'maughan', 'maugran', 'maura', 'maureen', 'maurer', 'maurey', 'maurice', 'mauricio', 'maurier', 'mauro', 'maury', 'max', 'maxim', 'maxime', 'maximilian', 'maxine', 'maxwell', 'may', 'maya', 'mayall', 'mayes', 'mayim', 'mayo', 'mays', 'mayu', 'mayumi', 'mazar', 'mazhar', 'mazzello', 'maï', 'maïwenn', 'małgorzata', 'mbatha', 'mcadams', 'mcafee', 'mcanally', 'mcardle', 'mcarthur', 'mcauliffe', 'mcavoy', 'mcbain', 'mcbean', 'mcbrayer', 'mcbride', 'mcbroom', 'mcburney', 'mccabe', 'mccain', 'mccall', 'mccambridge', 'mccann', 'mccarthy', 'mccartney', 'mcclain', 'mccloskey', 'mcclure', 'mccole', 'mcconaughey', 'mcconnell', 'mccord', 'mccormack', 'mccowen', 'mccoy', 'mccrane', 'mccray', 'mccrea', 'mcculloch', 'mccullough', 'mccurry', 'mcdermott', 'mcdiarmid', 'mcdonald', 'mcdonell', 'mcdonnell', 'mcdonough', 'mcdormand', 'mcdowall', 'mcdowell', 'mcelhatton', 'mcelhone', 'mcelligott', 'mcelwee', 'mcenery', 'mcenroe', 'mcfadden', 'mcfarland', 'mcfarlane', 'mcgann', 'mcgavin', 'mcgee', 'mcgibbon', 'mcgill', 'mcgillin', 'mcgillis', 'mcginley', 'mcglone', 'mcgoohan', 'mcgovern', 'mcgowan', 'mcgrath', 'mcgraw', 'mcgregor', 'mcguinness', 'mcguire', 'mchale', 'mchallem', 'mchattie', 'mchugh', 'mcinnerny', 'mcintire', 'mcintosh', 'mckay', 'mckean', 'mckee', 'mckellar', 'mckellen', 'mckenna', 'mckenzie', 'mckern', 'mckidd', 'mckinney', 'mckinnon', 'mclaglen', 'mclane', 'mclaren', 'mclaughlin', 'mcleavy', 'mcleish', 'mclendon', 'mclerie', 'mclish', 'mcmahon', 'mcmartin', 'mcmaster', 'mcmenamin', 'mcmillan', 'mcmillen', 'mcmillian', 'mcmurtry', 'mcnab', 'mcnair', 'mcnairy', 'mcnally', 'mcnamara', 'mcnamee', 'mcneal', 'mcneice', 'mcneil', 'mcnichol', 'mcniven', 'mcnulty', 'mcphee', 'mcqueen', 'mcrae', 'mcraney', 'mcshane', 'mcsorley', 'mctavish', 'mcteer', 'meade', 'meadows', 'meagan', 'meagher', 'meaney', 'means', 'meat', 'mechlowicz', 'medaline', 'medeiros', 'medford', 'medina', 'medlock', 'meeker', 'meeks', 'meester', 'meg', 'megan', 'megs', 'megumi', 'mehmet', 'mei', 'meiko', 'meillon', 'meininger', 'meisa', 'mejias', 'mejía', 'mekhi', 'mel', 'melamed', 'melanie', 'melato', 'melendez', 'melinda', 'melissa', 'melki', 'mello', 'melody', 'meloni', 'melonie', 'melora', 'melvil', 'melvin', 'melvyn', 'memedov', 'mena', 'mencia', 'mendelsohn', 'mendes', 'mendez', 'mendillo', 'mendonça', 'mendoza', 'meneka', 'mengatti', 'menjou', 'menshikov', 'menshov', 'menzel', 'menzies', 'merab', 'merad', 'mercado', 'mercedes', 'mercer', 'merchant', 'mercier', 'mercurio', 'meredith', 'meret', 'merideth', 'merila', 'meriwether', 'merkel', 'merkurev', 'merl', 'merle', 'merli', 'merlin', 'merman', 'merna', 'merrill', 'merriman', 'merritt', 'merten', 'mervyn', 'meryl', 'messina', 'messing', 'messmer', 'messner', 'mestad', 'mesurier', 'metcalf', 'metcalfe', 'method', 'metrano', 'metzler', 'meurisse', 'mewes', 'meyer', 'meyers', 'meyrink', 'mezzogiorno', 'mi', 'mia', 'miao', 'micaela', 'micah', 'michael', 'michaela', 'michaels', 'michaël', 'michel', 'michelan', 'michelangeli', 'michele', 'micheline', 'michelle', 'michelsen', 'micheál', 'michiel', 'michiyo', 'michon', 'michèle', 'mick', 'mickelson', 'mickey', 'middleditch', 'midkiff', 'midler', 'midori', 'mie', 'mieko', 'miele', 'mifune', 'mignogna', 'miguel', 'migyur', 'mihailoff', 'mihaly', 'mihashi', 'miho', 'miina', 'mika', 'mike', 'mikhail', 'mikhalkov', 'miki', 'mikkelsen', 'miko', 'mikuni', 'mila', 'milan', 'milano', 'milberg', 'milburn', 'mildred', 'milena', 'miles', 'miley', 'mili', 'milian', 'milius', 'miličević', 'milk', 'milkani', 'milla', 'milland', 'miller', 'millette', 'millicent', 'millie', 'mills', 'millán', 'milner', 'milo', 'milton', 'mimi', 'mimieux', 'min', 'minaguchi', 'minami', 'minamida', 'minciotti', 'mineo', 'miner', 'ming', 'minghella', 'minichmayr', 'minis', 'mink', 'minnelli', 'minnette', 'minnie', 'minogue', 'minori', 'minoru', 'minter', 'mintz', 'minzhi', 'miou', 'mira', 'miracle', 'mirai', 'miranda', 'mircea', 'mircha', 'mirei', 'mireille', 'miriam', 'mirjana', 'mirojnick', 'mironova', 'mirosław', 'mirren', 'mirta', 'misaki', 'misako', 'mischa', 'misha', 'miskelly', 'miss', 'missy', 'mistry', 'misty', 'mitch', 'mitchel', 'mitchell', 'mitchum', 'mitler', 'mitra', 'mitsuishi', 'mitsuki', 'mitsuko', 'mitsuo', 'mitsutaka', 'mitzi', 'miu', 'miura', 'miwa', 'mixon', 'miyake', 'miyamoto', 'miyamura', 'miyasako', 'miyazaki', 'miyazawa', 'miyori', 'miyu', 'mizrahi', 'mizuhashi', 'mizuno', 'mnich', 'mo', 'moazzam', 'mobarak', 'mobley', 'mocca', 'mochizuki', 'mockus', 'modine', 'modot', 'moeschke', 'moffat', 'mofokeng', 'mohamad', 'mohammad', 'mohammadkhani', 'mohammed', 'moharami', 'mohindra', 'mohr', 'mohsen', 'moica', 'moira', 'moishe', 'moisés', 'mojgan', 'mok', 'mokae', 'mol', 'molina', 'molins', 'moll', 'molly', 'mollà', 'molnár', 'momoko', 'moms', 'momsen', 'mona', 'monaghan', 'monahan', 'monica', 'monika', 'monique', 'moniz', 'monk', 'monoson', 'monot', 'monreale', 'monroe', 'montague', 'montalban', 'montalbán', 'montand', 'montenegro', 'montez', 'montgomery', 'monticelli', 'monty', 'moody', 'moon', 'mooney', 'moore', 'moorehead', 'morales', 'moran', 'moranis', 'morante', 'morassi', 'more', 'moreau', 'morel', 'morell', 'morena', 'moreno', 'moretti', 'moretz', 'morgan', 'morgana', 'morgane', 'morgenstern', 'mori', 'moriarty', 'morice', 'morikawa', 'morin', 'morina', 'morio', 'morita', 'moritsugu', 'moritz', 'moritzen', 'moriyama', 'morjana', 'morley', 'mornay', 'morra', 'morris', 'morrison', 'morrissey', 'morrow', 'morse', 'morten', 'mortensen', 'mortimer', 'morton', 'morán', 'mosaffa', 'moschin', 'moseley', 'moses', 'mosier', 'mosley', 'moss', 'mostel', 'mothers', 'motke', 'motoki', 'motte', 'mouglalis', 'moukarzel', 'moura', 'mouret', 'movie', 'movin', 'moy', 'moyer', 'moynahan', 'moyo', 'mozgovoy', 'mpho', 'mucsi', 'mueller', 'muhammad', 'mui', 'muir', 'mulhall', 'mulhern', 'mulkey', 'mull', 'mullally', 'mullan', 'mullen', 'muller', 'mulligan', 'mulroney', 'mulvey', 'mumolo', 'mun', 'munday', 'muni', 'muniz', 'munoz', 'munro', 'munshin', 'munzuk', 'muoi', 'murata', 'murciano', 'muriel', 'murielle', 'murilo', 'muroi', 'murphy', 'murray', 'music', 'musso', 'mustaine', 'mutambirwa', 'muti', 'mutou', 'muzaffer', 'mya', 'myanna', 'myers', 'mykelti', 'mykolaichuk', 'myleene', 'myles', 'mylène', 'myrna', 'mystery', 'myung', 'mária', 'mädchen', 'mäkelä', 'mélanie', 'mélissa', 'méliès', 'méril', 'mía', 'mónica', 'möhner', 'mühe', 'müller', 'na', 'naamar', 'nabil', 'naceri', 'nachi', 'nacho', 'nachtergaele', 'nadia', 'nadine', 'nadya', 'naegel', 'nagai', 'nagase', 'nagra', 'nahon', 'nail', 'naish', 'naito', 'naji', 'najimy', 'najwa', 'naka', 'nakadai', 'nakai', 'nakajima', 'nakama', 'nakamura', 'nakao', 'nakatani', 'nakauchi', 'nakayama', 'nakia', 'nam', 'nanako', 'nanami', 'nance', 'nancy', 'nandita', 'nanette', 'nanni', 'nao', 'naoki', 'naomi', 'naomie', 'naoto', 'napier', 'nara', 'narducci', 'nargess', 'narova', 'nascimento', 'naseeruddin', 'nash', 'nastassja', 'nat', 'natacha', 'natalia', 'natalie', 'nataliya', 'natalya', 'natar', 'natascha', 'natasha', 'nataša', 'nate', 'nathalia', 'nathalie', 'nathan', 'nathaniel', 'natour', 'natsukawa', 'natsuki', 'natta', 'naughton', 'nauta', 'navar', 'naveen', 'nawazuddin', 'nawrocki', 'naya', 'nazionale', 'naşit', 'neal', 'nealon', 'nebab', 'ned', 'needles', 'neel', 'neelesha', 'neeley', 'neely', 'neeson', 'negro', 'nehemiah', 'neher', 'neij', 'neil', 'neill', 'nelkin', 'nell', 'nelligan', 'nelly', 'nelofer', 'nelsan', 'nelson', 'nenji', 'neri', 'nermina', 'nero', 'nesbitt', 'neten', 'neuvic', 'neuwirth', 'neve', 'neville', 'nevins', 'new', 'newberg', 'newbern', 'newcombe', 'newhart', 'newley', 'newman', 'newton', 'neyman', 'nezu', 'ng', 'ngo', 'ngoc', 'ngor', 'nguyen', 'nguyễn', 'như', 'nia', 'niall', 'nicastro', 'nicholas', 'nicholle', 'nichols', 'nicholson', 'nick', 'nickel', 'nicklin', 'nickolas', 'nicky', 'nico', 'nicol', 'nicola', 'nicolas', 'nicole', 'nicoletta', 'nicolette', 'nicoll', 'nicollette', 'nicolodi', 'niels', 'nielsen', 'niemczyk', 'niemelä', 'nien', 'nieto', 'nieve', 'nigel', 'nighy', 'niiyama', 'nijiko', 'nike', 'nikita', 'nikkari', 'nikki', 'niklaus', 'nikolaj', 'nikolay', 'niles', 'nils', 'nilsson', 'nima', 'nimoy', 'nimri', 'nin', 'nina', 'ninetto', 'ning', 'ninidze', 'ninja', 'nino', 'ninomiya', 'nipsey', 'nique', 'nirmal', 'niro', 'nishida', 'nishihara', 'nishijima', 'nishimura', 'nissen', 'nitschkoff', 'niu', 'niven', 'nivola', 'nixon', 'noah', 'noam', 'noble', 'nobu', 'nobuko', 'nobuo', 'noel', 'noelle', 'noethen', 'noiret', 'nolan', 'nolden', 'nolot', 'nolte', 'nomi', 'nona', 'noni', 'nonomura', 'noomi', 'noonan', 'noone', 'nora', 'norah', 'nordh', 'nordling', 'noriega', 'noriko', 'norm', 'norma', 'norman', 'norris', 'norström', 'north', 'northam', 'norton', 'norwood', 'nossell', 'notaro', 'noth', 'noto', 'noureen', 'nouri', 'noury', 'novak', 'novaković', 'novarro', 'novello', 'novis', 'novotny', 'noya', 'nozawa', 'nozomu', 'noël', 'ntshona', 'nu', 'nucci', 'nunn', 'nurmi', 'nussbaum', 'nutsa', 'nyad', 'nyla', 'nyman', 'nyong', 'nyqvist', 'nyree', 'négroni', 'nélisse', 'nørby', 'núñez', 'oakie', 'oakland', 'oanh', 'oates', 'obama', 'obba', 'oberon', 'obradors', 'ochoa', 'octavia', 'oda', 'odaka', 'oded', 'odenkirk', 'odete', 'odette', 'odeya', 'odile', 'oedekerk', 'of', 'offerman', 'ogata', 'ogawa', 'ogden', 'ogilvy', 'ogrodnik', 'oguchi', 'oguri', 'ogut', 'oh', 'ohad', 'ohbayashi', 'ohkusu', 'ohmart', 'ohtsuka', 'oida', 'ok', 'oka', 'okada', 'okamoto', 'okamura', 'okina', 'okon', 'okonedo', 'okrent', 'oksana', 'ol', 'ola', 'olandt', 'olav', 'olava', 'oldham', 'oldman', 'oleg', 'olejnik', 'olek', 'olga', 'olgierd', 'olin', 'oliu', 'oliveira', 'oliver', 'olivera', 'oliveri', 'olivia', 'olivier', 'ollestad', 'olmos', 'olsen', 'olson', 'olympia', 'olyphant', 'oláh', 'om', 'omar', 'omero', 'omilami', 'omori', 'ondar', 'ondra', 'ong', 'ono', 'onofrio', 'onosaka', 'ontiveros', 'ontkean', 'onyulo', 'opeyemi', 'oprah', 'orafaiy', 'oram', 'orbach', 'orchestrovich', 'orgolini', 'orgyen', 'orianka', 'orianthi', 'orikasa', 'orlando', 'orly', 'ormond', 'ornella', 'orny', 'orser', 'orson', 'ortega', 'orth', 'ortiz', 'osa', 'osama', 'osawa', 'osborne', 'osbourne', 'oscar', 'oshinari', 'oskar', 'osment', 'osric', 'ossie', 'ostendorf', 'ostrum', 'osugi', 'oswalt', 'othon', 'otis', 'otoguro', 'otowa', 'otto', 'ottó', 'ouassini', 'ouertani', 'ousdal', 'outerbridge', 'outinen', 'overton', 'owe', 'owen', 'owens', 'oxenberg', 'oxenbould', 'oyelowo', 'oz', 'ozan', 'ozzy', 'paaske', 'pablo', 'pace', 'pacino', 'pack', 'paco', 'pacula', 'padalecki', 'paddy', 'padilla', 'padukone', 'page', 'pagliero', 'paige', 'pailhas', 'pais', 'paisley', 'pajala', 'pak', 'palance', 'palermo', 'palicki', 'palin', 'palka', 'palladino', 'pallandt', 'pallenberg', 'palleske', 'pally', 'palm', 'palma', 'palmer', 'palminteri', 'paltrow', 'palvin', 'pam', 'pamela', 'pan', 'panabaker', 'pandey', 'pandolfi', 'panebianco', 'panettiere', 'pang', 'pankin', 'pankow', 'pannell', 'panou', 'pantoliano', 'paola', 'paolo', 'papantonio', 'papas', 'papenbrook', 'papoulia', 'paprika', 'paquin', 'paracha', 'paradis', 'parambrata', 'paratene', 'pardue', 'paredes', 'parfitt', 'parillaud', 'paris', 'park', 'parker', 'parkins', 'parks', 'parlo', 'parmentier', 'parminder', 'parrack', 'parrish', 'parsons', 'partain', 'parton', 'partridge', 'paré', 'parély', 'pasanen', 'pascal', 'pascale', 'pascaud', 'pascual', 'pasdar', 'pasolini', 'pasquale', 'passalis', 'passingham', 'pastor', 'pastore', 'pasut', 'pat', 'patachou', 'pate', 'patel', 'paterson', 'patinkin', 'paton', 'patric', 'patrice', 'patricia', 'patrick', 'patsy', 'patten', 'patterson', 'patti', 'pattinson', 'patton', 'patty', 'paul', 'paula', 'paulette', 'paulina', 'pauline', 'paulo', 'pauls', 'paulsen', 'paulson', 'pauly', 'pavel', 'pavinkski', 'paxton', 'paymer', 'payne', 'pays', 'paz', 'pazira', 'pazos', 'peabody', 'peale', 'pearce', 'pearl', 'peck', 'pedaja', 'pedersen', 'pedrasa', 'pedro', 'peebles', 'peele', 'peelo', 'peeples', 'peet', 'peewee', 'pegah', 'pegg', 'peggie', 'peggy', 'pegues', 'pei', 'peiqi', 'peirce', 'peirse', 'pekin', 'pekka', 'pelikan', 'pelle', 'pelleritti', 'pellicom', 'pellonpää', 'pelt', 'peltier', 'peltola', 'peltz', 'pena', 'penavega', 'pendleton', 'penelope', 'penhaligon', 'penn', 'penry', 'penélope', 'pep', 'peppard', 'pepper', 'pepón', 'per', 'perabo', 'perceval', 'percival', 'percy', 'perdita', 'peregrym', 'pereiro', 'perel', 'peretti', 'perey', 'perez', 'perkins', 'perlich', 'perlman', 'pernel', 'perrey', 'perrin', 'perrine', 'perrineau', 'perry', 'perschy', 'persky', 'persoff', 'persson', 'pertwee', 'perugorría', 'pesci', 'peta', 'petchtai', 'pete', 'peter', 'peters', 'petersen', 'peterson', 'petersson', 'petit', 'petr', 'petronella', 'petsos', 'pettingell', 'pettis', 'petty', 'pettyfer', 'pevsner', 'peña', 'peñalver', 'pfeifer', 'pfeiffer', 'phair', 'phellipe', 'phelps', 'pheto', 'phifer', 'phil', 'philbin', 'philip', 'philippe', 'philips', 'phillip', 'phillippe', 'phillips', 'phoebe', 'phoenix', 'pholdee', 'phongam', 'phylicia', 'phyllida', 'phyllis', 'phạm', 'pia', 'piazza', 'picard', 'piccoli', 'pickles', 'picot', 'pidgeon', 'pier', 'pierce', 'pieroni', 'pierre', 'pierreux', 'pierrot', 'pierson', 'pietrangolare', 'pietro', 'pietropinto', 'pike', 'pilar', 'pilato', 'pileggi', 'pilkington', 'pill', 'pilmark', 'pimentel', 'pinal', 'pindroch', 'pine', 'pinette', 'ping', 'pinkett', 'pinon', 'pinoy', 'pinsent', 'pintauro', 'pinto', 'pio', 'piper', 'pipoly', 'pirkanen', 'piro', 'piroska', 'pisier', 'pismichenko', 'pistol', 'pisu', 'pitagora', 'pitillo', 'pitman', 'pitoc', 'pitoëff', 'pitt', 'pittaki', 'pitts', 'pittschau', 'piugattuk', 'piven', 'piyapas', 'pj', 'place', 'placido', 'planting', 'plasse', 'platt', 'plaza', 'pleasence', 'pledger', 'plengpanich', 'pleshette', 'plotnick', 'plowright', 'plummer', 'plunkett', 'png', 'podchlebnik', 'podestà', 'podewell', 'poehler', 'poelvoorde', 'poindexter', 'poiret', 'poitier', 'poitras', 'polanco', 'polanski', 'polinsky', 'polish', 'pollack', 'pollak', 'pollan', 'pollard', 'polley', 'pollock', 'polly', 'pollyanna', 'polo', 'polson', 'polívka', 'pomeranc', 'poncela', 'pond', 'ponziani', 'pooh', 'pooja', 'poots', 'pop', 'pope', 'popplewell', 'poppy', 'porizkova', 'poroshina', 'portal', 'porter', 'portia', 'portillo', 'portman', 'posehn', 'posey', 'post', 'postlethwaite', 'potente', 'pott', 'potter', 'potts', 'poujouly', 'poulin', 'poulter', 'pounder', 'poupaud', 'powell', 'power', 'powers', 'pozner', 'pras', 'pratika', 'pratt', 'pratts', 'preben', 'predrag', 'preminger', 'prentiss', 'prepon', 'presley', 'presnell', 'press', 'pressley', 'pressly', 'preston', 'previn', 'prey', 'price', 'prichard', 'priestley', 'primus', 'prince', 'prinze', 'priolo', 'priscilla', 'prissy', 'priyanka', 'prochnow', 'procter', 'proctor', 'prophet', 'proske', 'prosky', 'prost', 'proulx', 'proval', 'provine', 'prowse', 'prueher', 'pruitt', 'pryce', 'pryor', 'príncep', 'psotta', 'pu', 'pucci', 'puglia', 'pugovkin', 'puja', 'pulde', 'pulliam', 'pullman', 'pulver', 'pumwaree', 'punch', 'pupella', 'purcell', 'purdy', 'purefoy', 'puri', 'puru', 'purviance', 'puti', 'putra', 'putu', 'pyatkov', 'pyotr', 'pyrz', 'pádraic', 'pärt', 'pääkkönen', 'pål', 'pélégri', 'pérez', 'périer', 'pêra', 'qi', 'qian', 'qing', 'qiu', 'quaid', 'qualen', 'qualls', 'qualtinger', 'quan', 'quang', 'quanxin', 'quarry', 'quayle', 'queen', 'queeney', 'quennessen', 'quentin', 'questel', 'quester', 'quigley', 'quim', 'quincy', 'quinlan', 'quinn', 'quinones', 'quintavalle', 'quinteros', 'quinto', 'quinton', 'quiroz', 'quvenzhané', 'quỳnh', 'raab', 'raaz', 'rabal', 'rabe', 'rabenreither', 'race', 'racette', 'rachael', 'rachel', 'rachida', 'racimo', 'radcliff', 'radcliffe', 'rade', 'radha', 'radice', 'radner', 'radnor', 'rae', 'rafael', 'rafe', 'raffaella', 'raffaelli', 'raffaëla', 'raffey', 'raffin', 'raft', 'ragnar', 'ragnerstam', 'rago', 'ragsdale', 'rahim', 'rai', 'railsback', 'raimi', 'rain', 'rainer', 'raines', 'rainey', 'raini', 'rainn', 'rains', 'raita', 'raitt', 'raize', 'rajesh', 'ralph', 'ralston', 'ramazzotti', 'rambal', 'ramer', 'ramezani', 'rami', 'ramirez', 'ramiro', 'ramis', 'ramon', 'ramos', 'rampling', 'ramsay', 'ramsey', 'ramírez', 'ramón', 'ranbir', 'randall', 'randle', 'randolf', 'randolph', 'randy', 'rankin', 'ransdell', 'ransone', 'ranveer', 'ranzi', 'raoul', 'rapace', 'rapaport', 'raphael', 'rapp', 'rappaport', 'rapulana', 'raquel', 'rasche', 'rashida', 'rashād', 'rasim', 'rasuk', 'ratcliff', 'rathbone', 'ratliff', 'ratoff', 'ratray', 'rattray', 'raul', 'raven', 'ravenscroft', 'raver', 'ravi', 'ravin', 'raw', 'rawe', 'rawiri', 'rawle', 'rawlins', 'rawls', 'ray', 'raymond', 'rayner', 'razvi', 'razza', 'raúl', 'rea', 'read', 'reagan', 'reagle', 'reaser', 'reason', 'reb', 'rebbot', 'rebecca', 'rebecka', 'rebel', 'rebhorn', 'rebney', 'recoing', 'records', 'red', 'redd', 'reddy', 'redeker', 'redford', 'redgrave', 'reding', 'redman', 'redmayne', 'redmond', 'reece', 'reed', 'reeder', 'reedus', 'reem', 'reena', 'rees', 'reese', 'reeve', 'reeves', 'rega', 'regan', 'reggie', 'regina', 'reginald', 'reguera', 'rei', 'reich', 'reichmann', 'reid', 'reijn', 'reiko', 'reilly', 'reiner', 'reinhard', 'reinhold', 'reiniger', 'reino', 'reis', 'reisaburô', 'reiser', 'reitherman', 'reizl', 'remar', 'remick', 'remo', 'ren', 'rena', 'renant', 'renato', 'renaud', 'renauld', 'renay', 'rendleman', 'rene', 'renee', 'renfro', 'reni', 'renier', 'renji', 'renner', 'rennie', 'reno', 'rentarô', 'renzi', 'renzo', 'renée', 'reon', 'restrepo', 'reubens', 'reuten', 'reva', 'revill', 'revolori', 'rex', 'rey', 'reynolds', 'reynor', 'reznick', 'reznor', 'rhames', 'rhea', 'rhee', 'rhett', 'rhey', 'rhiannon', 'rhoades', 'rhodes', 'rhona', 'rhonda', 'rhyne', 'rhys', 'ri', 'ribisi', 'rica', 'ricardo', 'riccardo', 'ricci', 'rice', 'rich', 'richard', 'richards', 'richardson', 'richelmy', 'richez', 'richie', 'richings', 'richter', 'rick', 'rickert', 'ricki', 'rickles', 'rickman', 'ricky', 'rideau', 'rider', 'ridgely', 'ridley', 'rie', 'riefenstahl', 'riegert', 'riehle', 'riemann', 'riemelt', 'rifkin', 'rigg', 'riggi', 'riggle', 'rihanna', 'riisa', 'rik', 'riker', 'riki', 'riley', 'rima', 'rimeika', 'ringer', 'ringo', 'ringwald', 'rip', 'ripley', 'riseborough', 'rispoli', 'ristovski', 'rita', 'ritch', 'ritchard', 'ritchie', 'ritmanic', 'ritter', 'riva', 'rivas', 'river', 'rivers', 'rivière', 'riyoko', 'riz', 'riza', 'rj', 'roache', 'roarke', 'rob', 'robards', 'robb', 'robbie', 'robbins', 'robby', 'roberson', 'robert', 'roberta', 'roberto', 'roberts', 'robertson', 'robeson', 'robi', 'robin', 'robins', 'robinson', 'robison', 'robson', 'robyn', 'robynn', 'rocco', 'roche', 'rochefort', 'rochelle', 'rochester', 'rochon', 'rock', 'rockefeller', 'rocket', 'rockwell', 'rocky', 'rod', 'roddan', 'roddy', 'roden', 'rodger', 'rodman', 'rodney', 'rodrigo', 'rodrigues', 'rodriguez', 'rodríguez', 'roe', 'roeg', 'roemer', 'rogen', 'roger', 'rogers', 'rogge', 'rogowski', 'rohan', 'rohner', 'roisin', 'rojo', 'roko', 'roland', 'rolence', 'rolf', 'rolfe', 'rolla', 'rolle', 'rolleston', 'rollins', 'romain', 'roman', 'romance', 'romand', 'romane', 'romano', 'romanthony', 'romanus', 'romero', 'romersa', 'romijn', 'romola', 'romolo', 'rompay', 'romy', 'ron', 'ronald', 'ronan', 'ronee', 'ronet', 'rong', 'rongione', 'ronit', 'ronnie', 'ronny', 'ronson', 'rooker', 'rooney', 'roop', 'roose', 'root', 'roper', 'rory', 'rosa', 'rosalind', 'rosamund', 'rosana', 'rosanna', 'rosario', 'roschdy', 'roscher', 'roscoe', 'rose', 'roseanne', 'rosel', 'roselius', 'roselyn', 'rosemarie', 'rosemary', 'rosenbaum', 'rosenthal', 'rosetta', 'rosette', 'roshan', 'rosie', 'ross', 'rossana', 'rossano', 'rossellini', 'rossif', 'rossini', 'rossovich', 'rossum', 'roth', 'rothhaar', 'rothman', 'rothrock', 'rotondo', 'rottländer', 'roudenko', 'roundtree', 'rourke', 'rousseau', 'roussel', 'roussinou', 'routh', 'routledge', 'rowan', 'rowe', 'rowell', 'rowland', 'rowlands', 'roxanna', 'roxanne', 'roxburgh', 'roy', 'royal', 'royce', 'roüan', 'ruane', 'rubbo', 'ruben', 'rubin', 'rubinek', 'rubini', 'ruby', 'rubén', 'ruccolo', 'ruck', 'rudakova', 'rudd', 'rude', 'rudolf', 'rudolph', 'rudy', 'rueda', 'ruehl', 'ruell', 'ruffalo', 'rufus', 'ruggiero', 'ruggles', 'ruhi', 'ruick', 'rujinanon', 'rujun', 'rukh', 'rukun', 'rule', 'rumer', 'rumi', 'runacre', 'runyan', 'runyon', 'rupert', 'ruppert', 'rush', 'rushing', 'ruskin', 'rusler', 'russ', 'russell', 'russo', 'rust', 'rusty', 'rutanya', 'rutger', 'ruth', 'rutherford', 'ry', 'rya', 'ryan', 'ryder', 'rye', 'rylance', 'ryo', 'ryoko', 'ryou', 'ryu', 'ryunosuke', 'ryû', 'ryûnosuke', 'ryûzô', 'ryūsei', 'rza', 'régent', 'régnier', 'rémy', 'rötger', 'rúaidhrí', 'rüdiger', 'saadi', 'sab', 'sabara', 'sabine', 'sabrina', 'sacha', 'sachs', 'sackhoff', 'sacks', 'sadeqi', 'sadie', 'sadler', 'sadoski', 'sadre', 'sady', 'sae', 'saeki', 'saemi', 'saffron', 'sagal', 'sagemiller', 'sagnier', 'sagoes', 'sagona', 'sahaphap', 'sahar', 'sahara', 'sahli', 'sahlstrøm', 'saif', 'saifei', 'saiger', 'saint', 'saito', 'saitô', 'sakai', 'sakall', 'sakamoto', 'sakari', 'sakke', 'sakuma', 'sakuraba', 'sakurai', 'sal', 'salaam', 'salameh', 'saldana', 'salem', 'salenger', 'salim', 'salinas', 'sallis', 'sally', 'salma', 'salman', 'salmonova', 'salo', 'salome', 'salomon', 'salonga', 'salt', 'salvador', 'salvatore', 'salvatorelli', 'salvatori', 'salvino', 'salvo', 'sam', 'samaire', 'samantha', 'samberg', 'samel', 'sami', 'samir', 'sammo', 'samms', 'sammy', 'samoylova', 'sampedo', 'sampi', 'samson', 'samuel', 'samuelsson', 'samuli', 'samy', 'san', 'sanaa', 'sanabel', 'sanada', 'sanchez', 'sancho', 'sand', 'sanda', 'sandahl', 'sandberg', 'sander', 'sanders', 'sanderson', 'sandie', 'sandino', 'sandler', 'sandor', 'sandra', 'sandrelli', 'sandrine', 'sandro', 'sands', 'sandvoss', 'sandweiss', 'sandy', 'sang', 'sangster', 'sanjay', 'sanjeev', 'sanjo', 'sanna', 'sano', 'sansbury', 'sanshi', 'sansom', 'santa', 'santamaria', 'santelmann', 'santi', 'santiago', 'santoni', 'santoro', 'santos', 'santoveña', 'sanyal', 'sanz', 'saoirse', 'sapdaru', 'sara', 'sarah', 'sarala', 'sarandon', 'sarita', 'sarr', 'sarrazin', 'sarsgaard', 'sarunyu', 'sasaki', 'sasha', 'saskia', 'sass', 'sasso', 'sasson', 'satana', 'sato', 'satomi', 'satoshi', 'satsuki', 'saturnin', 'satô', 'sau', 'saul', 'saunders', 'saundra', 'sauras', 'savage', 'savalas', 'savas', 'savely', 'saverio', 'savin', 'savini', 'savion', 'savolainen', 'savoy', 'sawa', 'sawaguchi', 'saxon', 'sayah', 'sayaka', 'sayed', 'sazio', 'saïd', 'sbaraglia', 'sbarge', 'scacchi', 'scaldati', 'scanlon', 'scardino', 'scarlett', 'scarpetta', 'scarwid', 'scatman', 'scerbo', 'schaake', 'schaal', 'schaaning', 'schaech', 'schaffer', 'schank', 'scharf', 'scharpling', 'scheider', 'scheitz', 'schell', 'schellenberg', 'scherrer', 'schiff', 'schildkraut', 'schilling', 'schiltz', 'schimmels', 'schlatter', 'schlosser', 'schluter', 'schmeide', 'schnapp', 'schneebaum', 'schneider', 'schnetzer', 'schnoor', 'schoeffling', 'schoelen', 'schoenaerts', 'scholes', 'schrader', 'schreck', 'schreiber', 'schroder', 'schroeder', 'schröder', 'schull', 'schulman', 'schultheis', 'schultz', 'schumer', 'schuurman', 'schuyler', 'schwalbach', 'schwartz', 'schwartzman', 'schwarz', 'schwarzenegger', 'schweickart', 'schweig', 'schweiger', 'schweighöfer', 'schwimmer', 'schygulla', 'schünzel', 'schüttler', 'science', 'sciorra', 'scob', 'scodelario', 'scofield', 'scoggins', 'scola', 'scoot', 'scorsese', 'scorupco', 'scott', 'scotti', 'scottie', 'scout', 'scrimm', 'seagal', 'seagrove', 'seale', 'seales', 'seaman', 'seamus', 'sean', 'seann', 'searcy', 'searing', 'sears', 'season', 'seavey', 'sebastian', 'sebastián', 'seberg', 'sebogodi', 'seda', 'sedaris', 'seddiqi', 'sedgwick', 'seeger', 'seely', 'seema', 'segal', 'segan', 'segel', 'segerman', 'segundo', 'segura', 'seidy', 'seigner', 'seiichi', 'seimetz', 'seinfeld', 'seiphemo', 'sekiguchi', 'sela', 'selby', 'selena', 'selge', 'selim', 'selleck', 'sellers', 'sellier', 'selma', 'selton', 'sene', 'sengoku', 'senna', 'sensenig', 'senyonjo', 'seo', 'seok', 'seon', 'seppälä', 'septula', 'serbedzija', 'sereboff', 'serge', 'sergeev', 'sergei', 'sergej', 'sergi', 'sergio', 'serious', 'serkan', 'serkis', 'serna', 'sernas', 'serrano', 'serratos', 'serrault', 'serre', 'servais', 'servantie', 'servi', 'servillo', 'sestero', 'seth', 'sethi', 'setsuko', 'seung', 'severance', 'severdzhan', 'sevigny', 'sewell', 'sexton', 'seydoux', 'seyfried', 'seymour', 'seyrig', 'shabana', 'shad', 'shadia', 'shafer', 'shaffer', 'shafiq', 'shaghayeh', 'shah', 'shahab', 'shahi', 'shahkrit', 'shai', 'shailene', 'shakira', 'shakur', 'shalhoub', 'shalom', 'shameik', 'shamshad', 'shand', 'shandling', 'shane', 'shani', 'shankar', 'shannen', 'shannon', 'shannyn', 'shantel', 'shapiro', 'shaquille', 'sharbino', 'shareeka', 'shari', 'sharif', 'sharkey', 'sharlto', 'sharma', 'sharmila', 'sharni', 'sharon', 'sharp', 'sharpe', 'sharpton', 'sharrett', 'sharron', 'shashi', 'shatner', 'shaun', 'shauna', 'shavar', 'shaver', 'shaw', 'shawananness', 'shawkat', 'shawn', 'shawnee', 'shay', 'shayesteh', 'shea', 'shearer', 'shedrack', 'sheedy', 'sheehan', 'sheen', 'sheetal', 'sheffer', 'sheffield', 'sheila', 'sheldon', 'shelley', 'shelly', 'shelton', 'sheng', 'shenkman', 'shepard', 'shepherd', 'sheppard', 'sher', 'sheree', 'shergill', 'sheri', 'sheridan', 'sherilyn', 'sherrin', 'sherry', 'sheryl', 'sheth', 'shia', 'shiang', 'shibasaki', 'shibata', 'shida', 'shields', 'shigeru', 'shiho', 'shiina', 'shiloh', 'shima', 'shimada', 'shimamoto', 'shimell', 'shimono', 'shimura', 'shin', 'shinchou', 'shinichi', 'shinobu', 'shinohara', 'shinpachi', 'shintarô', 'shinya', 'shiori', 'shipka', 'shiraishi', 'shirakawa', 'shire', 'shirer', 'shiri', 'shirley', 'shishido', 'shiva', 'sho', 'shohreh', 'shon', 'shoos', 'shore', 'shorey', 'short', 'shortz', 'shoshana', 'shota', 'shou', 'showalter', 'shu', 'shue', 'shugo', 'shui', 'shum', 'shun', 'shungiku', 'shôji', 'shûichirô', 'siao', 'sibel', 'sica', 'sid', 'siddig', 'siddiqui', 'sidede', 'sidharth', 'sidibe', 'sidney', 'sidse', 'siedhoff', 'siedow', 'siegel', 'siemaszko', 'sienna', 'sigge', 'signe', 'signoret', 'sigourney', 'sigrid', 'sihung', 'sik', 'sikharulidze', 'silbersatz', 'sillas', 'silu', 'silva', 'silvain', 'silvana', 'silvennoinen', 'silver', 'silvera', 'silverman', 'silvers', 'silverstone', 'silvia', 'sim', 'sima', 'simm', 'simmons', 'simon', 'simone', 'simova', 'simpkins', 'simpson', 'sinatra', 'sinbad', 'sinclair', 'singer', 'singh', 'sinha', 'sinise', 'sinniger', 'sinofsky', 'sinéad', 'siobhán', 'siqin', 'siripong', 'sissy', 'sisti', 'sisto', 'sitthiphon', 'siu', 'sives', 'sizemore', 'siân', 'sjöholm', 'sjöman', 'sjöström', 'skala', 'skandar', 'skarsgård', 'skeet', 'skelley', 'skerritt', 'skilling', 'skinner', 'skip', 'skjærstad', 'skolimowski', 'skrein', 'skye', 'skylar', 'skyler', 'slade', 'slate', 'slater', 'slattery', 'slavko', 'slavoj', 'sleiman', 'slezak', 'slim', 'sloane', 'sloat', 'sloatman', 'sloma', 'slotnick', 'sloyan', 'smaran', 'smart', 'smerling', 'smirnov', 'smit', 'smith', 'smits', 'smollett', 'smoove', 'smulders', 'smurfit', 'smutniak', 'snape', 'snerd', 'snipes', 'snitz', 'snodgress', 'snook', 'snoop', 'snow', 'snowden', 'snub', 'snyder', 'snær', 'sobieski', 'soderbergh', 'sofer', 'soffer', 'sofia', 'sofie', 'sofía', 'sohlman', 'sohn', 'sokoloff', 'sol', 'soledad', 'soles', 'solomin', 'solomon', 'solveig', 'solá', 'somerhalder', 'sometani', 'sommars', 'sommer', 'sonakshi', 'sonali', 'sondergaard', 'sondra', 'sone', 'song', 'sonia', 'sonja', 'sonny', 'soo', 'sook', 'soon', 'sophia', 'sophie', 'sorapong', 'sorbo', 'sordi', 'sorel', 'sorimachi', 'sorvino', 'sossamon', 'sota', 'soter', 'sothern', 'soto', 'soualem', 'soul', 'soumitra', 'soupart', 'sousa', 'south', 'spacek', 'spacey', 'spade', 'spader', 'spain', 'spalding', 'spall', 'spano', 'sparks', 'sparv', 'spears', 'spector', 'spede', 'speed', 'speedman', 'speer', 'speleers', 'spelling', 'spellos', 'spence', 'spencer', 'spevack', 'spielberg', 'spijkers', 'spike', 'spinell', 'spinella', 'spiner', 'spitzer', 'spore', 'sprague', 'spring', 'springer', 'springsteen', 'spurlock', 'squibb', 'squire', 'sr', 'srebnik', 'sri', 'srđan', 'st', 'stacey', 'stack', 'stacy', 'stadlober', 'stafford', 'stahl', 'stahly', 'staiola', 'staley', 'stallings', 'stallman', 'stallone', 'stamp', 'stan', 'stana', 'stander', 'standing', 'stanford', 'stanislav', 'stanley', 'stanton', 'stanwyck', 'stapleton', 'stark', 'starke', 'starr', 'starrin', 'statham', 'stathis', 'stauber', 'staunton', 'steadman', 'steagall', 'steege', 'steel', 'steele', 'steen', 'steenburgen', 'stefan', 'stefania', 'stefanie', 'stefano', 'steffi', 'stehlé', 'steiger', 'stein', 'steinbauer', 'steinberg', 'steiner', 'steinfeld', 'steinrück', 'stella', 'stellan', 'stelter', 'stephania', 'stephanie', 'stephanopoulos', 'stephen', 'stephens', 'stephenson', 'sterling', 'stern', 'sternhagen', 'steve', 'steven', 'stevens', 'stevenson', 'stew', 'stewart', 'stiers', 'stig', 'stiles', 'stille', 'stiller', 'stine', 'sting', 'stipe', 'stirratt', 'stockard', 'stockwell', 'stoker', 'stokowski', 'stole', 'stoler', 'stolhanske', 'stoltz', 'stone', 'stonestreet', 'storhøi', 'stork', 'storke', 'storm', 'stormare', 'storms', 'stowe', 'strahovski', 'straight', 'strait', 'strano', 'strasberg', 'strassman', 'stratford', 'strathairn', 'stratton', 'straubinger', 'strauss', 'streep', 'streeter', 'streisand', 'stretch', 'striano', 'stribolt', 'strickland', 'striebeck', 'striesow', 'stroheim', 'strompolos', 'strong', 'strother', 'stroud', 'stroup', 'strummer', 'strydom', 'stryjkówna', 'strömberg', 'stuart', 'studi', 'stuhlbarg', 'stuhr', 'sturgess', 'sturridge', 'stéphane', 'suarez', 'subkoff', 'suchý', 'sudeikis', 'sue', 'sukhorukov', 'sukowa', 'suleka', 'sulfaro', 'suliman', 'sullavan', 'sullivan', 'sully', 'sumi', 'sumiko', 'summer', 'summerville', 'sumner', 'sumpter', 'sun', 'sunde', 'sung', 'sunjata', 'sunshine', 'suplee', 'suraj', 'susan', 'susanna', 'susannah', 'susanne', 'susie', 'suska', 'susumu', 'susy', 'sutherland', 'sutton', 'suvari', 'suzanna', 'suzanne', 'suzman', 'suzuki', 'suzy', 'suzzanne', 'suárez', 'svartholm', 'sveinsson', 'svenson', 'sverre', 'svetlana', 'svěrák', 'swain', 'swanberg', 'swank', 'swanson', 'swardson', 'swartz', 'swayze', 'sweeney', 'sweetland', 'swenson', 'swift', 'swigart', 'swinton', 'swoosie', 'sy', 'syamsul', 'sybil', 'sydney', 'sydow', 'syed', 'sylvers', 'sylvester', 'sylvia', 'sylvie', 'sylwan', 'symon', 'symoné', 'syms', 'synnøve', 'szohr', 'szostak', 'szubanski', 'sánchez', 'sándor', 'sägebrecht', 'såheim', 'sæther', 'sô', 'sônia', 'sönmez', 'søren', 'sütö', 'tab', 'tabatabai', 'tabor', 'tabu', 'taccone', 'tachibana', 'tad', 'tada', 'tadanobu', 'tadao', 'tae', 'tagawa', 'taghmaoui', 'tagore', 'taguchi', 'tahan', 'tahar', 'tahnee', 'tai', 'taika', 'taimak', 'taina', 'taissa', 'tait', 'takagi', 'takahashi', 'takahiro', 'takahumi', 'takako', 'takakura', 'takamine', 'takao', 'takarada', 'takashi', 'takashima', 'takayama', 'takayuki', 'takehiro', 'takei', 'takenaka', 'takenouchi', 'takeshi', 'takeshita', 'takeuchi', 'takia', 'takumi', 'takuya', 'talancón', 'talbot', 'talia', 'talisa', 'talley', 'tallman', 'tallulah', 'tally', 'talmadge', 'talman', 'talulah', 'tam', 'tamaki', 'tamala', 'tamara', 'tamblyn', 'tambor', 'tami', 'tamio', 'tamiroff', 'tamiyo', 'tamlyn', 'tammi', 'tammy', 'tamura', 'tan', 'tanabe', 'tanaka', 'tandon', 'tandy', 'taneli', 'tang', 'tanimura', 'tanner', 'tantai', 'tanvier', 'tanya', 'tanzer', 'tapper', 'tapping', 'tapušković', 'tara', 'taracena', 'taraji', 'taraneh', 'tarantino', 'tariq', 'tarrida', 'taryn', 'taslim', 'taste', 'tat', 'tate', 'tati', 'tatiana', 'tatsumi', 'tatsuo', 'tatsuta', 'tatsuya', 'tatum', 'tatyana', 'taube', 'taurean', 'tautou', 'tawny', 'taye', 'taylor', 'tazaki', 'tchéky', 'te', 'ted', 'tedeschi', 'tedford', 'teegarden', 'teeple', 'tehrani', 'teiji', 'teller', 'telly', 'temple', 'temponi', 'temuera', 'ten', 'tencho', 'tennant', 'tenney', 'tenzin', 'teodor', 'ter', 'terada', 'terajima', 'terao', 'terekhova', 'terence', 'teresa', 'tergesen', 'teri', 'terra', 'terraza', 'terrell', 'terrence', 'terri', 'terron', 'terry', 'tess', 'tessa', 'testa', 'tester', 'testi', 'testud', 'tetsu', 'texas', 'teyssèdre', 'thal', 'thandie', 'thanh', 'thatcher', 'thate', 'the', 'thedford', 'thekla', 'thelma', 'thelonious', 'themis', 'theo', 'theobald', 'theodore', 'thep', 'theresa', 'therese', 'theron', 'theroux', 'thesiger', 'thewlis', 'thiaw', 'thibault', 'thieriot', 'thierry', 'thilen', 'thirlby', 'thivisol', 'thom', 'thomas', 'thomason', 'thomerson', 'thompson', 'thoms', 'thomsen', 'thor', 'thora', 'thorburn', 'thorkild', 'thorn', 'thornbury', 'thorndike', 'thorne', 'thornton', 'thorsen', 'thorsten', 'thriller', 'thuillier', 'thulin', 'thure', 'thurl', 'thurman', 'thuthob', 'thwaites', 'thys', 'thị', 'ti', 'tia', 'tian', 'tianna', 'tibber', 'ticotin', 'tiegs', 'tien', 'tiernan', 'tierney', 'tiersten', 'tiffany', 'tig', 'tiger', 'tikaram', 'til', 'tilda', 'till', 'tillman', 'tilly', 'tim', 'timberlake', 'timm', 'timmermans', 'timo', 'timoteo', 'timothy', 'timsit', 'tin', 'tina', 'tio', 'tippi', 'tipton', 'tirelli', 'tisa', 'tisdale', 'tisha', 'tiziana', 'tobeck', 'tobey', 'tobgyal', 'tobias', 'tobin', 'tobolowsky', 'toby', 'todd', 'todorović', 'tognazzi', 'toibin', 'tokiko', 'tokoro', 'toledo', 'toler', 'tolvanen', 'tom', 'tomas', 'tomazani', 'tomei', 'tomikawa', 'tominaga', 'tomio', 'tomisaburō', 'tomita', 'tomlin', 'tomlinson', 'tommi', 'tommila', 'tommy', 'tomokazu', 'tomorowo', 'tomoya', 'tomoyasu', 'tompkins', 'tone', 'toni', 'tony', 'toole', 'topart', 'topher', 'topol', 'topper', 'toprak', 'tor', 'torabi', 'tori', 'torikka', 'torin', 'torkel', 'torn', 'torné', 'toro', 'torre', 'torrence', 'torrent', 'torres', 'torreton', 'torssonen', 'tort', 'toru', 'torvalds', 'tosar', 'tosh', 'toshio', 'toshirō', 'toshiyuki', 'totter', 'tou', 'toub', 'tovah', 'towers', 'towles', 'townsend', 'toyah', 'trace', 'tracey', 'trachtenberg', 'traci', 'tracie', 'tracy', 'tran', 'traudl', 'travanti', 'travers', 'travis', 'travolta', 'traynor', 'treach', 'treadaway', 'treadwell', 'treanor', 'treat', 'trejo', 'tremayne', 'tremblay', 'trent', 'trese', 'tress', 'trevor', 'trey', 'tricia', 'trier', 'trieste', 'trifunović', 'trinca', 'trini', 'trintignant', 'tripp', 'tripplehorn', 'trish', 'trisha', 'tristan', 'tristán', 'trivalić', 'troisi', 'trond', 'troupe', 'troy', 'trucco', 'true', 'truesdale', 'truffaut', 'trujillo', 'truman', 'trump', 'trundy', 'trzebuchowska', 'tsamchoe', 'tsang', 'tsarong', 'tse', 'tsewang', 'tsoni', 'tsuchiya', 'tsuji', 'tsukamoto', 'tsukasa', 'tsukayama', 'tsukioka', 'tsumabuki', 'tsuru', 'tsuruta', 'tsutomu', 'tsutsumi', 'tsuyako', 'tsuyoshi', 'tuc', 'tucci', 'tucker', 'tudi', 'tudyk', 'tuesday', 'tukur', 'tuncel', 'tunde', 'tung', 'tunney', 'tupac', 'tura', 'turco', 'turgoose', 'turhan', 'turkington', 'turley', 'turlington', 'turner', 'turo', 'turshen', 'turturro', 'tutin', 'tuva', 'tv', 'tweed', 'tweedy', 'twiggy', 'ty', 'tye', 'tygh', 'tyler', 'tyne', 'tyrese', 'tyrin', 'tyron', 'tyrone', 'tyrrell', 'tyson', 'tyunina', 'téa', 'tōru', 'tříska', 'uchida', 'udin', 'udo', 'ueda', 'uehara', 'ugo', 'uhm', 'ujiki', 'ulf', 'ulla', 'ulli', 'ulliel', 'ullman', 'ullmann', 'ulloa', 'ulmen', 'ulrich', 'uma', 'umberto', 'umecka', 'umegaki', 'una', 'underwood', 'ungalaaq', 'unger', 'union', 'unshō', 'untaru', 'upham', 'upton', 'urban', 'urbaniak', 'urdes', 'ure', 'urich', 'urquhart', 'urrila', 'ursina', 'ursitti', 'ursula', 'ustinov', 'utsumi', 'uusberg', 'uwais', 'uxía', 'uğur', 'vaccaro', 'val', 'valberg', 'vale', 'valenti', 'valentin', 'valentina', 'valentine', 'valentino', 'valenzuela', 'valeria', 'valerie', 'valerio', 'vall', 'valle', 'vallee', 'valletta', 'valli', 'vallo', 'valnoha', 'valverde', 'valérie', 'van', 'vanbebber', 'vance', 'vand', 'vanel', 'vanessa', 'vang', 'vanilla', 'vanity', 'vansanten', 'varda', 'vardalos', 'varela', 'varga', 'vargas', 'varhan', 'varley', 'varma', 'varney', 'varsi', 'vartan', 'varun', 'vasconcelos', 'vasil', 'vasiliu', 'vasiliy', 'vasquez', 'vaughan', 'vaughn', 'vaugier', 'vavasseur', 'vazquez', 'vdovina', 'veadov', 'veerle', 'vega', 'vegar', 'veidt', 'veijonen', 'velasco', 'velasquez', 'velda', 'velde', 'venable', 'venora', 'ventimiglia', 'ventoura', 'ventura', 'venus', 'vera', 'verbeke', 'verdon', 'verdone', 'verdú', 'vereen', 'vergara', 'verhaeghe', 'verlinden', 'verna', 'verne', 'vernengo', 'vernon', 'veronica', 'veronika', 'verreault', 'verso', 'verveen', 'verástegui', 'verón', 'verónica', 'vesa', 'vesna', 'vessey', 'viala', 'viard', 'vic', 'vicellous', 'vicius', 'vickers', 'vicki', 'vicky', 'victoire', 'victor', 'victoria', 'vidal', 'vidnovic', 'vidya', 'vieluf', 'vierikko', 'viesturs', 'viggiano', 'viggo', 'vignau', 'vijay', 'viju', 'vik', 'vikander', 'viktor', 'viktoria', 'vilgot', 'villafañe', 'villaggio', 'villalonga', 'villalpando', 'villamil', 'villechaize', 'villella', 'villeret', 'villmar', 'vilma', 'vin', 'vince', 'vincent', 'vinessa', 'ving', 'vinnie', 'vinson', 'vinícius', 'viola', 'violante', 'virginia', 'virginie', 'vischer', 'vishwanadan', 'vishwas', 'visnjic', 'vita', 'vitale', 'vitar', 'vithal', 'vithana', 'vitsin', 'vittet', 'vitti', 'vittorio', 'viveca', 'vivek', 'vivian', 'vivica', 'vivien', 'vlad', 'vladimir', 'vlady', 'vlis', 'vogel', 'vogler', 'voight', 'volonté', 'volter', 'von', 'vondie', 'voorberg', 'vooren', 'voorhies', 'vosloo', 'vostrčil', 'vroom', 'vukotic', 'vuorensola', 'vyacheslav', 'väänänen', 'véra', 'vít', 'waad', 'wachs', 'waclaw', 'waddell', 'waddington', 'waechter', 'wagner', 'wah', 'wahl', 'wahlberg', 'wahlgren', 'wai', 'wainwright', 'waite', 'waititi', 'waits', 'wakabayashi', 'wakayama', 'walburn', 'walcott', 'waldau', 'waldron', 'walken', 'walker', 'wallace', 'wallach', 'walley', 'wallis', 'walsh', 'walston', 'walt', 'walter', 'walters', 'walthall', 'waltz', 'wan', 'wang', 'wangchuk', 'wangenheim', 'wanibuchi', 'waqar', 'war', 'warbeck', 'warburton', 'ward', 'warden', 'ware', 'wareing', 'waris', 'warmbrunn', 'warmerdam', 'warnecke', 'warner', 'warren', 'warrick', 'warshofsky', 'waru', 'warwick', 'washbourne', 'washburn', 'washington', 'wasikowska', 'wasson', 'watanabe', 'waters', 'waterston', 'watkins', 'watling', 'watson', 'watts', 'wayans', 'waylon', 'wayne', 'weatherly', 'weathers', 'weaver', 'weaving', 'webb', 'webber', 'weber', 'wedge', 'wedgeworth', 'weeks', 'wegener', 'wei', 'weil', 'weinberg', 'weingarten', 'weinger', 'weird', 'weisman', 'weiss', 'weissmuller', 'weisz', 'weitz', 'weiwei', 'weixler', 'weizenbaum', 'welch', 'welcker', 'weld', 'weldon', 'welker', 'well', 'weller', 'welles', 'wellford', 'welling', 'wells', 'wen', 'wendell', 'wendi', 'wendt', 'wendy', 'wenli', 'wennemann', 'wentworth', 'werlinder', 'werner', 'wertheimer', 'werveke', 'wes', 'wesley', 'west', 'westbrook', 'western', 'westfeldt', 'weston', 'wettergren', 'weyers', 'weymouth', 'whaley', 'whalin', 'whalley', 'wheaton', 'wheeler', 'whelan', 'whigham', 'whirry', 'whishaw', 'whitaker', 'white', 'whitelaw', 'whitfield', 'whitford', 'whiting', 'whitley', 'whitlow', 'whitman', 'whitmire', 'whitmore', 'whitney', 'whittaker', 'whitton', 'whitty', 'whitu', 'whoopi', 'wiata', 'wiazemsky', 'wiberg', 'wickes', 'widmann', 'widmark', 'wiebe', 'wiest', 'wiggins', 'wightman', 'wiig', 'wiik', 'wijdeven', 'wiklander', 'wil', 'wilby', 'wilcox', 'wilde', 'wilder', 'wilding', 'wildman', 'wiley', 'wilford', 'wilfred', 'wilfrid', 'wilkening', 'wilker', 'wilkinson', 'will', 'willard', 'willcox', 'wille', 'willeke', 'willem', 'willi', 'william', 'williams', 'williamson', 'willie', 'willis', 'wilmot', 'wilson', 'wilt', 'wilton', 'winchell', 'wincott', 'windham', 'windsor', 'winehouse', 'winfield', 'winfrey', 'wing', 'wingard', 'winge', 'winger', 'winkler', 'winninger', 'winningham', 'winona', 'winslet', 'winslow', 'winstead', 'winston', 'winstone', 'winter', 'winters', 'winton', 'wintour', 'wirth', 'wisdom', 'wise', 'wiseau', 'wiseman', 'wit', 'withers', 'witherspoon', 'witt', 'wohlbrück', 'wojtowicz', 'wokalek', 'wolf', 'wolfchild', 'wolfe', 'wolff', 'wolfgang', 'won', 'wong', 'wongkamlao', 'wongkrachang', 'woo', 'wood', 'woodard', 'woodbine', 'woodbury', 'woodeson', 'woodley', 'woodrow', 'woods', 'woodside', 'woodward', 'woody', 'wook', 'woolgar', 'woolley', 'wormald', 'woronov', 'worthington', 'wouterse', 'wray', 'wright', 'wryn', 'wu', 'wuhl', 'wuhrer', 'wuornos', 'wurmfeld', 'wyatt', 'wylde', 'wyle', 'wyman', 'wymark', 'wymore', 'wyn', 'wyngarde', 'wynn', 'wynter', 'wynyard', 'władysław', 'xander', 'xau', 'xavier', 'xevi', 'xiaolu', 'xiaoxiao', 'xingli', 'xu', 'xue', 'xuna', 'xvi', 'ya', 'yabe', 'yacef', 'yachanin', 'yachigusa', 'yacht', 'yager', 'yagira', 'yahoo', 'yakovlev', 'yakusho', 'yam', 'yamada', 'yamadera', 'yamagata', 'yamaguchi', 'yamamoto', 'yamamura', 'yamazaki', 'yamnarm', 'yancy', 'yang', 'yanin', 'yankovic', 'yankovskiy', 'yann', 'yaphet', 'yaqub', 'yarborough', 'yasbeck', 'yasiin', 'yasmine', 'yasui', 'yasuko', 'yasuo', 'yau', 'yaya', 'yea', 'yedidia', 'yeh', 'yehuda', 'yelchin', 'yella', 'yen', 'yennie', 'yenny', 'yeo', 'yeoh', 'yeon', 'yeung', 'yi', 'yifei', 'yin', 'ying', 'yip', 'yishai', 'yoakam', 'yodkamol', 'yohn', 'yoko', 'yokozawa', 'yolanda', 'yonas', 'yong', 'yoná', 'yoo', 'yoon', 'york', 'yoshi', 'yoshiaki', 'yoshihiko', 'yoshikatsu', 'yoshikawa', 'yoshikazu', 'yoshiko', 'yoshimi', 'yoshimura', 'yoshino', 'yoshio', 'yoshitaka', 'yoshiyuki', 'yost', 'you', 'youki', 'young', 'youngblood', 'youssef', 'yu', 'yuen', 'yui', 'yuka', 'yukari', 'yuki', 'yukie', 'yukiko', 'yukino', 'yuko', 'yul', 'yulin', 'yuliya', 'yum', 'yumeji', 'yumi', 'yumiko', 'yun', 'yung', 'yunjin', 'yuri', 'yuria', 'yuriko', 'yuriy', 'yusef', 'yusuke', 'yutaka', 'yuu', 'yuuko', 'yuya', 'yvan', 'yves', 'yvette', 'yvonne', 'yên', 'yôko', 'yû', 'yûko', 'yûta', 'yûzô', 'yılmaz', 'yōji', 'yōko', 'yūji', 'yūko', 'yến', 'zabit', 'zabka', 'zabou', 'zac', 'zach', 'zacharopoulou', 'zachary', 'zahn', 'zahra', 'zaide', 'zaidl', 'zak', 'zakes', 'zala', 'zamachowski', 'zamira', 'zana', 'zandvliet', 'zane', 'zanin', 'zann', 'zano', 'zarei', 'zarifeh', 'zass', 'zastrzezynski', 'zasu', 'zayas', 'zbigniew', 'zdeněk', 'zech', 'zegerman', 'zegers', 'zehetner', 'zehrfeld', 'zelda', 'zeljko', 'zella', 'zellweger', 'zem', 'zena', 'zerbe', 'zergaw', 'zerneck', 'zero', 'zeta', 'zette', 'zetterling', 'zhang', 'zhao', 'zhenda', 'zheng', 'zhou', 'zhu', 'zhukova', 'zielcke', 'zien', 'ziering', 'ziggy', 'zigrossi', 'zima', 'zimmer', 'zimmerman', 'zina', 'zinedine', 'zirner', 'zita', 'ziyi', 'zizi', 'zizzo', 'zmed', 'zmuda', 'zoe', 'zola', 'zoltán', 'zombie', 'zooey', 'zorn', 'zovatto', 'zoë', 'zsófia', 'zsótér', 'zubaida', 'zubkov', 'zucker', 'zuckerman', 'zudina', 'zuhal', 'zuiderhoek', 'zuleikha', 'zumwalt', 'zuniga', 'zurek', 'zurer', 'zygmunt', 'zylberstein', 'zylka', 'ádám', 'álvarez', 'ángel', 'ángela', 'åkerman', 'écoffey', 'élodie', 'émile', 'émilie', 'óscar', 'ôshima', 'özberk', 'özdemir', 'özge', 'özkan', 'öztekin', 'ünel', 'čepek', 'čukić', 'đan', 'đurić', 'đơn', 'đỗ', 'łukaszewicz', 'šafránková', 'šebánek', 'šišková', 'šovagović', 'štimac', 'žilková', 'žižek', 'анатолій', 'ву', 'дэмиан', 'моррис', 'солоніцин', 'том', 'чапа', 'честнат', 'элениак', 'эрика', '松隆子']\n"
     ]
    }
   ],
   "source": [
    "cosine_matrix = create_cosine_matrix_for_words(small_meta_df)"
   ]
  },
  {
   "cell_type": "code",
   "execution_count": 182,
   "metadata": {},
   "outputs": [
    {
     "data": {
      "text/plain": [
       "15348                   Toy Story 3\n",
       "2997                    Toy Story 2\n",
       "10301        The 40 Year Old Virgin\n",
       "3057                Man on the Moon\n",
       "6435         What's Up, Tiger Lily?\n",
       "1071          Rebel Without a Cause\n",
       "11606                  Factory Girl\n",
       "11399        For Your Consideration\n",
       "1199                      Manhattan\n",
       "1932                      Condorman\n",
       "6944               Rivers and Tides\n",
       "448               For Love or Money\n",
       "485                          Malice\n",
       "7254                 Africa Screams\n",
       "9963                  Life Is Sweet\n",
       "2157              Indecent Proposal\n",
       "10585                   Match Point\n",
       "3145           White Men Can't Jump\n",
       "1045                        Sleeper\n",
       "21190    Woody Allen: A Documentary\n",
       "Name: title, dtype: object"
      ]
     },
     "execution_count": 182,
     "metadata": {},
     "output_type": "execute_result"
    }
   ],
   "source": [
    "get_item_content_recommendations(small_meta_df, cosine_matrix, 'Toy Story')"
   ]
  },
  {
   "cell_type": "code",
   "execution_count": 21,
   "metadata": {},
   "outputs": [
    {
     "data": {
      "text/plain": [
       "3762                           The Eyes of Tammy Faye\n",
       "8153                                         Salesman\n",
       "5554                                       Powaqqatsi\n",
       "6200                                           Stevie\n",
       "438                              The Endless Summer 2\n",
       "748                   Maya Lin: A Strong Clear Vision\n",
       "774                        The Gate of Heavenly Peace\n",
       "2237            Hands on a Hard Body: The Documentary\n",
       "3190                          The Brandon Teena Story\n",
       "3212     Black Tar Heroin: The Dark End of the Street\n",
       "3514                                 Regret to Inform\n",
       "3582                                           Baraka\n",
       "4072                    Long Night's Journey Into Day\n",
       "4210                                      Startup.com\n",
       "5530                    The Trials of Henry Kissinger\n",
       "6262                                       Spellbound\n",
       "6848                                         Girlhood\n",
       "6863                                     My Architect\n",
       "7974                             The Same River Twice\n",
       "8102    Unprecedented: The 2000 Presidential Election\n",
       "Name: title, dtype: object"
      ]
     },
     "execution_count": 21,
     "metadata": {},
     "output_type": "execute_result"
    }
   ],
   "source": [
    "get_item_content_recommendations(small_meta_df, cosine_matrix, 'Africa Screams')"
   ]
  },
  {
   "cell_type": "markdown",
   "metadata": {},
   "source": [
    "## Collaborative filtering / Matrix factorization"
   ]
  },
  {
   "cell_type": "code",
   "execution_count": 22,
   "metadata": {},
   "outputs": [
    {
     "data": {
      "text/html": [
       "<div>\n",
       "<style scoped>\n",
       "    .dataframe tbody tr th:only-of-type {\n",
       "        vertical-align: middle;\n",
       "    }\n",
       "\n",
       "    .dataframe tbody tr th {\n",
       "        vertical-align: top;\n",
       "    }\n",
       "\n",
       "    .dataframe thead th {\n",
       "        text-align: right;\n",
       "    }\n",
       "</style>\n",
       "<table border=\"1\" class=\"dataframe\">\n",
       "  <thead>\n",
       "    <tr style=\"text-align: right;\">\n",
       "      <th></th>\n",
       "      <th>userId</th>\n",
       "      <th>movieId</th>\n",
       "      <th>rating</th>\n",
       "      <th>timestamp</th>\n",
       "    </tr>\n",
       "  </thead>\n",
       "  <tbody>\n",
       "    <tr>\n",
       "      <th>0</th>\n",
       "      <td>1</td>\n",
       "      <td>31</td>\n",
       "      <td>2.5</td>\n",
       "      <td>1260759144</td>\n",
       "    </tr>\n",
       "    <tr>\n",
       "      <th>1</th>\n",
       "      <td>1</td>\n",
       "      <td>1029</td>\n",
       "      <td>3.0</td>\n",
       "      <td>1260759179</td>\n",
       "    </tr>\n",
       "    <tr>\n",
       "      <th>2</th>\n",
       "      <td>1</td>\n",
       "      <td>1061</td>\n",
       "      <td>3.0</td>\n",
       "      <td>1260759182</td>\n",
       "    </tr>\n",
       "    <tr>\n",
       "      <th>3</th>\n",
       "      <td>1</td>\n",
       "      <td>1129</td>\n",
       "      <td>2.0</td>\n",
       "      <td>1260759185</td>\n",
       "    </tr>\n",
       "    <tr>\n",
       "      <th>4</th>\n",
       "      <td>1</td>\n",
       "      <td>1172</td>\n",
       "      <td>4.0</td>\n",
       "      <td>1260759205</td>\n",
       "    </tr>\n",
       "  </tbody>\n",
       "</table>\n",
       "</div>"
      ],
      "text/plain": [
       "   userId  movieId  rating   timestamp\n",
       "0       1       31     2.5  1260759144\n",
       "1       1     1029     3.0  1260759179\n",
       "2       1     1061     3.0  1260759182\n",
       "3       1     1129     2.0  1260759185\n",
       "4       1     1172     4.0  1260759205"
      ]
     },
     "execution_count": 22,
     "metadata": {},
     "output_type": "execute_result"
    }
   ],
   "source": [
    "ratings = pd.read_csv('ratings_small.csv')\n",
    "ratings.head()"
   ]
  },
  {
   "cell_type": "code",
   "execution_count": 23,
   "metadata": {
    "collapsed": true
   },
   "outputs": [],
   "source": [
    "def run_complex_model(ratings_df, model_class, train_on_all_ratings=False):\n",
    "    # use everything imported from surprise library at the beginning\n",
    "    # if train_on_all_ratings=True - train on all ratings\n",
    "    # if train_on_all_ratings=False - split data on 5 folds and do evaluation\n",
    "    pass"
   ]
  },
  {
   "cell_type": "code",
   "execution_count": 24,
   "metadata": {},
   "outputs": [
    {
     "name": "stdout",
     "output_type": "stream",
     "text": [
      "Evaluating RMSE, MAE of algorithm SVD.\n",
      "\n",
      "------------\n",
      "Fold 1\n",
      "RMSE: 0.9006\n",
      "MAE:  0.6935\n",
      "------------\n",
      "Fold 2\n",
      "RMSE: 0.8932\n",
      "MAE:  0.6870\n",
      "------------\n",
      "Fold 3\n",
      "RMSE: 0.8925\n",
      "MAE:  0.6875\n",
      "------------\n",
      "Fold 4\n",
      "RMSE: 0.9027\n",
      "MAE:  0.6940\n",
      "------------\n",
      "Fold 5\n",
      "RMSE: 0.8925\n",
      "MAE:  0.6886\n",
      "------------\n",
      "------------\n",
      "Mean RMSE: 0.8963\n",
      "Mean MAE : 0.6901\n",
      "------------\n",
      "------------\n",
      "Average runtime per fold:  3.7757  seconds\n"
     ]
    }
   ],
   "source": [
    "run_complex_model(ratings, 'SVD')"
   ]
  },
  {
   "cell_type": "code",
   "execution_count": 25,
   "metadata": {},
   "outputs": [
    {
     "name": "stdout",
     "output_type": "stream",
     "text": [
      "Evaluating RMSE, MAE of algorithm KNNBasic.\n",
      "\n",
      "------------\n",
      "Fold 1\n",
      "Computing the msd similarity matrix...\n",
      "Done computing similarity matrix.\n",
      "RMSE: 0.9724\n",
      "MAE:  0.7473\n",
      "------------\n",
      "Fold 2\n",
      "Computing the msd similarity matrix...\n",
      "Done computing similarity matrix.\n",
      "RMSE: 0.9679\n",
      "MAE:  0.7460\n",
      "------------\n",
      "Fold 3\n",
      "Computing the msd similarity matrix...\n",
      "Done computing similarity matrix.\n",
      "RMSE: 0.9593\n",
      "MAE:  0.7374\n",
      "------------\n",
      "Fold 4\n",
      "Computing the msd similarity matrix...\n",
      "Done computing similarity matrix.\n",
      "RMSE: 0.9733\n",
      "MAE:  0.7467\n",
      "------------\n",
      "Fold 5\n",
      "Computing the msd similarity matrix...\n",
      "Done computing similarity matrix.\n",
      "RMSE: 0.9694\n",
      "MAE:  0.7448\n",
      "------------\n",
      "------------\n",
      "Mean RMSE: 0.9685\n",
      "Mean MAE : 0.7444\n",
      "------------\n",
      "------------\n",
      "Average runtime per fold:  1.3753  seconds\n"
     ]
    }
   ],
   "source": [
    "run_complex_model(ratings, 'KNN')"
   ]
  },
  {
   "cell_type": "code",
   "execution_count": 26,
   "metadata": {},
   "outputs": [
    {
     "name": "stdout",
     "output_type": "stream",
     "text": [
      "Computing the msd similarity matrix...\n",
      "Done computing similarity matrix.\n"
     ]
    }
   ],
   "source": [
    "model = run_complex_model(ratings, 'KNN', train_on_all_ratings=True)"
   ]
  },
  {
   "cell_type": "code",
   "execution_count": 27,
   "metadata": {},
   "outputs": [
    {
     "data": {
      "text/html": [
       "<div>\n",
       "<style scoped>\n",
       "    .dataframe tbody tr th:only-of-type {\n",
       "        vertical-align: middle;\n",
       "    }\n",
       "\n",
       "    .dataframe tbody tr th {\n",
       "        vertical-align: top;\n",
       "    }\n",
       "\n",
       "    .dataframe thead th {\n",
       "        text-align: right;\n",
       "    }\n",
       "</style>\n",
       "<table border=\"1\" class=\"dataframe\">\n",
       "  <thead>\n",
       "    <tr style=\"text-align: right;\">\n",
       "      <th></th>\n",
       "      <th>userId</th>\n",
       "      <th>movieId</th>\n",
       "      <th>rating</th>\n",
       "      <th>timestamp</th>\n",
       "    </tr>\n",
       "  </thead>\n",
       "  <tbody>\n",
       "    <tr>\n",
       "      <th>744</th>\n",
       "      <td>10</td>\n",
       "      <td>50</td>\n",
       "      <td>5.0</td>\n",
       "      <td>942766420</td>\n",
       "    </tr>\n",
       "    <tr>\n",
       "      <th>745</th>\n",
       "      <td>10</td>\n",
       "      <td>152</td>\n",
       "      <td>4.0</td>\n",
       "      <td>942766793</td>\n",
       "    </tr>\n",
       "    <tr>\n",
       "      <th>746</th>\n",
       "      <td>10</td>\n",
       "      <td>318</td>\n",
       "      <td>4.0</td>\n",
       "      <td>942766515</td>\n",
       "    </tr>\n",
       "    <tr>\n",
       "      <th>747</th>\n",
       "      <td>10</td>\n",
       "      <td>344</td>\n",
       "      <td>3.0</td>\n",
       "      <td>942766603</td>\n",
       "    </tr>\n",
       "    <tr>\n",
       "      <th>748</th>\n",
       "      <td>10</td>\n",
       "      <td>345</td>\n",
       "      <td>4.0</td>\n",
       "      <td>942766603</td>\n",
       "    </tr>\n",
       "    <tr>\n",
       "      <th>749</th>\n",
       "      <td>10</td>\n",
       "      <td>592</td>\n",
       "      <td>3.0</td>\n",
       "      <td>942767328</td>\n",
       "    </tr>\n",
       "    <tr>\n",
       "      <th>750</th>\n",
       "      <td>10</td>\n",
       "      <td>735</td>\n",
       "      <td>4.0</td>\n",
       "      <td>942766974</td>\n",
       "    </tr>\n",
       "    <tr>\n",
       "      <th>751</th>\n",
       "      <td>10</td>\n",
       "      <td>1036</td>\n",
       "      <td>3.0</td>\n",
       "      <td>942767258</td>\n",
       "    </tr>\n",
       "    <tr>\n",
       "      <th>752</th>\n",
       "      <td>10</td>\n",
       "      <td>1089</td>\n",
       "      <td>3.0</td>\n",
       "      <td>942766420</td>\n",
       "    </tr>\n",
       "    <tr>\n",
       "      <th>753</th>\n",
       "      <td>10</td>\n",
       "      <td>1101</td>\n",
       "      <td>2.0</td>\n",
       "      <td>942767328</td>\n",
       "    </tr>\n",
       "  </tbody>\n",
       "</table>\n",
       "</div>"
      ],
      "text/plain": [
       "     userId  movieId  rating  timestamp\n",
       "744      10       50     5.0  942766420\n",
       "745      10      152     4.0  942766793\n",
       "746      10      318     4.0  942766515\n",
       "747      10      344     3.0  942766603\n",
       "748      10      345     4.0  942766603\n",
       "749      10      592     3.0  942767328\n",
       "750      10      735     4.0  942766974\n",
       "751      10     1036     3.0  942767258\n",
       "752      10     1089     3.0  942766420\n",
       "753      10     1101     2.0  942767328"
      ]
     },
     "execution_count": 27,
     "metadata": {},
     "output_type": "execute_result"
    }
   ],
   "source": [
    "ratings[ratings['userId'] == 10].head(10)"
   ]
  },
  {
   "cell_type": "code",
   "execution_count": 28,
   "metadata": {},
   "outputs": [
    {
     "data": {
      "text/plain": [
       "Prediction(uid=10, iid=50, r_ui=None, est=4.695800531734743, details={'was_impossible': False, 'actual_k': 40})"
      ]
     },
     "execution_count": 28,
     "metadata": {},
     "output_type": "execute_result"
    }
   ],
   "source": [
    "model.predict(10, 50)"
   ]
  },
  {
   "cell_type": "code",
   "execution_count": 29,
   "metadata": {},
   "outputs": [
    {
     "data": {
      "text/plain": [
       "Prediction(uid=10, iid=152, r_ui=None, est=3.8628556780312744, details={'was_impossible': False, 'actual_k': 3})"
      ]
     },
     "execution_count": 29,
     "metadata": {},
     "output_type": "execute_result"
    }
   ],
   "source": [
    "model.predict(10, 152)"
   ]
  },
  {
   "cell_type": "code",
   "execution_count": 30,
   "metadata": {},
   "outputs": [
    {
     "data": {
      "text/plain": [
       "Prediction(uid=10, iid=40, r_ui=None, est=3.971887820297263, details={'was_impossible': False, 'actual_k': 6})"
      ]
     },
     "execution_count": 30,
     "metadata": {},
     "output_type": "execute_result"
    }
   ],
   "source": [
    "model.predict(10, 40)"
   ]
  },
  {
   "cell_type": "markdown",
   "metadata": {},
   "source": [
    "## Hybrid recommendations"
   ]
  },
  {
   "cell_type": "code",
   "execution_count": 31,
   "metadata": {},
   "outputs": [
    {
     "data": {
      "text/html": [
       "<div>\n",
       "<style scoped>\n",
       "    .dataframe tbody tr th:only-of-type {\n",
       "        vertical-align: middle;\n",
       "    }\n",
       "\n",
       "    .dataframe tbody tr th {\n",
       "        vertical-align: top;\n",
       "    }\n",
       "\n",
       "    .dataframe thead th {\n",
       "        text-align: right;\n",
       "    }\n",
       "</style>\n",
       "<table border=\"1\" class=\"dataframe\">\n",
       "  <thead>\n",
       "    <tr style=\"text-align: right;\">\n",
       "      <th></th>\n",
       "      <th>id</th>\n",
       "      <th>title</th>\n",
       "      <th>genres</th>\n",
       "      <th>budget</th>\n",
       "      <th>popularity</th>\n",
       "      <th>vote_average</th>\n",
       "    </tr>\n",
       "  </thead>\n",
       "  <tbody>\n",
       "    <tr>\n",
       "      <th>0</th>\n",
       "      <td>862</td>\n",
       "      <td>Toy Story</td>\n",
       "      <td>[Animation, Comedy, Family]</td>\n",
       "      <td>30000000</td>\n",
       "      <td>21.9469</td>\n",
       "      <td>7.7</td>\n",
       "    </tr>\n",
       "    <tr>\n",
       "      <th>1</th>\n",
       "      <td>8844</td>\n",
       "      <td>Jumanji</td>\n",
       "      <td>[Adventure, Fantasy, Family]</td>\n",
       "      <td>65000000</td>\n",
       "      <td>17.0155</td>\n",
       "      <td>6.9</td>\n",
       "    </tr>\n",
       "    <tr>\n",
       "      <th>2</th>\n",
       "      <td>15602</td>\n",
       "      <td>Grumpier Old Men</td>\n",
       "      <td>[Romance, Comedy]</td>\n",
       "      <td>0</td>\n",
       "      <td>11.7129</td>\n",
       "      <td>6.5</td>\n",
       "    </tr>\n",
       "  </tbody>\n",
       "</table>\n",
       "</div>"
      ],
      "text/plain": [
       "      id             title                        genres    budget popularity  \\\n",
       "0    862         Toy Story   [Animation, Comedy, Family]  30000000    21.9469   \n",
       "1   8844           Jumanji  [Adventure, Fantasy, Family]  65000000    17.0155   \n",
       "2  15602  Grumpier Old Men             [Romance, Comedy]         0    11.7129   \n",
       "\n",
       "   vote_average  \n",
       "0           7.7  \n",
       "1           6.9  \n",
       "2           6.5  "
      ]
     },
     "execution_count": 31,
     "metadata": {},
     "output_type": "execute_result"
    }
   ],
   "source": [
    "small_meta_df[['id', 'title', 'genres', 'budget', 'popularity', 'vote_average']].head(3)"
   ]
  },
  {
   "cell_type": "code",
   "execution_count": 32,
   "metadata": {},
   "outputs": [
    {
     "data": {
      "text/html": [
       "<div>\n",
       "<style scoped>\n",
       "    .dataframe tbody tr th:only-of-type {\n",
       "        vertical-align: middle;\n",
       "    }\n",
       "\n",
       "    .dataframe tbody tr th {\n",
       "        vertical-align: top;\n",
       "    }\n",
       "\n",
       "    .dataframe thead th {\n",
       "        text-align: right;\n",
       "    }\n",
       "</style>\n",
       "<table border=\"1\" class=\"dataframe\">\n",
       "  <thead>\n",
       "    <tr style=\"text-align: right;\">\n",
       "      <th></th>\n",
       "      <th>userId</th>\n",
       "      <th>movieId</th>\n",
       "      <th>rating</th>\n",
       "      <th>timestamp</th>\n",
       "    </tr>\n",
       "  </thead>\n",
       "  <tbody>\n",
       "    <tr>\n",
       "      <th>0</th>\n",
       "      <td>1</td>\n",
       "      <td>31</td>\n",
       "      <td>2.5</td>\n",
       "      <td>1260759144</td>\n",
       "    </tr>\n",
       "    <tr>\n",
       "      <th>1</th>\n",
       "      <td>1</td>\n",
       "      <td>1029</td>\n",
       "      <td>3.0</td>\n",
       "      <td>1260759179</td>\n",
       "    </tr>\n",
       "    <tr>\n",
       "      <th>2</th>\n",
       "      <td>1</td>\n",
       "      <td>1061</td>\n",
       "      <td>3.0</td>\n",
       "      <td>1260759182</td>\n",
       "    </tr>\n",
       "  </tbody>\n",
       "</table>\n",
       "</div>"
      ],
      "text/plain": [
       "   userId  movieId  rating   timestamp\n",
       "0       1       31     2.5  1260759144\n",
       "1       1     1029     3.0  1260759179\n",
       "2       1     1061     3.0  1260759182"
      ]
     },
     "execution_count": 32,
     "metadata": {},
     "output_type": "execute_result"
    }
   ],
   "source": [
    "ratings.head(3)"
   ]
  },
  {
   "cell_type": "code",
   "execution_count": 33,
   "metadata": {
    "collapsed": true
   },
   "outputs": [],
   "source": [
    "def get_hybrid_recommendations(small_meta_df, ratings, userId, title):\n",
    "    pass"
   ]
  },
  {
   "cell_type": "code",
   "execution_count": 34,
   "metadata": {
    "collapsed": true
   },
   "outputs": [],
   "source": [
    "get_hybrid_recommendations(small_meta_df, ratings, 10, 'Central Intelligence')"
   ]
  },
  {
   "cell_type": "code",
   "execution_count": 35,
   "metadata": {
    "collapsed": true
   },
   "outputs": [],
   "source": [
    "get_hybrid_recommendations(small_meta_df, ratings, 10, 'Assassins')"
   ]
  },
  {
   "cell_type": "code",
   "execution_count": 36,
   "metadata": {
    "collapsed": true
   },
   "outputs": [],
   "source": [
    "get_hybrid_recommendations(small_meta_df, ratings, 101, 'Central Intelligence')"
   ]
  },
  {
   "cell_type": "code",
   "execution_count": 37,
   "metadata": {
    "collapsed": true
   },
   "outputs": [],
   "source": [
    "get_hybrid_recommendations(small_meta_df, ratings, 101, 'Assassins')"
   ]
  },
  {
   "cell_type": "code",
   "execution_count": null,
   "metadata": {
    "collapsed": true
   },
   "outputs": [],
   "source": []
  }
 ],
 "metadata": {
  "hide_input": false,
  "kernelspec": {
   "display_name": "Python 3",
   "language": "python",
   "name": "python3"
  },
  "language_info": {
   "codemirror_mode": {
    "name": "ipython",
    "version": 3
   },
   "file_extension": ".py",
   "mimetype": "text/x-python",
   "name": "python",
   "nbconvert_exporter": "python",
   "pygments_lexer": "ipython3",
   "version": "3.6.3"
  }
 },
 "nbformat": 4,
 "nbformat_minor": 2
}
